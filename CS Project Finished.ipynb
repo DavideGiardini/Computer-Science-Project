{
 "cells": [
  {
   "cell_type": "code",
   "execution_count": 1,
   "id": "b39961e5",
   "metadata": {},
   "outputs": [],
   "source": [
    "import pandas as pd\n",
    "import re\n",
    "import datetime\n",
    "import math"
   ]
  },
  {
   "cell_type": "code",
   "execution_count": 2,
   "id": "421cc9cb",
   "metadata": {},
   "outputs": [
    {
     "data": {
      "text/html": [
       "<div>\n",
       "<style scoped>\n",
       "    .dataframe tbody tr th:only-of-type {\n",
       "        vertical-align: middle;\n",
       "    }\n",
       "\n",
       "    .dataframe tbody tr th {\n",
       "        vertical-align: top;\n",
       "    }\n",
       "\n",
       "    .dataframe thead th {\n",
       "        text-align: right;\n",
       "    }\n",
       "</style>\n",
       "<table border=\"1\" class=\"dataframe\">\n",
       "  <thead>\n",
       "    <tr style=\"text-align: right;\">\n",
       "      <th></th>\n",
       "      <th>org_id</th>\n",
       "      <th>url</th>\n",
       "      <th>type.x</th>\n",
       "      <th>species</th>\n",
       "      <th>breed_primary</th>\n",
       "      <th>breed_secondary</th>\n",
       "      <th>breed_mixed</th>\n",
       "      <th>breed_unknown</th>\n",
       "      <th>color_primary</th>\n",
       "      <th>color_secondary</th>\n",
       "      <th>...</th>\n",
       "      <th>contact_city</th>\n",
       "      <th>contact_state</th>\n",
       "      <th>contact_zip</th>\n",
       "      <th>contact_country</th>\n",
       "      <th>stateQ</th>\n",
       "      <th>accessed</th>\n",
       "      <th>type.y</th>\n",
       "      <th>description</th>\n",
       "      <th>stay_duration</th>\n",
       "      <th>stay_cost</th>\n",
       "    </tr>\n",
       "    <tr>\n",
       "      <th>id</th>\n",
       "      <th></th>\n",
       "      <th></th>\n",
       "      <th></th>\n",
       "      <th></th>\n",
       "      <th></th>\n",
       "      <th></th>\n",
       "      <th></th>\n",
       "      <th></th>\n",
       "      <th></th>\n",
       "      <th></th>\n",
       "      <th></th>\n",
       "      <th></th>\n",
       "      <th></th>\n",
       "      <th></th>\n",
       "      <th></th>\n",
       "      <th></th>\n",
       "      <th></th>\n",
       "      <th></th>\n",
       "      <th></th>\n",
       "      <th></th>\n",
       "      <th></th>\n",
       "    </tr>\n",
       "  </thead>\n",
       "  <tbody>\n",
       "    <tr>\n",
       "      <th>46042150</th>\n",
       "      <td>NV163</td>\n",
       "      <td>https://www.petfinder.com/dog/harley-46042150/...</td>\n",
       "      <td>Dog</td>\n",
       "      <td>Dog</td>\n",
       "      <td>American Staffordshire Terrier</td>\n",
       "      <td>Mixed Breed</td>\n",
       "      <td>True</td>\n",
       "      <td>False</td>\n",
       "      <td>White / Cream</td>\n",
       "      <td>Yellow / Tan / Blond / Fawn</td>\n",
       "      <td>...</td>\n",
       "      <td>Las Vegas</td>\n",
       "      <td>NV</td>\n",
       "      <td>89147</td>\n",
       "      <td>US</td>\n",
       "      <td>89009</td>\n",
       "      <td>2019-09-20</td>\n",
       "      <td>Dog</td>\n",
       "      <td>Harley is not sure how he wound up at shelter ...</td>\n",
       "      <td>70</td>\n",
       "      <td>124.81</td>\n",
       "    </tr>\n",
       "    <tr>\n",
       "      <th>46042002</th>\n",
       "      <td>NV163</td>\n",
       "      <td>https://www.petfinder.com/dog/biggie-46042002/...</td>\n",
       "      <td>Dog</td>\n",
       "      <td>Dog</td>\n",
       "      <td>Pit Bull Terrier</td>\n",
       "      <td>Mixed Breed</td>\n",
       "      <td>True</td>\n",
       "      <td>False</td>\n",
       "      <td>Brown / Chocolate</td>\n",
       "      <td>White / Cream</td>\n",
       "      <td>...</td>\n",
       "      <td>Las Vegas</td>\n",
       "      <td>NV</td>\n",
       "      <td>89147</td>\n",
       "      <td>US</td>\n",
       "      <td>89009</td>\n",
       "      <td>2019-09-20</td>\n",
       "      <td>Dog</td>\n",
       "      <td>6 year old Biggie has lost his home and really...</td>\n",
       "      <td>49</td>\n",
       "      <td>122.07</td>\n",
       "    </tr>\n",
       "    <tr>\n",
       "      <th>46040898</th>\n",
       "      <td>NV99</td>\n",
       "      <td>https://www.petfinder.com/dog/ziggy-46040898/n...</td>\n",
       "      <td>Dog</td>\n",
       "      <td>Dog</td>\n",
       "      <td>Shepherd</td>\n",
       "      <td>NaN</td>\n",
       "      <td>False</td>\n",
       "      <td>False</td>\n",
       "      <td>Brindle</td>\n",
       "      <td>NaN</td>\n",
       "      <td>...</td>\n",
       "      <td>Mesquite</td>\n",
       "      <td>NV</td>\n",
       "      <td>89027</td>\n",
       "      <td>US</td>\n",
       "      <td>89009</td>\n",
       "      <td>2019-09-20</td>\n",
       "      <td>Dog</td>\n",
       "      <td>Approx 2 years old.\\n Did I catch your eye? I ...</td>\n",
       "      <td>87</td>\n",
       "      <td>281.51</td>\n",
       "    </tr>\n",
       "    <tr>\n",
       "      <th>46039877</th>\n",
       "      <td>NV202</td>\n",
       "      <td>https://www.petfinder.com/dog/gypsy-46039877/n...</td>\n",
       "      <td>Dog</td>\n",
       "      <td>Dog</td>\n",
       "      <td>German Shepherd Dog</td>\n",
       "      <td>NaN</td>\n",
       "      <td>False</td>\n",
       "      <td>False</td>\n",
       "      <td>NaN</td>\n",
       "      <td>NaN</td>\n",
       "      <td>...</td>\n",
       "      <td>Pahrump</td>\n",
       "      <td>NV</td>\n",
       "      <td>89048</td>\n",
       "      <td>US</td>\n",
       "      <td>89009</td>\n",
       "      <td>2019-09-20</td>\n",
       "      <td>Dog</td>\n",
       "      <td>NaN</td>\n",
       "      <td>62</td>\n",
       "      <td>145.83</td>\n",
       "    </tr>\n",
       "    <tr>\n",
       "      <th>46039306</th>\n",
       "      <td>NV184</td>\n",
       "      <td>https://www.petfinder.com/dog/theo-46039306/nv...</td>\n",
       "      <td>Dog</td>\n",
       "      <td>Dog</td>\n",
       "      <td>Dachshund</td>\n",
       "      <td>NaN</td>\n",
       "      <td>False</td>\n",
       "      <td>False</td>\n",
       "      <td>NaN</td>\n",
       "      <td>NaN</td>\n",
       "      <td>...</td>\n",
       "      <td>Henderson</td>\n",
       "      <td>NV</td>\n",
       "      <td>89052</td>\n",
       "      <td>US</td>\n",
       "      <td>89009</td>\n",
       "      <td>2019-09-20</td>\n",
       "      <td>Dog</td>\n",
       "      <td>Theo is a friendly dachshund mix who gets alon...</td>\n",
       "      <td>93</td>\n",
       "      <td>241.09</td>\n",
       "    </tr>\n",
       "  </tbody>\n",
       "</table>\n",
       "<p>5 rows × 36 columns</p>\n",
       "</div>"
      ],
      "text/plain": [
       "         org_id                                                url type.x  \\\n",
       "id                                                                          \n",
       "46042150  NV163  https://www.petfinder.com/dog/harley-46042150/...    Dog   \n",
       "46042002  NV163  https://www.petfinder.com/dog/biggie-46042002/...    Dog   \n",
       "46040898   NV99  https://www.petfinder.com/dog/ziggy-46040898/n...    Dog   \n",
       "46039877  NV202  https://www.petfinder.com/dog/gypsy-46039877/n...    Dog   \n",
       "46039306  NV184  https://www.petfinder.com/dog/theo-46039306/nv...    Dog   \n",
       "\n",
       "         species                   breed_primary breed_secondary  breed_mixed  \\\n",
       "id                                                                              \n",
       "46042150     Dog  American Staffordshire Terrier     Mixed Breed         True   \n",
       "46042002     Dog                Pit Bull Terrier     Mixed Breed         True   \n",
       "46040898     Dog                        Shepherd             NaN        False   \n",
       "46039877     Dog             German Shepherd Dog             NaN        False   \n",
       "46039306     Dog                       Dachshund             NaN        False   \n",
       "\n",
       "          breed_unknown      color_primary              color_secondary  ...  \\\n",
       "id                                                                       ...   \n",
       "46042150          False      White / Cream  Yellow / Tan / Blond / Fawn  ...   \n",
       "46042002          False  Brown / Chocolate                White / Cream  ...   \n",
       "46040898          False            Brindle                          NaN  ...   \n",
       "46039877          False                NaN                          NaN  ...   \n",
       "46039306          False                NaN                          NaN  ...   \n",
       "\n",
       "         contact_city contact_state contact_zip contact_country stateQ  \\\n",
       "id                                                                       \n",
       "46042150    Las Vegas            NV       89147              US  89009   \n",
       "46042002    Las Vegas            NV       89147              US  89009   \n",
       "46040898     Mesquite            NV       89027              US  89009   \n",
       "46039877      Pahrump            NV       89048              US  89009   \n",
       "46039306    Henderson            NV       89052              US  89009   \n",
       "\n",
       "            accessed  type.y  \\\n",
       "id                             \n",
       "46042150  2019-09-20     Dog   \n",
       "46042002  2019-09-20     Dog   \n",
       "46040898  2019-09-20     Dog   \n",
       "46039877  2019-09-20     Dog   \n",
       "46039306  2019-09-20     Dog   \n",
       "\n",
       "                                                description  stay_duration  \\\n",
       "id                                                                           \n",
       "46042150  Harley is not sure how he wound up at shelter ...             70   \n",
       "46042002  6 year old Biggie has lost his home and really...             49   \n",
       "46040898  Approx 2 years old.\\n Did I catch your eye? I ...             87   \n",
       "46039877                                                NaN             62   \n",
       "46039306  Theo is a friendly dachshund mix who gets alon...             93   \n",
       "\n",
       "          stay_cost  \n",
       "id                   \n",
       "46042150     124.81  \n",
       "46042002     122.07  \n",
       "46040898     281.51  \n",
       "46039877     145.83  \n",
       "46039306     241.09  \n",
       "\n",
       "[5 rows x 36 columns]"
      ]
     },
     "execution_count": 2,
     "metadata": {},
     "output_type": "execute_result"
    }
   ],
   "source": [
    "dogs = pd.read_csv(\"adoptions/dogs.csv\", index_col=0)\n",
    "dogs.head()"
   ]
  },
  {
   "cell_type": "code",
   "execution_count": 3,
   "id": "44d13b27",
   "metadata": {},
   "outputs": [],
   "source": [
    "# Capitalizziamo tutti i nomi in modo che siano uguali\n",
    "dogs['name'] = dogs['name'].str.capitalize()"
   ]
  },
  {
   "cell_type": "code",
   "execution_count": 4,
   "id": "9596d1c9",
   "metadata": {},
   "outputs": [
    {
     "data": {
      "text/html": [
       "<div>\n",
       "<style scoped>\n",
       "    .dataframe tbody tr th:only-of-type {\n",
       "        vertical-align: middle;\n",
       "    }\n",
       "\n",
       "    .dataframe tbody tr th {\n",
       "        vertical-align: top;\n",
       "    }\n",
       "\n",
       "    .dataframe thead th {\n",
       "        text-align: right;\n",
       "    }\n",
       "</style>\n",
       "<table border=\"1\" class=\"dataframe\">\n",
       "  <thead>\n",
       "    <tr style=\"text-align: right;\">\n",
       "      <th></th>\n",
       "      <th>id</th>\n",
       "      <th>contact_city</th>\n",
       "      <th>contact_state</th>\n",
       "      <th>description</th>\n",
       "      <th>found</th>\n",
       "      <th>manual</th>\n",
       "      <th>remove</th>\n",
       "      <th>still_there</th>\n",
       "    </tr>\n",
       "    <tr>\n",
       "      <th>index</th>\n",
       "      <th></th>\n",
       "      <th></th>\n",
       "      <th></th>\n",
       "      <th></th>\n",
       "      <th></th>\n",
       "      <th></th>\n",
       "      <th></th>\n",
       "      <th></th>\n",
       "    </tr>\n",
       "  </thead>\n",
       "  <tbody>\n",
       "    <tr>\n",
       "      <th>0</th>\n",
       "      <td>44520267</td>\n",
       "      <td>Anoka</td>\n",
       "      <td>MN</td>\n",
       "      <td>Boris is a handsome mini schnauzer who made hi...</td>\n",
       "      <td>Arkansas</td>\n",
       "      <td>NaN</td>\n",
       "      <td>NaN</td>\n",
       "      <td>NaN</td>\n",
       "    </tr>\n",
       "    <tr>\n",
       "      <th>1</th>\n",
       "      <td>44698509</td>\n",
       "      <td>Groveland</td>\n",
       "      <td>FL</td>\n",
       "      <td>Duke is an almost 2 year old Potcake from Abac...</td>\n",
       "      <td>Abacos</td>\n",
       "      <td>Bahamas</td>\n",
       "      <td>NaN</td>\n",
       "      <td>NaN</td>\n",
       "    </tr>\n",
       "    <tr>\n",
       "      <th>2</th>\n",
       "      <td>45983838</td>\n",
       "      <td>Adamstown</td>\n",
       "      <td>MD</td>\n",
       "      <td>Zac Woof-ron is a heartthrob movie star lookin...</td>\n",
       "      <td>Adam</td>\n",
       "      <td>Maryland</td>\n",
       "      <td>NaN</td>\n",
       "      <td>NaN</td>\n",
       "    </tr>\n",
       "    <tr>\n",
       "      <th>3</th>\n",
       "      <td>44475904</td>\n",
       "      <td>Saint Cloud</td>\n",
       "      <td>MN</td>\n",
       "      <td>~~Came in to the shelter as a transfer from an...</td>\n",
       "      <td>Adaptil</td>\n",
       "      <td>NaN</td>\n",
       "      <td>True</td>\n",
       "      <td>NaN</td>\n",
       "    </tr>\n",
       "    <tr>\n",
       "      <th>4</th>\n",
       "      <td>43877389</td>\n",
       "      <td>Pueblo</td>\n",
       "      <td>CO</td>\n",
       "      <td>Palang is such a sweetheart. She loves her peo...</td>\n",
       "      <td>Afghanistan</td>\n",
       "      <td>NaN</td>\n",
       "      <td>NaN</td>\n",
       "      <td>NaN</td>\n",
       "    </tr>\n",
       "  </tbody>\n",
       "</table>\n",
       "</div>"
      ],
      "text/plain": [
       "             id contact_city contact_state  \\\n",
       "index                                        \n",
       "0      44520267        Anoka            MN   \n",
       "1      44698509    Groveland            FL   \n",
       "2      45983838    Adamstown            MD   \n",
       "3      44475904  Saint Cloud            MN   \n",
       "4      43877389       Pueblo            CO   \n",
       "\n",
       "                                             description        found  \\\n",
       "index                                                                   \n",
       "0      Boris is a handsome mini schnauzer who made hi...     Arkansas   \n",
       "1      Duke is an almost 2 year old Potcake from Abac...       Abacos   \n",
       "2      Zac Woof-ron is a heartthrob movie star lookin...         Adam   \n",
       "3      ~~Came in to the shelter as a transfer from an...      Adaptil   \n",
       "4      Palang is such a sweetheart. She loves her peo...  Afghanistan   \n",
       "\n",
       "         manual remove still_there  \n",
       "index                               \n",
       "0           NaN    NaN         NaN  \n",
       "1       Bahamas    NaN         NaN  \n",
       "2      Maryland    NaN         NaN  \n",
       "3           NaN   True         NaN  \n",
       "4           NaN    NaN         NaN  "
      ]
     },
     "execution_count": 4,
     "metadata": {},
     "output_type": "execute_result"
    }
   ],
   "source": [
    "travels = pd.read_csv(\"adoptions/dogTravel.csv\", index_col=0)\n",
    "travels.head()"
   ]
  },
  {
   "cell_type": "code",
   "execution_count": 5,
   "id": "763c2ad0",
   "metadata": {
    "scrolled": true
   },
   "outputs": [
    {
     "data": {
      "text/html": [
       "<div>\n",
       "<style scoped>\n",
       "    .dataframe tbody tr th:only-of-type {\n",
       "        vertical-align: middle;\n",
       "    }\n",
       "\n",
       "    .dataframe tbody tr th {\n",
       "        vertical-align: top;\n",
       "    }\n",
       "\n",
       "    .dataframe thead th {\n",
       "        text-align: right;\n",
       "    }\n",
       "</style>\n",
       "<table border=\"1\" class=\"dataframe\">\n",
       "  <thead>\n",
       "    <tr style=\"text-align: right;\">\n",
       "      <th></th>\n",
       "      <th>state</th>\n",
       "      <th>population</th>\n",
       "    </tr>\n",
       "  </thead>\n",
       "  <tbody>\n",
       "    <tr>\n",
       "      <th>0</th>\n",
       "      <td>Alabama</td>\n",
       "      <td>5024279</td>\n",
       "    </tr>\n",
       "    <tr>\n",
       "      <th>1</th>\n",
       "      <td>Alaska</td>\n",
       "      <td>733391</td>\n",
       "    </tr>\n",
       "    <tr>\n",
       "      <th>2</th>\n",
       "      <td>Arizona</td>\n",
       "      <td>7151502</td>\n",
       "    </tr>\n",
       "    <tr>\n",
       "      <th>3</th>\n",
       "      <td>Arkansas</td>\n",
       "      <td>3011524</td>\n",
       "    </tr>\n",
       "    <tr>\n",
       "      <th>4</th>\n",
       "      <td>California</td>\n",
       "      <td>39538223</td>\n",
       "    </tr>\n",
       "  </tbody>\n",
       "</table>\n",
       "</div>"
      ],
      "text/plain": [
       "        state  population\n",
       "0     Alabama     5024279\n",
       "1      Alaska      733391\n",
       "2     Arizona     7151502\n",
       "3    Arkansas     3011524\n",
       "4  California    39538223"
      ]
     },
     "execution_count": 5,
     "metadata": {},
     "output_type": "execute_result"
    }
   ],
   "source": [
    "NST = pd.read_csv(\"adoptions/NST-EST2021-POP.csv\", header=None, thousands='.')\n",
    "NST.columns = ['state', 'population']\n",
    "NST.head()"
   ]
  },
  {
   "cell_type": "markdown",
   "id": "b3642300",
   "metadata": {},
   "source": [
    "# 1. Extract all dogs with status that is not *adoptable*"
   ]
  },
  {
   "cell_type": "code",
   "execution_count": 6,
   "id": "7215971e",
   "metadata": {},
   "outputs": [
    {
     "data": {
      "text/html": [
       "<div>\n",
       "<style scoped>\n",
       "    .dataframe tbody tr th:only-of-type {\n",
       "        vertical-align: middle;\n",
       "    }\n",
       "\n",
       "    .dataframe tbody tr th {\n",
       "        vertical-align: top;\n",
       "    }\n",
       "\n",
       "    .dataframe thead th {\n",
       "        text-align: right;\n",
       "    }\n",
       "</style>\n",
       "<table border=\"1\" class=\"dataframe\">\n",
       "  <thead>\n",
       "    <tr style=\"text-align: right;\">\n",
       "      <th></th>\n",
       "      <th>org_id</th>\n",
       "      <th>url</th>\n",
       "      <th>type.x</th>\n",
       "      <th>species</th>\n",
       "      <th>breed_primary</th>\n",
       "      <th>breed_secondary</th>\n",
       "      <th>breed_mixed</th>\n",
       "      <th>breed_unknown</th>\n",
       "      <th>color_primary</th>\n",
       "      <th>color_secondary</th>\n",
       "      <th>...</th>\n",
       "      <th>contact_city</th>\n",
       "      <th>contact_state</th>\n",
       "      <th>contact_zip</th>\n",
       "      <th>contact_country</th>\n",
       "      <th>stateQ</th>\n",
       "      <th>accessed</th>\n",
       "      <th>type.y</th>\n",
       "      <th>description</th>\n",
       "      <th>stay_duration</th>\n",
       "      <th>stay_cost</th>\n",
       "    </tr>\n",
       "    <tr>\n",
       "      <th>id</th>\n",
       "      <th></th>\n",
       "      <th></th>\n",
       "      <th></th>\n",
       "      <th></th>\n",
       "      <th></th>\n",
       "      <th></th>\n",
       "      <th></th>\n",
       "      <th></th>\n",
       "      <th></th>\n",
       "      <th></th>\n",
       "      <th></th>\n",
       "      <th></th>\n",
       "      <th></th>\n",
       "      <th></th>\n",
       "      <th></th>\n",
       "      <th></th>\n",
       "      <th></th>\n",
       "      <th></th>\n",
       "      <th></th>\n",
       "      <th></th>\n",
       "      <th></th>\n",
       "    </tr>\n",
       "  </thead>\n",
       "  <tbody>\n",
       "    <tr>\n",
       "      <th>41330726</th>\n",
       "      <td>NV173</td>\n",
       "      <td>https://www.petfinder.com/dog/gunther-gunny-41...</td>\n",
       "      <td>Dog</td>\n",
       "      <td>Dog</td>\n",
       "      <td>German Shepherd Dog</td>\n",
       "      <td>NaN</td>\n",
       "      <td>False</td>\n",
       "      <td>False</td>\n",
       "      <td>NaN</td>\n",
       "      <td>NaN</td>\n",
       "      <td>...</td>\n",
       "      <td>NV</td>\n",
       "      <td>89146</td>\n",
       "      <td>US</td>\n",
       "      <td>89009</td>\n",
       "      <td>2019-09-20</td>\n",
       "      <td>NaN</td>\n",
       "      <td>Dog</td>\n",
       "      <td>Meet handsome 3 year old Gunther. Gunther came...</td>\n",
       "      <td>108</td>\n",
       "      <td>256.88</td>\n",
       "    </tr>\n",
       "    <tr>\n",
       "      <th>38169117</th>\n",
       "      <td>AZ414</td>\n",
       "      <td>https://www.petfinder.com/dog/annabelle-annie-...</td>\n",
       "      <td>Dog</td>\n",
       "      <td>Dog</td>\n",
       "      <td>Boxer</td>\n",
       "      <td>Pit Bull Terrier</td>\n",
       "      <td>True</td>\n",
       "      <td>False</td>\n",
       "      <td>Black</td>\n",
       "      <td>White / Cream</td>\n",
       "      <td>...</td>\n",
       "      <td>AZ</td>\n",
       "      <td>85249</td>\n",
       "      <td>US</td>\n",
       "      <td>AZ</td>\n",
       "      <td>2019-09-20</td>\n",
       "      <td>NaN</td>\n",
       "      <td>Dog</td>\n",
       "      <td>You can fill out an adoption application onlin...</td>\n",
       "      <td>80</td>\n",
       "      <td>130.77</td>\n",
       "    </tr>\n",
       "    <tr>\n",
       "      <th>45833989</th>\n",
       "      <td>NY98</td>\n",
       "      <td>https://www.petfinder.com/dog/pepper-courtesy-...</td>\n",
       "      <td>Dog</td>\n",
       "      <td>Dog</td>\n",
       "      <td>Beagle</td>\n",
       "      <td>NaN</td>\n",
       "      <td>False</td>\n",
       "      <td>False</td>\n",
       "      <td>NaN</td>\n",
       "      <td>NaN</td>\n",
       "      <td>...</td>\n",
       "      <td>NY</td>\n",
       "      <td>12220</td>\n",
       "      <td>US</td>\n",
       "      <td>CT</td>\n",
       "      <td>2019-09-20</td>\n",
       "      <td>NaN</td>\n",
       "      <td>Dog</td>\n",
       "      <td>This is Pepper. He is a 15 year old tri-color ...</td>\n",
       "      <td>86</td>\n",
       "      <td>180.70</td>\n",
       "    </tr>\n",
       "    <tr>\n",
       "      <th>45515547</th>\n",
       "      <td>NY98</td>\n",
       "      <td>https://www.petfinder.com/dog/cooper-courtesy-...</td>\n",
       "      <td>Dog</td>\n",
       "      <td>Dog</td>\n",
       "      <td>Mixed Breed</td>\n",
       "      <td>NaN</td>\n",
       "      <td>False</td>\n",
       "      <td>False</td>\n",
       "      <td>NaN</td>\n",
       "      <td>NaN</td>\n",
       "      <td>...</td>\n",
       "      <td>NY</td>\n",
       "      <td>12220</td>\n",
       "      <td>US</td>\n",
       "      <td>CT</td>\n",
       "      <td>2019-09-20</td>\n",
       "      <td>NaN</td>\n",
       "      <td>Dog</td>\n",
       "      <td>Cooper is 13 years old, but according to a ver...</td>\n",
       "      <td>105</td>\n",
       "      <td>400.82</td>\n",
       "    </tr>\n",
       "    <tr>\n",
       "      <th>45294115</th>\n",
       "      <td>NY98</td>\n",
       "      <td>https://www.petfinder.com/dog/daisy-courtesy-l...</td>\n",
       "      <td>Dog</td>\n",
       "      <td>Dog</td>\n",
       "      <td>Basset Hound</td>\n",
       "      <td>NaN</td>\n",
       "      <td>False</td>\n",
       "      <td>False</td>\n",
       "      <td>Brown / Chocolate</td>\n",
       "      <td>White / Cream</td>\n",
       "      <td>...</td>\n",
       "      <td>NY</td>\n",
       "      <td>12220</td>\n",
       "      <td>US</td>\n",
       "      <td>CT</td>\n",
       "      <td>2019-09-20</td>\n",
       "      <td>NaN</td>\n",
       "      <td>Dog</td>\n",
       "      <td>â¢Basset Hound, female, â¢10 years \\n\\nDelig...</td>\n",
       "      <td>57</td>\n",
       "      <td>82.61</td>\n",
       "    </tr>\n",
       "  </tbody>\n",
       "</table>\n",
       "<p>5 rows × 36 columns</p>\n",
       "</div>"
      ],
      "text/plain": [
       "         org_id                                                url type.x  \\\n",
       "id                                                                          \n",
       "41330726  NV173  https://www.petfinder.com/dog/gunther-gunny-41...    Dog   \n",
       "38169117  AZ414  https://www.petfinder.com/dog/annabelle-annie-...    Dog   \n",
       "45833989   NY98  https://www.petfinder.com/dog/pepper-courtesy-...    Dog   \n",
       "45515547   NY98  https://www.petfinder.com/dog/cooper-courtesy-...    Dog   \n",
       "45294115   NY98  https://www.petfinder.com/dog/daisy-courtesy-l...    Dog   \n",
       "\n",
       "         species        breed_primary   breed_secondary  breed_mixed  \\\n",
       "id                                                                     \n",
       "41330726     Dog  German Shepherd Dog               NaN        False   \n",
       "38169117     Dog                Boxer  Pit Bull Terrier         True   \n",
       "45833989     Dog               Beagle               NaN        False   \n",
       "45515547     Dog          Mixed Breed               NaN        False   \n",
       "45294115     Dog         Basset Hound               NaN        False   \n",
       "\n",
       "          breed_unknown      color_primary color_secondary  ... contact_city  \\\n",
       "id                                                          ...                \n",
       "41330726          False                NaN             NaN  ...           NV   \n",
       "38169117          False              Black   White / Cream  ...           AZ   \n",
       "45833989          False                NaN             NaN  ...           NY   \n",
       "45515547          False                NaN             NaN  ...           NY   \n",
       "45294115          False  Brown / Chocolate   White / Cream  ...           NY   \n",
       "\n",
       "         contact_state contact_zip contact_country      stateQ  accessed  \\\n",
       "id                                                                         \n",
       "41330726         89146          US           89009  2019-09-20       NaN   \n",
       "38169117         85249          US              AZ  2019-09-20       NaN   \n",
       "45833989         12220          US              CT  2019-09-20       NaN   \n",
       "45515547         12220          US              CT  2019-09-20       NaN   \n",
       "45294115         12220          US              CT  2019-09-20       NaN   \n",
       "\n",
       "          type.y                                        description  \\\n",
       "id                                                                    \n",
       "41330726     Dog  Meet handsome 3 year old Gunther. Gunther came...   \n",
       "38169117     Dog  You can fill out an adoption application onlin...   \n",
       "45833989     Dog  This is Pepper. He is a 15 year old tri-color ...   \n",
       "45515547     Dog  Cooper is 13 years old, but according to a ver...   \n",
       "45294115     Dog  â¢Basset Hound, female, â¢10 years \\n\\nDelig...   \n",
       "\n",
       "          stay_duration  stay_cost  \n",
       "id                                  \n",
       "41330726            108     256.88  \n",
       "38169117             80     130.77  \n",
       "45833989             86     180.70  \n",
       "45515547            105     400.82  \n",
       "45294115             57      82.61  \n",
       "\n",
       "[5 rows x 36 columns]"
      ]
     },
     "execution_count": 6,
     "metadata": {},
     "output_type": "execute_result"
    }
   ],
   "source": [
    "dogs[dogs['status'] != 'adoptable'].head()"
   ]
  },
  {
   "cell_type": "markdown",
   "id": "64cdf035",
   "metadata": {},
   "source": [
    "# 2. For each (primary) breed, determine the number of dogs"
   ]
  },
  {
   "cell_type": "code",
   "execution_count": 7,
   "id": "dc2b0600",
   "metadata": {},
   "outputs": [
    {
     "data": {
      "text/plain": [
       "breed_primary\n",
       "Affenpinscher                         17\n",
       "Afghan Hound                           4\n",
       "Airedale Terrier                      19\n",
       "Akbash                                 3\n",
       "Akita                                181\n",
       "                                    ... \n",
       "Wirehaired Pointing Griffon            1\n",
       "Wirehaired Terrier                    60\n",
       "Xoloitzcuintli / Mexican Hairless     11\n",
       "Yellow Labrador Retriever            158\n",
       "Yorkshire Terrier                    360\n",
       "Name: org_id, Length: 216, dtype: int64"
      ]
     },
     "execution_count": 7,
     "metadata": {},
     "output_type": "execute_result"
    }
   ],
   "source": [
    "dogs_grouped = dogs.groupby('breed_primary').count()\n",
    "dogs_grouped['org_id']"
   ]
  },
  {
   "cell_type": "markdown",
   "id": "4f956b04",
   "metadata": {},
   "source": [
    "# 3. For each (primary) breed, determine the ratio between the number of dogs of Mixed Breed and those not of Mixed Breed. Hint: look at the secondary_breed."
   ]
  },
  {
   "cell_type": "code",
   "execution_count": 8,
   "id": "9b0a4b65",
   "metadata": {},
   "outputs": [
    {
     "data": {
      "text/plain": [
       "breed_primary\n",
       "Affenpinscher                        0.133333\n",
       "Afghan Hound                         0.333333\n",
       "Airedale Terrier                     0.900000\n",
       "Akbash                               0.000000\n",
       "Akita                                0.403101\n",
       "                                       ...   \n",
       "Wirehaired Pointing Griffon          0.000000\n",
       "Wirehaired Terrier                   0.428571\n",
       "Xoloitzcuintli / Mexican Hairless    0.571429\n",
       "Yellow Labrador Retriever            0.645833\n",
       "Yorkshire Terrier                    0.558442\n",
       "Length: 216, dtype: float64"
      ]
     },
     "execution_count": 8,
     "metadata": {},
     "output_type": "execute_result"
    }
   ],
   "source": [
    "dogs_grouped['breed_secondary']/(dogs_grouped['org_id']-dogs_grouped['breed_secondary'])"
   ]
  },
  {
   "cell_type": "markdown",
   "id": "e25a5043",
   "metadata": {},
   "source": [
    "# 4. For each (primary) breed, determine the earliest and the latest posted timestamp."
   ]
  },
  {
   "cell_type": "code",
   "execution_count": 9,
   "id": "e7d7e511",
   "metadata": {},
   "outputs": [],
   "source": [
    "# Creiamo un subset con tutte le righe da correggere\n",
    "# Troviamo queste righe cercando, nella colonna posted, celle che contengono lettere\n",
    "dogsToCorrect = dogs[dogs['posted'].str.match(\"\\D+\")]"
   ]
  },
  {
   "cell_type": "code",
   "execution_count": 10,
   "id": "3efa797c",
   "metadata": {},
   "outputs": [],
   "source": [
    "# creiamo una nuova lista names al cui interno metteremo i nomi corretti\n",
    "names = []\n",
    "for line in dogsToCorrect['name']:\n",
    "    names.append(re.search('\\w+', line).group().capitalize())"
   ]
  },
  {
   "cell_type": "code",
   "execution_count": 11,
   "id": "8e66f087",
   "metadata": {},
   "outputs": [
    {
     "data": {
      "text/html": [
       "<div>\n",
       "<style scoped>\n",
       "    .dataframe tbody tr th:only-of-type {\n",
       "        vertical-align: middle;\n",
       "    }\n",
       "\n",
       "    .dataframe tbody tr th {\n",
       "        vertical-align: top;\n",
       "    }\n",
       "\n",
       "    .dataframe thead th {\n",
       "        text-align: right;\n",
       "    }\n",
       "</style>\n",
       "<table border=\"1\" class=\"dataframe\">\n",
       "  <thead>\n",
       "    <tr style=\"text-align: right;\">\n",
       "      <th></th>\n",
       "      <th>posted</th>\n",
       "      <th>contact_city</th>\n",
       "      <th>contact_state</th>\n",
       "      <th>contact_zip</th>\n",
       "      <th>contact_country</th>\n",
       "      <th>stateQ</th>\n",
       "      <th>accessed</th>\n",
       "    </tr>\n",
       "    <tr>\n",
       "      <th>id</th>\n",
       "      <th></th>\n",
       "      <th></th>\n",
       "      <th></th>\n",
       "      <th></th>\n",
       "      <th></th>\n",
       "      <th></th>\n",
       "      <th></th>\n",
       "    </tr>\n",
       "  </thead>\n",
       "  <tbody>\n",
       "    <tr>\n",
       "      <th>41330726</th>\n",
       "      <td>2018-04-05T05:18:31+0000</td>\n",
       "      <td>Las Vegas</td>\n",
       "      <td>NV</td>\n",
       "      <td>89146</td>\n",
       "      <td>US</td>\n",
       "      <td>89009</td>\n",
       "      <td>2019-09-20</td>\n",
       "    </tr>\n",
       "    <tr>\n",
       "      <th>38169117</th>\n",
       "      <td>2017-05-26T21:43:16+0000</td>\n",
       "      <td>Chandler</td>\n",
       "      <td>AZ</td>\n",
       "      <td>85249</td>\n",
       "      <td>US</td>\n",
       "      <td>AZ</td>\n",
       "      <td>2019-09-20</td>\n",
       "    </tr>\n",
       "    <tr>\n",
       "      <th>45833989</th>\n",
       "      <td>2019-09-01T15:12:06+0000</td>\n",
       "      <td>Albany</td>\n",
       "      <td>NY</td>\n",
       "      <td>12220</td>\n",
       "      <td>US</td>\n",
       "      <td>CT</td>\n",
       "      <td>2019-09-20</td>\n",
       "    </tr>\n",
       "    <tr>\n",
       "      <th>45515547</th>\n",
       "      <td>2019-08-06T12:15:58+0000</td>\n",
       "      <td>Albany</td>\n",
       "      <td>NY</td>\n",
       "      <td>12220</td>\n",
       "      <td>US</td>\n",
       "      <td>CT</td>\n",
       "      <td>2019-09-20</td>\n",
       "    </tr>\n",
       "    <tr>\n",
       "      <th>45294115</th>\n",
       "      <td>2019-07-18T14:20:58+0000</td>\n",
       "      <td>Albany</td>\n",
       "      <td>NY</td>\n",
       "      <td>12220</td>\n",
       "      <td>US</td>\n",
       "      <td>CT</td>\n",
       "      <td>2019-09-20</td>\n",
       "    </tr>\n",
       "  </tbody>\n",
       "</table>\n",
       "</div>"
      ],
      "text/plain": [
       "                            posted contact_city contact_state contact_zip  \\\n",
       "id                                                                          \n",
       "41330726  2018-04-05T05:18:31+0000    Las Vegas            NV       89146   \n",
       "38169117  2017-05-26T21:43:16+0000     Chandler            AZ       85249   \n",
       "45833989  2019-09-01T15:12:06+0000       Albany            NY       12220   \n",
       "45515547  2019-08-06T12:15:58+0000       Albany            NY       12220   \n",
       "45294115  2019-07-18T14:20:58+0000       Albany            NY       12220   \n",
       "\n",
       "         contact_country stateQ    accessed  \n",
       "id                                           \n",
       "41330726              US  89009  2019-09-20  \n",
       "38169117              US     AZ  2019-09-20  \n",
       "45833989              US     CT  2019-09-20  \n",
       "45515547              US     CT  2019-09-20  \n",
       "45294115              US     CT  2019-09-20  "
      ]
     },
     "execution_count": 11,
     "metadata": {},
     "output_type": "execute_result"
    }
   ],
   "source": [
    "# costruiamo un subset formato solo dalle colonne sbagliate\n",
    "correction = dogsToCorrect.loc[:,'status':'stateQ']\n",
    "# shiftiamo il nome delle colonne del subset\n",
    "# in questo modo chiamiamo le colonne dalla 24 alla 31 con i nomi dalla 25 alla 32\n",
    "correction.columns = dogs.keys()[25:32]\n",
    "correction.head()"
   ]
  },
  {
   "cell_type": "code",
   "execution_count": 12,
   "id": "c91aeccc",
   "metadata": {},
   "outputs": [],
   "source": [
    "df1 = dogsToCorrect.loc[:,:'env_cats']\n",
    "df1['name'] = names\n",
    "df1['status'] = None"
   ]
  },
  {
   "cell_type": "code",
   "execution_count": 13,
   "id": "3408657a",
   "metadata": {},
   "outputs": [],
   "source": [
    "df2 = dogsToCorrect.loc[:,'type.y':]"
   ]
  },
  {
   "cell_type": "code",
   "execution_count": 14,
   "id": "3630a4bc",
   "metadata": {},
   "outputs": [],
   "source": [
    "dogs2 = pd.concat([df1, correction, df2], axis=1)"
   ]
  },
  {
   "cell_type": "code",
   "execution_count": 15,
   "id": "e40e7513",
   "metadata": {},
   "outputs": [],
   "source": [
    "# prendiamo le righe giuste sin dall'inizio cancellando con drop le righe sbagliate\n",
    "dogs = dogs.drop(dogs2.index)"
   ]
  },
  {
   "cell_type": "code",
   "execution_count": 16,
   "id": "65244885",
   "metadata": {},
   "outputs": [],
   "source": [
    "# e le aggiungiamo alle righe appena corrette\n",
    "dogs = pd.concat([dogs,dogs2])"
   ]
  },
  {
   "cell_type": "code",
   "execution_count": 17,
   "id": "62999f52",
   "metadata": {},
   "outputs": [],
   "source": [
    "dogs['posted'] = pd.to_datetime(dogs['posted'], format='%Y-%m-%d %H:%M:%S')"
   ]
  },
  {
   "cell_type": "code",
   "execution_count": 18,
   "id": "8a4ca38b",
   "metadata": {},
   "outputs": [
    {
     "data": {
      "text/plain": [
       "breed_primary\n",
       "Affenpinscher                       2019-09-14 10:10:51+00:00\n",
       "Afghan Hound                        2019-07-27 00:38:48+00:00\n",
       "Airedale Terrier                    2019-09-19 18:40:39+00:00\n",
       "Akbash                              2019-08-23 17:11:04+00:00\n",
       "Akita                               2019-09-20 15:19:57+00:00\n",
       "                                               ...           \n",
       "Wirehaired Pointing Griffon         2016-06-29 20:03:55+00:00\n",
       "Wirehaired Terrier                  2019-09-19 22:52:45+00:00\n",
       "Xoloitzcuintli / Mexican Hairless   2019-09-08 11:15:54+00:00\n",
       "Yellow Labrador Retriever           2019-09-20 06:30:27+00:00\n",
       "Yorkshire Terrier                   2019-09-20 16:56:38+00:00\n",
       "Name: posted, Length: 216, dtype: datetime64[ns, UTC]"
      ]
     },
     "execution_count": 18,
     "metadata": {},
     "output_type": "execute_result"
    }
   ],
   "source": [
    "dogs.groupby('breed_primary')['posted'].max()"
   ]
  },
  {
   "cell_type": "code",
   "execution_count": 19,
   "id": "538a0904",
   "metadata": {},
   "outputs": [
    {
     "data": {
      "text/plain": [
       "breed_primary\n",
       "Affenpinscher                       2012-03-08 10:27:33+00:00\n",
       "Afghan Hound                        2017-06-29 23:28:51+00:00\n",
       "Airedale Terrier                    2014-06-13 12:59:36+00:00\n",
       "Akbash                              2019-07-21 00:35:59+00:00\n",
       "Akita                               2012-03-03 09:31:08+00:00\n",
       "                                               ...           \n",
       "Wirehaired Pointing Griffon         2016-06-29 20:03:55+00:00\n",
       "Wirehaired Terrier                  2012-11-27 14:07:54+00:00\n",
       "Xoloitzcuintli / Mexican Hairless   2007-02-01 00:00:00+00:00\n",
       "Yellow Labrador Retriever           2010-05-31 00:00:00+00:00\n",
       "Yorkshire Terrier                   2012-02-04 17:14:52+00:00\n",
       "Name: posted, Length: 216, dtype: datetime64[ns, UTC]"
      ]
     },
     "execution_count": 19,
     "metadata": {},
     "output_type": "execute_result"
    }
   ],
   "source": [
    "dogs.groupby('breed_primary')['posted'].min()"
   ]
  },
  {
   "cell_type": "markdown",
   "id": "a0dd8400",
   "metadata": {},
   "source": [
    "# 5. For each state, compute the sex imbalance, that is the difference between male and female dogs. In which state this imbalance is largest?"
   ]
  },
  {
   "cell_type": "code",
   "execution_count": 20,
   "id": "b41b5a6c",
   "metadata": {},
   "outputs": [],
   "source": [
    "def sex(row):\n",
    "    if row['sex'] == 'Male':\n",
    "        return 1\n",
    "    elif row['sex'] == 'Female':\n",
    "        return -1"
   ]
  },
  {
   "cell_type": "code",
   "execution_count": 21,
   "id": "cfdccaf4",
   "metadata": {},
   "outputs": [],
   "source": [
    "dogs['sex_imbalance'] = dogs.apply(sex, axis=1)"
   ]
  },
  {
   "cell_type": "code",
   "execution_count": 22,
   "id": "c3fdf117",
   "metadata": {},
   "outputs": [],
   "source": [
    "imbalance = dogs.groupby('contact_state')['sex_imbalance'].sum()"
   ]
  },
  {
   "cell_type": "code",
   "execution_count": 23,
   "id": "3812938d",
   "metadata": {},
   "outputs": [
    {
     "data": {
      "text/plain": [
       "contact_state\n",
       "OH    205.0\n",
       "Name: sex_imbalance, dtype: float64"
      ]
     },
     "execution_count": 23,
     "metadata": {},
     "output_type": "execute_result"
    }
   ],
   "source": [
    "imbalance[imbalance == imbalance.max()]"
   ]
  },
  {
   "cell_type": "code",
   "execution_count": 24,
   "id": "9dc3dcf6",
   "metadata": {},
   "outputs": [
    {
     "data": {
      "text/plain": [
       "'OH'"
      ]
     },
     "execution_count": 24,
     "metadata": {},
     "output_type": "execute_result"
    }
   ],
   "source": [
    "# Oppure, per avere solo il nome\n",
    "imbalance.idxmax()"
   ]
  },
  {
   "cell_type": "markdown",
   "id": "38f2e0bc",
   "metadata": {},
   "source": [
    "# 6. For each pair (age, size), determine the average duration of the stay and the average cost of stay."
   ]
  },
  {
   "cell_type": "code",
   "execution_count": 25,
   "id": "b4af3452",
   "metadata": {},
   "outputs": [
    {
     "data": {
      "text/html": [
       "<div>\n",
       "<style scoped>\n",
       "    .dataframe tbody tr th:only-of-type {\n",
       "        vertical-align: middle;\n",
       "    }\n",
       "\n",
       "    .dataframe tbody tr th {\n",
       "        vertical-align: top;\n",
       "    }\n",
       "\n",
       "    .dataframe thead th {\n",
       "        text-align: right;\n",
       "    }\n",
       "</style>\n",
       "<table border=\"1\" class=\"dataframe\">\n",
       "  <thead>\n",
       "    <tr style=\"text-align: right;\">\n",
       "      <th></th>\n",
       "      <th></th>\n",
       "      <th>stay_duration</th>\n",
       "      <th>stay_cost</th>\n",
       "    </tr>\n",
       "    <tr>\n",
       "      <th>age</th>\n",
       "      <th>size</th>\n",
       "      <th></th>\n",
       "      <th></th>\n",
       "    </tr>\n",
       "  </thead>\n",
       "  <tbody>\n",
       "    <tr>\n",
       "      <th rowspan=\"4\" valign=\"top\">Adult</th>\n",
       "      <th>Extra Large</th>\n",
       "      <td>89.015414</td>\n",
       "      <td>232.591561</td>\n",
       "    </tr>\n",
       "    <tr>\n",
       "      <th>Large</th>\n",
       "      <td>89.531943</td>\n",
       "      <td>238.661141</td>\n",
       "    </tr>\n",
       "    <tr>\n",
       "      <th>Medium</th>\n",
       "      <td>89.421036</td>\n",
       "      <td>238.258977</td>\n",
       "    </tr>\n",
       "    <tr>\n",
       "      <th>Small</th>\n",
       "      <td>89.407479</td>\n",
       "      <td>238.974838</td>\n",
       "    </tr>\n",
       "    <tr>\n",
       "      <th rowspan=\"4\" valign=\"top\">Baby</th>\n",
       "      <th>Extra Large</th>\n",
       "      <td>87.032967</td>\n",
       "      <td>237.180879</td>\n",
       "    </tr>\n",
       "    <tr>\n",
       "      <th>Large</th>\n",
       "      <td>89.701564</td>\n",
       "      <td>238.698827</td>\n",
       "    </tr>\n",
       "    <tr>\n",
       "      <th>Medium</th>\n",
       "      <td>89.577668</td>\n",
       "      <td>237.108131</td>\n",
       "    </tr>\n",
       "    <tr>\n",
       "      <th>Small</th>\n",
       "      <td>89.958291</td>\n",
       "      <td>239.083810</td>\n",
       "    </tr>\n",
       "    <tr>\n",
       "      <th rowspan=\"4\" valign=\"top\">Senior</th>\n",
       "      <th>Extra Large</th>\n",
       "      <td>88.861111</td>\n",
       "      <td>235.232361</td>\n",
       "    </tr>\n",
       "    <tr>\n",
       "      <th>Large</th>\n",
       "      <td>88.984298</td>\n",
       "      <td>237.507364</td>\n",
       "    </tr>\n",
       "    <tr>\n",
       "      <th>Medium</th>\n",
       "      <td>89.810052</td>\n",
       "      <td>238.514615</td>\n",
       "    </tr>\n",
       "    <tr>\n",
       "      <th>Small</th>\n",
       "      <td>89.073626</td>\n",
       "      <td>238.282286</td>\n",
       "    </tr>\n",
       "    <tr>\n",
       "      <th rowspan=\"4\" valign=\"top\">Young</th>\n",
       "      <th>Extra Large</th>\n",
       "      <td>90.586345</td>\n",
       "      <td>245.835582</td>\n",
       "    </tr>\n",
       "    <tr>\n",
       "      <th>Large</th>\n",
       "      <td>90.104206</td>\n",
       "      <td>238.149506</td>\n",
       "    </tr>\n",
       "    <tr>\n",
       "      <th>Medium</th>\n",
       "      <td>89.515123</td>\n",
       "      <td>239.304603</td>\n",
       "    </tr>\n",
       "    <tr>\n",
       "      <th>Small</th>\n",
       "      <td>89.814275</td>\n",
       "      <td>241.540069</td>\n",
       "    </tr>\n",
       "  </tbody>\n",
       "</table>\n",
       "</div>"
      ],
      "text/plain": [
       "                    stay_duration   stay_cost\n",
       "age    size                                  \n",
       "Adult  Extra Large      89.015414  232.591561\n",
       "       Large            89.531943  238.661141\n",
       "       Medium           89.421036  238.258977\n",
       "       Small            89.407479  238.974838\n",
       "Baby   Extra Large      87.032967  237.180879\n",
       "       Large            89.701564  238.698827\n",
       "       Medium           89.577668  237.108131\n",
       "       Small            89.958291  239.083810\n",
       "Senior Extra Large      88.861111  235.232361\n",
       "       Large            88.984298  237.507364\n",
       "       Medium           89.810052  238.514615\n",
       "       Small            89.073626  238.282286\n",
       "Young  Extra Large      90.586345  245.835582\n",
       "       Large            90.104206  238.149506\n",
       "       Medium           89.515123  239.304603\n",
       "       Small            89.814275  241.540069"
      ]
     },
     "execution_count": 25,
     "metadata": {},
     "output_type": "execute_result"
    }
   ],
   "source": [
    "dogs.groupby(['age', 'size']).mean(numeric_only=True)[['stay_duration', 'stay_cost']]"
   ]
  },
  {
   "cell_type": "markdown",
   "id": "5817a8ad",
   "metadata": {},
   "source": [
    "# 7. Find the dogs involved in at least 3 travels. Also list the breed of those dogs."
   ]
  },
  {
   "cell_type": "code",
   "execution_count": 26,
   "id": "83cc2e26",
   "metadata": {},
   "outputs": [],
   "source": [
    "dogTravel = pd.merge(dogs, travels, on='id')"
   ]
  },
  {
   "cell_type": "code",
   "execution_count": 27,
   "id": "8c786750",
   "metadata": {},
   "outputs": [],
   "source": [
    "dogTravel_group = dogTravel.groupby('id')['org_id'].count()"
   ]
  },
  {
   "cell_type": "code",
   "execution_count": 28,
   "id": "c7e01eea",
   "metadata": {
    "scrolled": true
   },
   "outputs": [],
   "source": [
    "n_viaggi = dogTravel_group[dogTravel_group > 2].rename('n_viaggi')"
   ]
  },
  {
   "cell_type": "code",
   "execution_count": 29,
   "id": "5f1168d9",
   "metadata": {},
   "outputs": [
    {
     "data": {
      "text/html": [
       "<div>\n",
       "<style scoped>\n",
       "    .dataframe tbody tr th:only-of-type {\n",
       "        vertical-align: middle;\n",
       "    }\n",
       "\n",
       "    .dataframe tbody tr th {\n",
       "        vertical-align: top;\n",
       "    }\n",
       "\n",
       "    .dataframe thead th {\n",
       "        text-align: right;\n",
       "    }\n",
       "</style>\n",
       "<table border=\"1\" class=\"dataframe\">\n",
       "  <thead>\n",
       "    <tr style=\"text-align: right;\">\n",
       "      <th></th>\n",
       "      <th>breed_primary</th>\n",
       "      <th>n_viaggi</th>\n",
       "    </tr>\n",
       "    <tr>\n",
       "      <th>id</th>\n",
       "      <th></th>\n",
       "      <th></th>\n",
       "    </tr>\n",
       "  </thead>\n",
       "  <tbody>\n",
       "    <tr>\n",
       "      <th>45642530</th>\n",
       "      <td>Jindo</td>\n",
       "      <td>4</td>\n",
       "    </tr>\n",
       "    <tr>\n",
       "      <th>46039420</th>\n",
       "      <td>Border Collie</td>\n",
       "      <td>4</td>\n",
       "    </tr>\n",
       "    <tr>\n",
       "      <th>40036107</th>\n",
       "      <td>Pit Bull Terrier</td>\n",
       "      <td>3</td>\n",
       "    </tr>\n",
       "    <tr>\n",
       "      <th>45851842</th>\n",
       "      <td>Labrador Retriever</td>\n",
       "      <td>3</td>\n",
       "    </tr>\n",
       "    <tr>\n",
       "      <th>45841145</th>\n",
       "      <td>Mixed Breed</td>\n",
       "      <td>3</td>\n",
       "    </tr>\n",
       "    <tr>\n",
       "      <th>...</th>\n",
       "      <td>...</td>\n",
       "      <td>...</td>\n",
       "    </tr>\n",
       "    <tr>\n",
       "      <th>38664932</th>\n",
       "      <td>Pit Bull Terrier</td>\n",
       "      <td>3</td>\n",
       "    </tr>\n",
       "    <tr>\n",
       "      <th>38495992</th>\n",
       "      <td>Pit Bull Terrier</td>\n",
       "      <td>3</td>\n",
       "    </tr>\n",
       "    <tr>\n",
       "      <th>45588395</th>\n",
       "      <td>German Shepherd Dog</td>\n",
       "      <td>3</td>\n",
       "    </tr>\n",
       "    <tr>\n",
       "      <th>36978896</th>\n",
       "      <td>Alaskan Malamute</td>\n",
       "      <td>7</td>\n",
       "    </tr>\n",
       "    <tr>\n",
       "      <th>33218331</th>\n",
       "      <td>Alaskan Malamute</td>\n",
       "      <td>7</td>\n",
       "    </tr>\n",
       "  </tbody>\n",
       "</table>\n",
       "<p>563 rows × 2 columns</p>\n",
       "</div>"
      ],
      "text/plain": [
       "                breed_primary  n_viaggi\n",
       "id                                     \n",
       "45642530                Jindo         4\n",
       "46039420        Border Collie         4\n",
       "40036107     Pit Bull Terrier         3\n",
       "45851842   Labrador Retriever         3\n",
       "45841145          Mixed Breed         3\n",
       "...                       ...       ...\n",
       "38664932     Pit Bull Terrier         3\n",
       "38495992     Pit Bull Terrier         3\n",
       "45588395  German Shepherd Dog         3\n",
       "36978896     Alaskan Malamute         7\n",
       "33218331     Alaskan Malamute         7\n",
       "\n",
       "[563 rows x 2 columns]"
      ]
     },
     "execution_count": 29,
     "metadata": {},
     "output_type": "execute_result"
    }
   ],
   "source": [
    "pd.merge(dogs, n_viaggi, on='id')[['breed_primary', 'n_viaggi']]"
   ]
  },
  {
   "cell_type": "markdown",
   "id": "a28e4427",
   "metadata": {},
   "source": [
    "# 8. Fix the travels table so that the correct state is computed from the manual and the found fields. If manual is not missing, then it overrides what is stored in found"
   ]
  },
  {
   "cell_type": "code",
   "execution_count": 30,
   "id": "a3b9387c",
   "metadata": {},
   "outputs": [],
   "source": [
    "def state(row):\n",
    "    if not(pd.isnull(row['manual'])):\n",
    "        return row['manual']\n",
    "    else:\n",
    "        return row['found']"
   ]
  },
  {
   "cell_type": "code",
   "execution_count": 31,
   "id": "9ccf5594",
   "metadata": {},
   "outputs": [],
   "source": [
    "travels['state'] = travels.apply(state, axis=1)"
   ]
  },
  {
   "cell_type": "code",
   "execution_count": 32,
   "id": "79da579b",
   "metadata": {},
   "outputs": [
    {
     "data": {
      "text/html": [
       "<div>\n",
       "<style scoped>\n",
       "    .dataframe tbody tr th:only-of-type {\n",
       "        vertical-align: middle;\n",
       "    }\n",
       "\n",
       "    .dataframe tbody tr th {\n",
       "        vertical-align: top;\n",
       "    }\n",
       "\n",
       "    .dataframe thead th {\n",
       "        text-align: right;\n",
       "    }\n",
       "</style>\n",
       "<table border=\"1\" class=\"dataframe\">\n",
       "  <thead>\n",
       "    <tr style=\"text-align: right;\">\n",
       "      <th></th>\n",
       "      <th>id</th>\n",
       "      <th>contact_city</th>\n",
       "      <th>contact_state</th>\n",
       "      <th>description</th>\n",
       "      <th>found</th>\n",
       "      <th>manual</th>\n",
       "      <th>remove</th>\n",
       "      <th>still_there</th>\n",
       "      <th>state</th>\n",
       "    </tr>\n",
       "    <tr>\n",
       "      <th>index</th>\n",
       "      <th></th>\n",
       "      <th></th>\n",
       "      <th></th>\n",
       "      <th></th>\n",
       "      <th></th>\n",
       "      <th></th>\n",
       "      <th></th>\n",
       "      <th></th>\n",
       "      <th></th>\n",
       "    </tr>\n",
       "  </thead>\n",
       "  <tbody>\n",
       "    <tr>\n",
       "      <th>0</th>\n",
       "      <td>44520267</td>\n",
       "      <td>Anoka</td>\n",
       "      <td>MN</td>\n",
       "      <td>Boris is a handsome mini schnauzer who made hi...</td>\n",
       "      <td>Arkansas</td>\n",
       "      <td>NaN</td>\n",
       "      <td>NaN</td>\n",
       "      <td>NaN</td>\n",
       "      <td>Arkansas</td>\n",
       "    </tr>\n",
       "    <tr>\n",
       "      <th>1</th>\n",
       "      <td>44698509</td>\n",
       "      <td>Groveland</td>\n",
       "      <td>FL</td>\n",
       "      <td>Duke is an almost 2 year old Potcake from Abac...</td>\n",
       "      <td>Abacos</td>\n",
       "      <td>Bahamas</td>\n",
       "      <td>NaN</td>\n",
       "      <td>NaN</td>\n",
       "      <td>Bahamas</td>\n",
       "    </tr>\n",
       "    <tr>\n",
       "      <th>2</th>\n",
       "      <td>45983838</td>\n",
       "      <td>Adamstown</td>\n",
       "      <td>MD</td>\n",
       "      <td>Zac Woof-ron is a heartthrob movie star lookin...</td>\n",
       "      <td>Adam</td>\n",
       "      <td>Maryland</td>\n",
       "      <td>NaN</td>\n",
       "      <td>NaN</td>\n",
       "      <td>Maryland</td>\n",
       "    </tr>\n",
       "    <tr>\n",
       "      <th>3</th>\n",
       "      <td>44475904</td>\n",
       "      <td>Saint Cloud</td>\n",
       "      <td>MN</td>\n",
       "      <td>~~Came in to the shelter as a transfer from an...</td>\n",
       "      <td>Adaptil</td>\n",
       "      <td>NaN</td>\n",
       "      <td>True</td>\n",
       "      <td>NaN</td>\n",
       "      <td>Adaptil</td>\n",
       "    </tr>\n",
       "    <tr>\n",
       "      <th>4</th>\n",
       "      <td>43877389</td>\n",
       "      <td>Pueblo</td>\n",
       "      <td>CO</td>\n",
       "      <td>Palang is such a sweetheart. She loves her peo...</td>\n",
       "      <td>Afghanistan</td>\n",
       "      <td>NaN</td>\n",
       "      <td>NaN</td>\n",
       "      <td>NaN</td>\n",
       "      <td>Afghanistan</td>\n",
       "    </tr>\n",
       "  </tbody>\n",
       "</table>\n",
       "</div>"
      ],
      "text/plain": [
       "             id contact_city contact_state  \\\n",
       "index                                        \n",
       "0      44520267        Anoka            MN   \n",
       "1      44698509    Groveland            FL   \n",
       "2      45983838    Adamstown            MD   \n",
       "3      44475904  Saint Cloud            MN   \n",
       "4      43877389       Pueblo            CO   \n",
       "\n",
       "                                             description        found  \\\n",
       "index                                                                   \n",
       "0      Boris is a handsome mini schnauzer who made hi...     Arkansas   \n",
       "1      Duke is an almost 2 year old Potcake from Abac...       Abacos   \n",
       "2      Zac Woof-ron is a heartthrob movie star lookin...         Adam   \n",
       "3      ~~Came in to the shelter as a transfer from an...      Adaptil   \n",
       "4      Palang is such a sweetheart. She loves her peo...  Afghanistan   \n",
       "\n",
       "         manual remove still_there        state  \n",
       "index                                            \n",
       "0           NaN    NaN         NaN     Arkansas  \n",
       "1       Bahamas    NaN         NaN      Bahamas  \n",
       "2      Maryland    NaN         NaN     Maryland  \n",
       "3           NaN   True         NaN      Adaptil  \n",
       "4           NaN    NaN         NaN  Afghanistan  "
      ]
     },
     "execution_count": 32,
     "metadata": {},
     "output_type": "execute_result"
    }
   ],
   "source": [
    "travels.head()"
   ]
  },
  {
   "cell_type": "markdown",
   "id": "6fd8a8d7",
   "metadata": {},
   "source": [
    "# 9. For each state, compute the ratio between the number of travels and the population."
   ]
  },
  {
   "cell_type": "code",
   "execution_count": 33,
   "id": "4ea88d57",
   "metadata": {},
   "outputs": [],
   "source": [
    "travels_NST = pd.merge(travels, NST, on='state')"
   ]
  },
  {
   "cell_type": "code",
   "execution_count": 34,
   "id": "688f8099",
   "metadata": {},
   "outputs": [],
   "source": [
    "n_viaggi2 = travels_NST.groupby('state').count()['id'].rename('n_viaggi')"
   ]
  },
  {
   "cell_type": "code",
   "execution_count": 35,
   "id": "7e19c743",
   "metadata": {},
   "outputs": [],
   "source": [
    "ratio = pd.merge(n_viaggi2, NST, on='state').set_index('state')"
   ]
  },
  {
   "cell_type": "code",
   "execution_count": 36,
   "id": "f9dbb4ba",
   "metadata": {},
   "outputs": [],
   "source": [
    "ratio['ratio'] = ratio['n_viaggi']/ratio['population']"
   ]
  },
  {
   "cell_type": "code",
   "execution_count": 37,
   "id": "ec310b30",
   "metadata": {},
   "outputs": [
    {
     "data": {
      "text/html": [
       "<div>\n",
       "<style scoped>\n",
       "    .dataframe tbody tr th:only-of-type {\n",
       "        vertical-align: middle;\n",
       "    }\n",
       "\n",
       "    .dataframe tbody tr th {\n",
       "        vertical-align: top;\n",
       "    }\n",
       "\n",
       "    .dataframe thead th {\n",
       "        text-align: right;\n",
       "    }\n",
       "</style>\n",
       "<table border=\"1\" class=\"dataframe\">\n",
       "  <thead>\n",
       "    <tr style=\"text-align: right;\">\n",
       "      <th></th>\n",
       "      <th>n_viaggi</th>\n",
       "      <th>population</th>\n",
       "      <th>ratio</th>\n",
       "    </tr>\n",
       "    <tr>\n",
       "      <th>state</th>\n",
       "      <th></th>\n",
       "      <th></th>\n",
       "      <th></th>\n",
       "    </tr>\n",
       "  </thead>\n",
       "  <tbody>\n",
       "    <tr>\n",
       "      <th>Alabama</th>\n",
       "      <td>338</td>\n",
       "      <td>5024279</td>\n",
       "      <td>0.000067</td>\n",
       "    </tr>\n",
       "    <tr>\n",
       "      <th>Arizona</th>\n",
       "      <td>33</td>\n",
       "      <td>7151502</td>\n",
       "      <td>0.000005</td>\n",
       "    </tr>\n",
       "    <tr>\n",
       "      <th>Arkansas</th>\n",
       "      <td>61</td>\n",
       "      <td>3011524</td>\n",
       "      <td>0.000020</td>\n",
       "    </tr>\n",
       "    <tr>\n",
       "      <th>California</th>\n",
       "      <td>279</td>\n",
       "      <td>39538223</td>\n",
       "      <td>0.000007</td>\n",
       "    </tr>\n",
       "    <tr>\n",
       "      <th>Colorado</th>\n",
       "      <td>11</td>\n",
       "      <td>5773714</td>\n",
       "      <td>0.000002</td>\n",
       "    </tr>\n",
       "  </tbody>\n",
       "</table>\n",
       "</div>"
      ],
      "text/plain": [
       "            n_viaggi  population     ratio\n",
       "state                                     \n",
       "Alabama          338     5024279  0.000067\n",
       "Arizona           33     7151502  0.000005\n",
       "Arkansas          61     3011524  0.000020\n",
       "California       279    39538223  0.000007\n",
       "Colorado          11     5773714  0.000002"
      ]
     },
     "execution_count": 37,
     "metadata": {},
     "output_type": "execute_result"
    }
   ],
   "source": [
    "ratio.head()"
   ]
  },
  {
   "cell_type": "markdown",
   "id": "3b16acb1",
   "metadata": {},
   "source": [
    "# 10. For each dog, compute the number of days from the posted day to the day of last access."
   ]
  },
  {
   "cell_type": "code",
   "execution_count": 38,
   "id": "71b77030",
   "metadata": {},
   "outputs": [],
   "source": [
    "# Trasformiamo accessed in formato datetime\n",
    "dogs['accessed'] = pd.to_datetime(dogs['accessed'], format='%Y-%m-%d')"
   ]
  },
  {
   "cell_type": "code",
   "execution_count": 39,
   "id": "579941cc",
   "metadata": {},
   "outputs": [],
   "source": [
    "# Prendiamo solo anno, mese e giorno da posted, in modo da eliminare le informazioni dell'ora e della time zone\n",
    "posted_naive = dogs['posted'].dt.strftime('%Y-%m-%d')\n",
    "posted_naive = pd.to_datetime(posted_naive, format='%Y-%m-%d')"
   ]
  },
  {
   "cell_type": "code",
   "execution_count": 40,
   "id": "6eb50302",
   "metadata": {},
   "outputs": [
    {
     "data": {
      "text/plain": [
       "id\n",
       "46042150    0 days\n",
       "46042002    0 days\n",
       "46040898    0 days\n",
       "46039877    0 days\n",
       "46039306    0 days\n",
       "             ...  \n",
       "45916348   11 days\n",
       "45733027   27 days\n",
       "45413997   51 days\n",
       "45406516   53 days\n",
       "45264615   67 days\n",
       "Length: 58180, dtype: timedelta64[ns]"
      ]
     },
     "execution_count": 40,
     "metadata": {},
     "output_type": "execute_result"
    }
   ],
   "source": [
    "dogs['accessed'] - posted_naive"
   ]
  },
  {
   "cell_type": "code",
   "execution_count": 41,
   "id": "0aa0c98e",
   "metadata": {},
   "outputs": [],
   "source": [
    "dogs['daysPassed'] = dogs['accessed'] - posted_naive"
   ]
  },
  {
   "cell_type": "markdown",
   "id": "173f3457",
   "metadata": {},
   "source": [
    "# 11. Partition the dogs according to the number of weeks from the posted day to the day of last access."
   ]
  },
  {
   "cell_type": "code",
   "execution_count": 42,
   "id": "4d361263",
   "metadata": {},
   "outputs": [],
   "source": [
    "weekPassed = dogs['daysPassed'].dt.days/7"
   ]
  },
  {
   "cell_type": "code",
   "execution_count": 43,
   "id": "d66f97cd",
   "metadata": {},
   "outputs": [],
   "source": [
    "dogs['weekPassed'] = weekPassed.apply(math.floor)"
   ]
  },
  {
   "cell_type": "code",
   "execution_count": 44,
   "id": "1e1da141",
   "metadata": {},
   "outputs": [
    {
     "data": {
      "text/plain": [
       "weekPassed\n",
       "0      9803\n",
       "1      6547\n",
       "2      5764\n",
       "3      3353\n",
       "4      2439\n",
       "       ... \n",
       "729       1\n",
       "746       1\n",
       "811       1\n",
       "812       1\n",
       "852       1\n",
       "Name: org_id, Length: 579, dtype: int64"
      ]
     },
     "execution_count": 44,
     "metadata": {},
     "output_type": "execute_result"
    }
   ],
   "source": [
    "dogs.groupby('weekPassed')['org_id'].count()"
   ]
  },
  {
   "cell_type": "markdown",
   "id": "ba9d9cf7",
   "metadata": {},
   "source": [
    "# 12. Find for duplicates in the dogs dataset. Two records are duplicates if they have (1) same breeds and sex, and (2) they share at least 90% of the words in the description field. Extra points if you find and implement a more refined for determining if two rows are duplicates."
   ]
  },
  {
   "cell_type": "code",
   "execution_count": 45,
   "id": "f39befa3",
   "metadata": {},
   "outputs": [],
   "source": [
    "duplicateCount = dogs.groupby(['breed_primary', 'sex'])['org_id'].count()"
   ]
  },
  {
   "cell_type": "code",
   "execution_count": 46,
   "id": "59df43ab",
   "metadata": {},
   "outputs": [],
   "source": [
    "# Tieni solo i gruppi che contengono più di un cane\n",
    "duplicates = duplicateCount[duplicateCount > 1].rename('n_cani')"
   ]
  },
  {
   "cell_type": "code",
   "execution_count": 47,
   "id": "b1271b95",
   "metadata": {},
   "outputs": [],
   "source": [
    "groups = dict(list(dogs.groupby(['breed_primary', 'sex'])))"
   ]
  },
  {
   "cell_type": "code",
   "execution_count": 48,
   "id": "de672d07",
   "metadata": {},
   "outputs": [
    {
     "data": {
      "text/plain": [
       "breed_primary                      sex   \n",
       "Affenpinscher                      Female      9\n",
       "                                   Male        8\n",
       "Afghan Hound                       Male        3\n",
       "Airedale Terrier                   Female      8\n",
       "                                   Male       11\n",
       "                                            ... \n",
       "Xoloitzcuintli / Mexican Hairless  Male        7\n",
       "Yellow Labrador Retriever          Female     76\n",
       "                                   Male       82\n",
       "Yorkshire Terrier                  Female    156\n",
       "                                   Male      204\n",
       "Name: n_cani, Length: 365, dtype: int64"
      ]
     },
     "execution_count": 48,
     "metadata": {},
     "output_type": "execute_result"
    }
   ],
   "source": [
    "duplicates"
   ]
  },
  {
   "cell_type": "code",
   "execution_count": 49,
   "id": "12c0c37c",
   "metadata": {},
   "outputs": [],
   "source": [
    "def split(row):\n",
    "    if not(pd.isnull(row['description'])):\n",
    "        return re.sub(r'[^\\w\\s]', '', row['description'].lower()).split(\" \")\n",
    "    else:\n",
    "        return [math.nan]"
   ]
  },
  {
   "cell_type": "code",
   "execution_count": 50,
   "id": "98772954",
   "metadata": {},
   "outputs": [],
   "source": [
    "duplicati = []\n",
    "num = 0\n",
    "# for every group that we found through the previous groupby\n",
    "for key in duplicates.keys():\n",
    "    num += 1\n",
    "    subset = groups[key]\n",
    "    desSplit = subset.apply(split, axis=1).rename('desSplit')\n",
    "    subset = pd.merge(subset, desSplit, on = 'id')\n",
    "    # loop for the first row\n",
    "    for i in range(len(subset)):\n",
    "        # If the text is \"nan\" or the row has already been catalogated as a duplicate, skip to the next row\n",
    "        if pd.isnull(subset['desSplit'].iloc[i]).any() or subset.index[i] in duplicati:\n",
    "            continue\n",
    "        # loop for the second row\n",
    "        for j in range(len(subset))[i+1:]:\n",
    "            Nmatch = 0\n",
    "            # If the text is \"nan\" or the row has already been catalogated as a duplicate, skip to the next row\n",
    "            if pd.isnull(subset['desSplit'].iloc[j]).any() or subset.index[j] in duplicati:\n",
    "                continue\n",
    "            if len(set(subset['desSplit'].iloc[i]) - set(subset['desSplit'].iloc[j]))/len(subset['desSplit'].iloc[i]) <= 0.1:\n",
    "                duplicati.append(subset.index[j])"
   ]
  },
  {
   "cell_type": "code",
   "execution_count": 51,
   "id": "c372e3bd",
   "metadata": {},
   "outputs": [
    {
     "data": {
      "text/plain": [
       "7444"
      ]
     },
     "execution_count": 51,
     "metadata": {},
     "output_type": "execute_result"
    }
   ],
   "source": [
    "len(duplicati)"
   ]
  },
  {
   "cell_type": "code",
   "execution_count": 59,
   "id": "a8eb9a11",
   "metadata": {},
   "outputs": [],
   "source": [
    "dogs = dogs.drop(duplicati)"
   ]
  },
  {
   "cell_type": "markdown",
   "id": "6a4952ed",
   "metadata": {},
   "source": [
    "We consider duplicates also dogs that are of the same breed, age, sex, size, name and city"
   ]
  },
  {
   "cell_type": "code",
   "execution_count": 62,
   "id": "ce554a23",
   "metadata": {},
   "outputs": [],
   "source": [
    "duplicateCount = dogs.groupby(['breed_primary', 'age', 'sex', 'size', 'name','contact_city'])['org_id'].count()"
   ]
  },
  {
   "cell_type": "code",
   "execution_count": 66,
   "id": "74691567",
   "metadata": {},
   "outputs": [],
   "source": [
    "# Tieni solo i gruppi che contengono più di un cane\n",
    "duplicates = duplicateCount[duplicateCount > 1].rename('n_cani')"
   ]
  },
  {
   "cell_type": "code",
   "execution_count": 71,
   "id": "122cbda5",
   "metadata": {},
   "outputs": [
    {
     "data": {
      "text/plain": [
       "breed_primary                   age    sex     size    name    contact_city\n",
       "Akita                           Adult  Male    Large   Niko    Newton          2\n",
       "American Bulldog                Adult  Male    Large   Utah    Chandler        2\n",
       "American Staffordshire Terrier  Adult  Female  Medium  Darcy   Manchester      2\n",
       "                                       Male    Large   Tank    Tuttle          2\n",
       "                                Young  Male    Medium  Bosley  Loganville      2\n",
       "                                                                              ..\n",
       "Terrier                         Adult  Female  Small   Scappy  Haymarket       2\n",
       "                                       Male    Medium  Peanut  Loganville      2\n",
       "                                Young  Female  Medium  Palin   Loganville      2\n",
       "                                                       Shadow  Manchester      2\n",
       "Yellow Labrador Retriever       Baby   Female  Large   Reagan  Grant           2\n",
       "Name: n_cani, Length: 98, dtype: int64"
      ]
     },
     "execution_count": 71,
     "metadata": {},
     "output_type": "execute_result"
    }
   ],
   "source": [
    "duplicates"
   ]
  },
  {
   "cell_type": "code",
   "execution_count": 75,
   "id": "a0fcaee4",
   "metadata": {},
   "outputs": [],
   "source": [
    "groups = dict(list(dogs.groupby(['breed_primary', 'age', 'sex', 'size', 'name','contact_city'])))"
   ]
  },
  {
   "cell_type": "code",
   "execution_count": 68,
   "id": "1765c892",
   "metadata": {},
   "outputs": [],
   "source": [
    "duplicati = []\n",
    "for i in duplicates.keys():\n",
    "    for j in groups[i].index[1:]:\n",
    "        duplicati.append(j)"
   ]
  },
  {
   "cell_type": "code",
   "execution_count": 69,
   "id": "05105a75",
   "metadata": {},
   "outputs": [
    {
     "data": {
      "text/plain": [
       "101"
      ]
     },
     "execution_count": 69,
     "metadata": {},
     "output_type": "execute_result"
    }
   ],
   "source": [
    "len(duplicati)"
   ]
  },
  {
   "cell_type": "code",
   "execution_count": 70,
   "id": "f3fa8f91",
   "metadata": {},
   "outputs": [],
   "source": [
    "dogs = dogs.drop(duplicati)"
   ]
  }
 ],
 "metadata": {
  "kernelspec": {
   "display_name": "Python 3 (ipykernel)",
   "language": "python",
   "name": "python3"
  },
  "language_info": {
   "codemirror_mode": {
    "name": "ipython",
    "version": 3
   },
   "file_extension": ".py",
   "mimetype": "text/x-python",
   "name": "python",
   "nbconvert_exporter": "python",
   "pygments_lexer": "ipython3",
   "version": "3.9.13"
  }
 },
 "nbformat": 4,
 "nbformat_minor": 5
}
