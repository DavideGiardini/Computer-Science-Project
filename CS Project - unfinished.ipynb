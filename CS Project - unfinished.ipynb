{
 "cells": [
  {
   "cell_type": "code",
   "execution_count": 1,
   "id": "b39961e5",
   "metadata": {},
   "outputs": [],
   "source": [
    "import pandas as pd\n",
    "import re\n",
    "import datetime\n",
    "import math"
   ]
  },
  {
   "cell_type": "code",
   "execution_count": 2,
   "id": "421cc9cb",
   "metadata": {},
   "outputs": [
    {
     "data": {
      "text/html": [
       "<div>\n",
       "<style scoped>\n",
       "    .dataframe tbody tr th:only-of-type {\n",
       "        vertical-align: middle;\n",
       "    }\n",
       "\n",
       "    .dataframe tbody tr th {\n",
       "        vertical-align: top;\n",
       "    }\n",
       "\n",
       "    .dataframe thead th {\n",
       "        text-align: right;\n",
       "    }\n",
       "</style>\n",
       "<table border=\"1\" class=\"dataframe\">\n",
       "  <thead>\n",
       "    <tr style=\"text-align: right;\">\n",
       "      <th></th>\n",
       "      <th>org_id</th>\n",
       "      <th>url</th>\n",
       "      <th>type.x</th>\n",
       "      <th>species</th>\n",
       "      <th>breed_primary</th>\n",
       "      <th>breed_secondary</th>\n",
       "      <th>breed_mixed</th>\n",
       "      <th>breed_unknown</th>\n",
       "      <th>color_primary</th>\n",
       "      <th>color_secondary</th>\n",
       "      <th>...</th>\n",
       "      <th>contact_city</th>\n",
       "      <th>contact_state</th>\n",
       "      <th>contact_zip</th>\n",
       "      <th>contact_country</th>\n",
       "      <th>stateQ</th>\n",
       "      <th>accessed</th>\n",
       "      <th>type.y</th>\n",
       "      <th>description</th>\n",
       "      <th>stay_duration</th>\n",
       "      <th>stay_cost</th>\n",
       "    </tr>\n",
       "    <tr>\n",
       "      <th>id</th>\n",
       "      <th></th>\n",
       "      <th></th>\n",
       "      <th></th>\n",
       "      <th></th>\n",
       "      <th></th>\n",
       "      <th></th>\n",
       "      <th></th>\n",
       "      <th></th>\n",
       "      <th></th>\n",
       "      <th></th>\n",
       "      <th></th>\n",
       "      <th></th>\n",
       "      <th></th>\n",
       "      <th></th>\n",
       "      <th></th>\n",
       "      <th></th>\n",
       "      <th></th>\n",
       "      <th></th>\n",
       "      <th></th>\n",
       "      <th></th>\n",
       "      <th></th>\n",
       "    </tr>\n",
       "  </thead>\n",
       "  <tbody>\n",
       "    <tr>\n",
       "      <th>46042150</th>\n",
       "      <td>NV163</td>\n",
       "      <td>https://www.petfinder.com/dog/harley-46042150/...</td>\n",
       "      <td>Dog</td>\n",
       "      <td>Dog</td>\n",
       "      <td>American Staffordshire Terrier</td>\n",
       "      <td>Mixed Breed</td>\n",
       "      <td>True</td>\n",
       "      <td>False</td>\n",
       "      <td>White / Cream</td>\n",
       "      <td>Yellow / Tan / Blond / Fawn</td>\n",
       "      <td>...</td>\n",
       "      <td>Las Vegas</td>\n",
       "      <td>NV</td>\n",
       "      <td>89147</td>\n",
       "      <td>US</td>\n",
       "      <td>89009</td>\n",
       "      <td>2019-09-20</td>\n",
       "      <td>Dog</td>\n",
       "      <td>Harley is not sure how he wound up at shelter ...</td>\n",
       "      <td>70</td>\n",
       "      <td>124.81</td>\n",
       "    </tr>\n",
       "    <tr>\n",
       "      <th>46042002</th>\n",
       "      <td>NV163</td>\n",
       "      <td>https://www.petfinder.com/dog/biggie-46042002/...</td>\n",
       "      <td>Dog</td>\n",
       "      <td>Dog</td>\n",
       "      <td>Pit Bull Terrier</td>\n",
       "      <td>Mixed Breed</td>\n",
       "      <td>True</td>\n",
       "      <td>False</td>\n",
       "      <td>Brown / Chocolate</td>\n",
       "      <td>White / Cream</td>\n",
       "      <td>...</td>\n",
       "      <td>Las Vegas</td>\n",
       "      <td>NV</td>\n",
       "      <td>89147</td>\n",
       "      <td>US</td>\n",
       "      <td>89009</td>\n",
       "      <td>2019-09-20</td>\n",
       "      <td>Dog</td>\n",
       "      <td>6 year old Biggie has lost his home and really...</td>\n",
       "      <td>49</td>\n",
       "      <td>122.07</td>\n",
       "    </tr>\n",
       "    <tr>\n",
       "      <th>46040898</th>\n",
       "      <td>NV99</td>\n",
       "      <td>https://www.petfinder.com/dog/ziggy-46040898/n...</td>\n",
       "      <td>Dog</td>\n",
       "      <td>Dog</td>\n",
       "      <td>Shepherd</td>\n",
       "      <td>NaN</td>\n",
       "      <td>False</td>\n",
       "      <td>False</td>\n",
       "      <td>Brindle</td>\n",
       "      <td>NaN</td>\n",
       "      <td>...</td>\n",
       "      <td>Mesquite</td>\n",
       "      <td>NV</td>\n",
       "      <td>89027</td>\n",
       "      <td>US</td>\n",
       "      <td>89009</td>\n",
       "      <td>2019-09-20</td>\n",
       "      <td>Dog</td>\n",
       "      <td>Approx 2 years old.\\n Did I catch your eye? I ...</td>\n",
       "      <td>87</td>\n",
       "      <td>281.51</td>\n",
       "    </tr>\n",
       "    <tr>\n",
       "      <th>46039877</th>\n",
       "      <td>NV202</td>\n",
       "      <td>https://www.petfinder.com/dog/gypsy-46039877/n...</td>\n",
       "      <td>Dog</td>\n",
       "      <td>Dog</td>\n",
       "      <td>German Shepherd Dog</td>\n",
       "      <td>NaN</td>\n",
       "      <td>False</td>\n",
       "      <td>False</td>\n",
       "      <td>NaN</td>\n",
       "      <td>NaN</td>\n",
       "      <td>...</td>\n",
       "      <td>Pahrump</td>\n",
       "      <td>NV</td>\n",
       "      <td>89048</td>\n",
       "      <td>US</td>\n",
       "      <td>89009</td>\n",
       "      <td>2019-09-20</td>\n",
       "      <td>Dog</td>\n",
       "      <td>NaN</td>\n",
       "      <td>62</td>\n",
       "      <td>145.83</td>\n",
       "    </tr>\n",
       "    <tr>\n",
       "      <th>46039306</th>\n",
       "      <td>NV184</td>\n",
       "      <td>https://www.petfinder.com/dog/theo-46039306/nv...</td>\n",
       "      <td>Dog</td>\n",
       "      <td>Dog</td>\n",
       "      <td>Dachshund</td>\n",
       "      <td>NaN</td>\n",
       "      <td>False</td>\n",
       "      <td>False</td>\n",
       "      <td>NaN</td>\n",
       "      <td>NaN</td>\n",
       "      <td>...</td>\n",
       "      <td>Henderson</td>\n",
       "      <td>NV</td>\n",
       "      <td>89052</td>\n",
       "      <td>US</td>\n",
       "      <td>89009</td>\n",
       "      <td>2019-09-20</td>\n",
       "      <td>Dog</td>\n",
       "      <td>Theo is a friendly dachshund mix who gets alon...</td>\n",
       "      <td>93</td>\n",
       "      <td>241.09</td>\n",
       "    </tr>\n",
       "  </tbody>\n",
       "</table>\n",
       "<p>5 rows × 36 columns</p>\n",
       "</div>"
      ],
      "text/plain": [
       "         org_id                                                url type.x  \\\n",
       "id                                                                          \n",
       "46042150  NV163  https://www.petfinder.com/dog/harley-46042150/...    Dog   \n",
       "46042002  NV163  https://www.petfinder.com/dog/biggie-46042002/...    Dog   \n",
       "46040898   NV99  https://www.petfinder.com/dog/ziggy-46040898/n...    Dog   \n",
       "46039877  NV202  https://www.petfinder.com/dog/gypsy-46039877/n...    Dog   \n",
       "46039306  NV184  https://www.petfinder.com/dog/theo-46039306/nv...    Dog   \n",
       "\n",
       "         species                   breed_primary breed_secondary  breed_mixed  \\\n",
       "id                                                                              \n",
       "46042150     Dog  American Staffordshire Terrier     Mixed Breed         True   \n",
       "46042002     Dog                Pit Bull Terrier     Mixed Breed         True   \n",
       "46040898     Dog                        Shepherd             NaN        False   \n",
       "46039877     Dog             German Shepherd Dog             NaN        False   \n",
       "46039306     Dog                       Dachshund             NaN        False   \n",
       "\n",
       "          breed_unknown      color_primary              color_secondary  ...  \\\n",
       "id                                                                       ...   \n",
       "46042150          False      White / Cream  Yellow / Tan / Blond / Fawn  ...   \n",
       "46042002          False  Brown / Chocolate                White / Cream  ...   \n",
       "46040898          False            Brindle                          NaN  ...   \n",
       "46039877          False                NaN                          NaN  ...   \n",
       "46039306          False                NaN                          NaN  ...   \n",
       "\n",
       "         contact_city contact_state contact_zip contact_country stateQ  \\\n",
       "id                                                                       \n",
       "46042150    Las Vegas            NV       89147              US  89009   \n",
       "46042002    Las Vegas            NV       89147              US  89009   \n",
       "46040898     Mesquite            NV       89027              US  89009   \n",
       "46039877      Pahrump            NV       89048              US  89009   \n",
       "46039306    Henderson            NV       89052              US  89009   \n",
       "\n",
       "            accessed  type.y  \\\n",
       "id                             \n",
       "46042150  2019-09-20     Dog   \n",
       "46042002  2019-09-20     Dog   \n",
       "46040898  2019-09-20     Dog   \n",
       "46039877  2019-09-20     Dog   \n",
       "46039306  2019-09-20     Dog   \n",
       "\n",
       "                                                description  stay_duration  \\\n",
       "id                                                                           \n",
       "46042150  Harley is not sure how he wound up at shelter ...             70   \n",
       "46042002  6 year old Biggie has lost his home and really...             49   \n",
       "46040898  Approx 2 years old.\\n Did I catch your eye? I ...             87   \n",
       "46039877                                                NaN             62   \n",
       "46039306  Theo is a friendly dachshund mix who gets alon...             93   \n",
       "\n",
       "          stay_cost  \n",
       "id                   \n",
       "46042150     124.81  \n",
       "46042002     122.07  \n",
       "46040898     281.51  \n",
       "46039877     145.83  \n",
       "46039306     241.09  \n",
       "\n",
       "[5 rows x 36 columns]"
      ]
     },
     "execution_count": 2,
     "metadata": {},
     "output_type": "execute_result"
    }
   ],
   "source": [
    "dogs = pd.read_csv(\"adoptions/dogs.csv\", index_col=0)\n",
    "dogs.head()"
   ]
  },
  {
   "cell_type": "code",
   "execution_count": 3,
   "id": "44d13b27",
   "metadata": {},
   "outputs": [],
   "source": [
    "# Capitalizziamo tutti i nomi in modo che siano uguali\n",
    "dogs['name'] = dogs['name'].str.capitalize()"
   ]
  },
  {
   "cell_type": "code",
   "execution_count": 4,
   "id": "9596d1c9",
   "metadata": {},
   "outputs": [
    {
     "data": {
      "text/html": [
       "<div>\n",
       "<style scoped>\n",
       "    .dataframe tbody tr th:only-of-type {\n",
       "        vertical-align: middle;\n",
       "    }\n",
       "\n",
       "    .dataframe tbody tr th {\n",
       "        vertical-align: top;\n",
       "    }\n",
       "\n",
       "    .dataframe thead th {\n",
       "        text-align: right;\n",
       "    }\n",
       "</style>\n",
       "<table border=\"1\" class=\"dataframe\">\n",
       "  <thead>\n",
       "    <tr style=\"text-align: right;\">\n",
       "      <th></th>\n",
       "      <th>id</th>\n",
       "      <th>contact_city</th>\n",
       "      <th>contact_state</th>\n",
       "      <th>description</th>\n",
       "      <th>found</th>\n",
       "      <th>manual</th>\n",
       "      <th>remove</th>\n",
       "      <th>still_there</th>\n",
       "    </tr>\n",
       "    <tr>\n",
       "      <th>index</th>\n",
       "      <th></th>\n",
       "      <th></th>\n",
       "      <th></th>\n",
       "      <th></th>\n",
       "      <th></th>\n",
       "      <th></th>\n",
       "      <th></th>\n",
       "      <th></th>\n",
       "    </tr>\n",
       "  </thead>\n",
       "  <tbody>\n",
       "    <tr>\n",
       "      <th>0</th>\n",
       "      <td>44520267</td>\n",
       "      <td>Anoka</td>\n",
       "      <td>MN</td>\n",
       "      <td>Boris is a handsome mini schnauzer who made hi...</td>\n",
       "      <td>Arkansas</td>\n",
       "      <td>NaN</td>\n",
       "      <td>NaN</td>\n",
       "      <td>NaN</td>\n",
       "    </tr>\n",
       "    <tr>\n",
       "      <th>1</th>\n",
       "      <td>44698509</td>\n",
       "      <td>Groveland</td>\n",
       "      <td>FL</td>\n",
       "      <td>Duke is an almost 2 year old Potcake from Abac...</td>\n",
       "      <td>Abacos</td>\n",
       "      <td>Bahamas</td>\n",
       "      <td>NaN</td>\n",
       "      <td>NaN</td>\n",
       "    </tr>\n",
       "    <tr>\n",
       "      <th>2</th>\n",
       "      <td>45983838</td>\n",
       "      <td>Adamstown</td>\n",
       "      <td>MD</td>\n",
       "      <td>Zac Woof-ron is a heartthrob movie star lookin...</td>\n",
       "      <td>Adam</td>\n",
       "      <td>Maryland</td>\n",
       "      <td>NaN</td>\n",
       "      <td>NaN</td>\n",
       "    </tr>\n",
       "    <tr>\n",
       "      <th>3</th>\n",
       "      <td>44475904</td>\n",
       "      <td>Saint Cloud</td>\n",
       "      <td>MN</td>\n",
       "      <td>~~Came in to the shelter as a transfer from an...</td>\n",
       "      <td>Adaptil</td>\n",
       "      <td>NaN</td>\n",
       "      <td>True</td>\n",
       "      <td>NaN</td>\n",
       "    </tr>\n",
       "    <tr>\n",
       "      <th>4</th>\n",
       "      <td>43877389</td>\n",
       "      <td>Pueblo</td>\n",
       "      <td>CO</td>\n",
       "      <td>Palang is such a sweetheart. She loves her peo...</td>\n",
       "      <td>Afghanistan</td>\n",
       "      <td>NaN</td>\n",
       "      <td>NaN</td>\n",
       "      <td>NaN</td>\n",
       "    </tr>\n",
       "  </tbody>\n",
       "</table>\n",
       "</div>"
      ],
      "text/plain": [
       "             id contact_city contact_state  \\\n",
       "index                                        \n",
       "0      44520267        Anoka            MN   \n",
       "1      44698509    Groveland            FL   \n",
       "2      45983838    Adamstown            MD   \n",
       "3      44475904  Saint Cloud            MN   \n",
       "4      43877389       Pueblo            CO   \n",
       "\n",
       "                                             description        found  \\\n",
       "index                                                                   \n",
       "0      Boris is a handsome mini schnauzer who made hi...     Arkansas   \n",
       "1      Duke is an almost 2 year old Potcake from Abac...       Abacos   \n",
       "2      Zac Woof-ron is a heartthrob movie star lookin...         Adam   \n",
       "3      ~~Came in to the shelter as a transfer from an...      Adaptil   \n",
       "4      Palang is such a sweetheart. She loves her peo...  Afghanistan   \n",
       "\n",
       "         manual remove still_there  \n",
       "index                               \n",
       "0           NaN    NaN         NaN  \n",
       "1       Bahamas    NaN         NaN  \n",
       "2      Maryland    NaN         NaN  \n",
       "3           NaN   True         NaN  \n",
       "4           NaN    NaN         NaN  "
      ]
     },
     "execution_count": 4,
     "metadata": {},
     "output_type": "execute_result"
    }
   ],
   "source": [
    "travels = pd.read_csv(\"adoptions/dogTravel.csv\", index_col=0)\n",
    "travels.head()"
   ]
  },
  {
   "cell_type": "code",
   "execution_count": 5,
   "id": "763c2ad0",
   "metadata": {
    "scrolled": true
   },
   "outputs": [
    {
     "data": {
      "text/html": [
       "<div>\n",
       "<style scoped>\n",
       "    .dataframe tbody tr th:only-of-type {\n",
       "        vertical-align: middle;\n",
       "    }\n",
       "\n",
       "    .dataframe tbody tr th {\n",
       "        vertical-align: top;\n",
       "    }\n",
       "\n",
       "    .dataframe thead th {\n",
       "        text-align: right;\n",
       "    }\n",
       "</style>\n",
       "<table border=\"1\" class=\"dataframe\">\n",
       "  <thead>\n",
       "    <tr style=\"text-align: right;\">\n",
       "      <th></th>\n",
       "      <th>state</th>\n",
       "      <th>population</th>\n",
       "    </tr>\n",
       "  </thead>\n",
       "  <tbody>\n",
       "    <tr>\n",
       "      <th>0</th>\n",
       "      <td>Alabama</td>\n",
       "      <td>5024279</td>\n",
       "    </tr>\n",
       "    <tr>\n",
       "      <th>1</th>\n",
       "      <td>Alaska</td>\n",
       "      <td>733391</td>\n",
       "    </tr>\n",
       "    <tr>\n",
       "      <th>2</th>\n",
       "      <td>Arizona</td>\n",
       "      <td>7151502</td>\n",
       "    </tr>\n",
       "    <tr>\n",
       "      <th>3</th>\n",
       "      <td>Arkansas</td>\n",
       "      <td>3011524</td>\n",
       "    </tr>\n",
       "    <tr>\n",
       "      <th>4</th>\n",
       "      <td>California</td>\n",
       "      <td>39538223</td>\n",
       "    </tr>\n",
       "  </tbody>\n",
       "</table>\n",
       "</div>"
      ],
      "text/plain": [
       "        state  population\n",
       "0     Alabama     5024279\n",
       "1      Alaska      733391\n",
       "2     Arizona     7151502\n",
       "3    Arkansas     3011524\n",
       "4  California    39538223"
      ]
     },
     "execution_count": 5,
     "metadata": {},
     "output_type": "execute_result"
    }
   ],
   "source": [
    "NST = pd.read_csv(\"adoptions/NST-EST2021-POP.csv\", header=None, thousands='.')\n",
    "NST.columns = ['state', 'population']\n",
    "NST.head()"
   ]
  },
  {
   "cell_type": "markdown",
   "id": "b3642300",
   "metadata": {},
   "source": [
    "# 1. Extract all dogs with status that is not *adoptable*"
   ]
  },
  {
   "cell_type": "code",
   "execution_count": 6,
   "id": "7215971e",
   "metadata": {},
   "outputs": [
    {
     "data": {
      "text/html": [
       "<div>\n",
       "<style scoped>\n",
       "    .dataframe tbody tr th:only-of-type {\n",
       "        vertical-align: middle;\n",
       "    }\n",
       "\n",
       "    .dataframe tbody tr th {\n",
       "        vertical-align: top;\n",
       "    }\n",
       "\n",
       "    .dataframe thead th {\n",
       "        text-align: right;\n",
       "    }\n",
       "</style>\n",
       "<table border=\"1\" class=\"dataframe\">\n",
       "  <thead>\n",
       "    <tr style=\"text-align: right;\">\n",
       "      <th></th>\n",
       "      <th>org_id</th>\n",
       "      <th>url</th>\n",
       "      <th>type.x</th>\n",
       "      <th>species</th>\n",
       "      <th>breed_primary</th>\n",
       "      <th>breed_secondary</th>\n",
       "      <th>breed_mixed</th>\n",
       "      <th>breed_unknown</th>\n",
       "      <th>color_primary</th>\n",
       "      <th>color_secondary</th>\n",
       "      <th>...</th>\n",
       "      <th>contact_city</th>\n",
       "      <th>contact_state</th>\n",
       "      <th>contact_zip</th>\n",
       "      <th>contact_country</th>\n",
       "      <th>stateQ</th>\n",
       "      <th>accessed</th>\n",
       "      <th>type.y</th>\n",
       "      <th>description</th>\n",
       "      <th>stay_duration</th>\n",
       "      <th>stay_cost</th>\n",
       "    </tr>\n",
       "    <tr>\n",
       "      <th>id</th>\n",
       "      <th></th>\n",
       "      <th></th>\n",
       "      <th></th>\n",
       "      <th></th>\n",
       "      <th></th>\n",
       "      <th></th>\n",
       "      <th></th>\n",
       "      <th></th>\n",
       "      <th></th>\n",
       "      <th></th>\n",
       "      <th></th>\n",
       "      <th></th>\n",
       "      <th></th>\n",
       "      <th></th>\n",
       "      <th></th>\n",
       "      <th></th>\n",
       "      <th></th>\n",
       "      <th></th>\n",
       "      <th></th>\n",
       "      <th></th>\n",
       "      <th></th>\n",
       "    </tr>\n",
       "  </thead>\n",
       "  <tbody>\n",
       "    <tr>\n",
       "      <th>41330726</th>\n",
       "      <td>NV173</td>\n",
       "      <td>https://www.petfinder.com/dog/gunther-gunny-41...</td>\n",
       "      <td>Dog</td>\n",
       "      <td>Dog</td>\n",
       "      <td>German Shepherd Dog</td>\n",
       "      <td>NaN</td>\n",
       "      <td>False</td>\n",
       "      <td>False</td>\n",
       "      <td>NaN</td>\n",
       "      <td>NaN</td>\n",
       "      <td>...</td>\n",
       "      <td>NV</td>\n",
       "      <td>89146</td>\n",
       "      <td>US</td>\n",
       "      <td>89009</td>\n",
       "      <td>2019-09-20</td>\n",
       "      <td>NaN</td>\n",
       "      <td>Dog</td>\n",
       "      <td>Meet handsome 3 year old Gunther. Gunther came...</td>\n",
       "      <td>108</td>\n",
       "      <td>256.88</td>\n",
       "    </tr>\n",
       "    <tr>\n",
       "      <th>38169117</th>\n",
       "      <td>AZ414</td>\n",
       "      <td>https://www.petfinder.com/dog/annabelle-annie-...</td>\n",
       "      <td>Dog</td>\n",
       "      <td>Dog</td>\n",
       "      <td>Boxer</td>\n",
       "      <td>Pit Bull Terrier</td>\n",
       "      <td>True</td>\n",
       "      <td>False</td>\n",
       "      <td>Black</td>\n",
       "      <td>White / Cream</td>\n",
       "      <td>...</td>\n",
       "      <td>AZ</td>\n",
       "      <td>85249</td>\n",
       "      <td>US</td>\n",
       "      <td>AZ</td>\n",
       "      <td>2019-09-20</td>\n",
       "      <td>NaN</td>\n",
       "      <td>Dog</td>\n",
       "      <td>You can fill out an adoption application onlin...</td>\n",
       "      <td>80</td>\n",
       "      <td>130.77</td>\n",
       "    </tr>\n",
       "    <tr>\n",
       "      <th>45833989</th>\n",
       "      <td>NY98</td>\n",
       "      <td>https://www.petfinder.com/dog/pepper-courtesy-...</td>\n",
       "      <td>Dog</td>\n",
       "      <td>Dog</td>\n",
       "      <td>Beagle</td>\n",
       "      <td>NaN</td>\n",
       "      <td>False</td>\n",
       "      <td>False</td>\n",
       "      <td>NaN</td>\n",
       "      <td>NaN</td>\n",
       "      <td>...</td>\n",
       "      <td>NY</td>\n",
       "      <td>12220</td>\n",
       "      <td>US</td>\n",
       "      <td>CT</td>\n",
       "      <td>2019-09-20</td>\n",
       "      <td>NaN</td>\n",
       "      <td>Dog</td>\n",
       "      <td>This is Pepper. He is a 15 year old tri-color ...</td>\n",
       "      <td>86</td>\n",
       "      <td>180.70</td>\n",
       "    </tr>\n",
       "    <tr>\n",
       "      <th>45515547</th>\n",
       "      <td>NY98</td>\n",
       "      <td>https://www.petfinder.com/dog/cooper-courtesy-...</td>\n",
       "      <td>Dog</td>\n",
       "      <td>Dog</td>\n",
       "      <td>Mixed Breed</td>\n",
       "      <td>NaN</td>\n",
       "      <td>False</td>\n",
       "      <td>False</td>\n",
       "      <td>NaN</td>\n",
       "      <td>NaN</td>\n",
       "      <td>...</td>\n",
       "      <td>NY</td>\n",
       "      <td>12220</td>\n",
       "      <td>US</td>\n",
       "      <td>CT</td>\n",
       "      <td>2019-09-20</td>\n",
       "      <td>NaN</td>\n",
       "      <td>Dog</td>\n",
       "      <td>Cooper is 13 years old, but according to a ver...</td>\n",
       "      <td>105</td>\n",
       "      <td>400.82</td>\n",
       "    </tr>\n",
       "    <tr>\n",
       "      <th>45294115</th>\n",
       "      <td>NY98</td>\n",
       "      <td>https://www.petfinder.com/dog/daisy-courtesy-l...</td>\n",
       "      <td>Dog</td>\n",
       "      <td>Dog</td>\n",
       "      <td>Basset Hound</td>\n",
       "      <td>NaN</td>\n",
       "      <td>False</td>\n",
       "      <td>False</td>\n",
       "      <td>Brown / Chocolate</td>\n",
       "      <td>White / Cream</td>\n",
       "      <td>...</td>\n",
       "      <td>NY</td>\n",
       "      <td>12220</td>\n",
       "      <td>US</td>\n",
       "      <td>CT</td>\n",
       "      <td>2019-09-20</td>\n",
       "      <td>NaN</td>\n",
       "      <td>Dog</td>\n",
       "      <td>â¢Basset Hound, female, â¢10 years \\n\\nDelig...</td>\n",
       "      <td>57</td>\n",
       "      <td>82.61</td>\n",
       "    </tr>\n",
       "  </tbody>\n",
       "</table>\n",
       "<p>5 rows × 36 columns</p>\n",
       "</div>"
      ],
      "text/plain": [
       "         org_id                                                url type.x  \\\n",
       "id                                                                          \n",
       "41330726  NV173  https://www.petfinder.com/dog/gunther-gunny-41...    Dog   \n",
       "38169117  AZ414  https://www.petfinder.com/dog/annabelle-annie-...    Dog   \n",
       "45833989   NY98  https://www.petfinder.com/dog/pepper-courtesy-...    Dog   \n",
       "45515547   NY98  https://www.petfinder.com/dog/cooper-courtesy-...    Dog   \n",
       "45294115   NY98  https://www.petfinder.com/dog/daisy-courtesy-l...    Dog   \n",
       "\n",
       "         species        breed_primary   breed_secondary  breed_mixed  \\\n",
       "id                                                                     \n",
       "41330726     Dog  German Shepherd Dog               NaN        False   \n",
       "38169117     Dog                Boxer  Pit Bull Terrier         True   \n",
       "45833989     Dog               Beagle               NaN        False   \n",
       "45515547     Dog          Mixed Breed               NaN        False   \n",
       "45294115     Dog         Basset Hound               NaN        False   \n",
       "\n",
       "          breed_unknown      color_primary color_secondary  ... contact_city  \\\n",
       "id                                                          ...                \n",
       "41330726          False                NaN             NaN  ...           NV   \n",
       "38169117          False              Black   White / Cream  ...           AZ   \n",
       "45833989          False                NaN             NaN  ...           NY   \n",
       "45515547          False                NaN             NaN  ...           NY   \n",
       "45294115          False  Brown / Chocolate   White / Cream  ...           NY   \n",
       "\n",
       "         contact_state contact_zip contact_country      stateQ  accessed  \\\n",
       "id                                                                         \n",
       "41330726         89146          US           89009  2019-09-20       NaN   \n",
       "38169117         85249          US              AZ  2019-09-20       NaN   \n",
       "45833989         12220          US              CT  2019-09-20       NaN   \n",
       "45515547         12220          US              CT  2019-09-20       NaN   \n",
       "45294115         12220          US              CT  2019-09-20       NaN   \n",
       "\n",
       "          type.y                                        description  \\\n",
       "id                                                                    \n",
       "41330726     Dog  Meet handsome 3 year old Gunther. Gunther came...   \n",
       "38169117     Dog  You can fill out an adoption application onlin...   \n",
       "45833989     Dog  This is Pepper. He is a 15 year old tri-color ...   \n",
       "45515547     Dog  Cooper is 13 years old, but according to a ver...   \n",
       "45294115     Dog  â¢Basset Hound, female, â¢10 years \\n\\nDelig...   \n",
       "\n",
       "          stay_duration  stay_cost  \n",
       "id                                  \n",
       "41330726            108     256.88  \n",
       "38169117             80     130.77  \n",
       "45833989             86     180.70  \n",
       "45515547            105     400.82  \n",
       "45294115             57      82.61  \n",
       "\n",
       "[5 rows x 36 columns]"
      ]
     },
     "execution_count": 6,
     "metadata": {},
     "output_type": "execute_result"
    }
   ],
   "source": [
    "dogs[dogs['status'] != 'adoptable'].head()"
   ]
  },
  {
   "cell_type": "markdown",
   "id": "64cdf035",
   "metadata": {},
   "source": [
    "# 2. For each (primary) breed, determine the number of dogs"
   ]
  },
  {
   "cell_type": "code",
   "execution_count": 7,
   "id": "dc2b0600",
   "metadata": {},
   "outputs": [
    {
     "data": {
      "text/plain": [
       "breed_primary\n",
       "Affenpinscher                         17\n",
       "Afghan Hound                           4\n",
       "Airedale Terrier                      19\n",
       "Akbash                                 3\n",
       "Akita                                181\n",
       "                                    ... \n",
       "Wirehaired Pointing Griffon            1\n",
       "Wirehaired Terrier                    60\n",
       "Xoloitzcuintli / Mexican Hairless     11\n",
       "Yellow Labrador Retriever            158\n",
       "Yorkshire Terrier                    360\n",
       "Name: org_id, Length: 216, dtype: int64"
      ]
     },
     "execution_count": 7,
     "metadata": {},
     "output_type": "execute_result"
    }
   ],
   "source": [
    "dogs_grouped = dogs.groupby('breed_primary').count()\n",
    "dogs_grouped['org_id']"
   ]
  },
  {
   "cell_type": "markdown",
   "id": "4f956b04",
   "metadata": {},
   "source": [
    "# 3. For each (primary) breed, determine the ratio between the number of dogs of Mixed Breed and those not of Mixed Breed. Hint: look at the secondary_breed."
   ]
  },
  {
   "cell_type": "code",
   "execution_count": 8,
   "id": "9b0a4b65",
   "metadata": {},
   "outputs": [
    {
     "data": {
      "text/plain": [
       "breed_primary\n",
       "Affenpinscher                        0.133333\n",
       "Afghan Hound                         0.333333\n",
       "Airedale Terrier                     0.900000\n",
       "Akbash                               0.000000\n",
       "Akita                                0.403101\n",
       "                                       ...   \n",
       "Wirehaired Pointing Griffon          0.000000\n",
       "Wirehaired Terrier                   0.428571\n",
       "Xoloitzcuintli / Mexican Hairless    0.571429\n",
       "Yellow Labrador Retriever            0.645833\n",
       "Yorkshire Terrier                    0.558442\n",
       "Length: 216, dtype: float64"
      ]
     },
     "execution_count": 8,
     "metadata": {},
     "output_type": "execute_result"
    }
   ],
   "source": [
    "dogs_grouped['breed_secondary']/(dogs_grouped['org_id']-dogs_grouped['breed_secondary'])"
   ]
  },
  {
   "cell_type": "markdown",
   "id": "e25a5043",
   "metadata": {},
   "source": [
    "# 4. For each (primary) breed, determine the earliest and the latest posted timestamp."
   ]
  },
  {
   "cell_type": "code",
   "execution_count": 9,
   "id": "e7d7e511",
   "metadata": {},
   "outputs": [],
   "source": [
    "# Creiamo un subset con tutte le righe da correggere\n",
    "# Troviamo queste righe cercando, nella colonna posted, celle che contengono lettere\n",
    "dogsToCorrect = dogs[dogs['posted'].str.match(\"\\D+\")]"
   ]
  },
  {
   "cell_type": "code",
   "execution_count": 10,
   "id": "3efa797c",
   "metadata": {},
   "outputs": [],
   "source": [
    "# creiamo una nuova lista names al cui interno metteremo i nomi corretti\n",
    "names = []\n",
    "for line in dogsToCorrect['name']:\n",
    "    names.append(re.search('\\w+', line).group().capitalize())"
   ]
  },
  {
   "cell_type": "code",
   "execution_count": 11,
   "id": "8e66f087",
   "metadata": {},
   "outputs": [
    {
     "data": {
      "text/html": [
       "<div>\n",
       "<style scoped>\n",
       "    .dataframe tbody tr th:only-of-type {\n",
       "        vertical-align: middle;\n",
       "    }\n",
       "\n",
       "    .dataframe tbody tr th {\n",
       "        vertical-align: top;\n",
       "    }\n",
       "\n",
       "    .dataframe thead th {\n",
       "        text-align: right;\n",
       "    }\n",
       "</style>\n",
       "<table border=\"1\" class=\"dataframe\">\n",
       "  <thead>\n",
       "    <tr style=\"text-align: right;\">\n",
       "      <th></th>\n",
       "      <th>posted</th>\n",
       "      <th>contact_city</th>\n",
       "      <th>contact_state</th>\n",
       "      <th>contact_zip</th>\n",
       "      <th>contact_country</th>\n",
       "      <th>stateQ</th>\n",
       "      <th>accessed</th>\n",
       "    </tr>\n",
       "    <tr>\n",
       "      <th>id</th>\n",
       "      <th></th>\n",
       "      <th></th>\n",
       "      <th></th>\n",
       "      <th></th>\n",
       "      <th></th>\n",
       "      <th></th>\n",
       "      <th></th>\n",
       "    </tr>\n",
       "  </thead>\n",
       "  <tbody>\n",
       "    <tr>\n",
       "      <th>41330726</th>\n",
       "      <td>2018-04-05T05:18:31+0000</td>\n",
       "      <td>Las Vegas</td>\n",
       "      <td>NV</td>\n",
       "      <td>89146</td>\n",
       "      <td>US</td>\n",
       "      <td>89009</td>\n",
       "      <td>2019-09-20</td>\n",
       "    </tr>\n",
       "    <tr>\n",
       "      <th>38169117</th>\n",
       "      <td>2017-05-26T21:43:16+0000</td>\n",
       "      <td>Chandler</td>\n",
       "      <td>AZ</td>\n",
       "      <td>85249</td>\n",
       "      <td>US</td>\n",
       "      <td>AZ</td>\n",
       "      <td>2019-09-20</td>\n",
       "    </tr>\n",
       "    <tr>\n",
       "      <th>45833989</th>\n",
       "      <td>2019-09-01T15:12:06+0000</td>\n",
       "      <td>Albany</td>\n",
       "      <td>NY</td>\n",
       "      <td>12220</td>\n",
       "      <td>US</td>\n",
       "      <td>CT</td>\n",
       "      <td>2019-09-20</td>\n",
       "    </tr>\n",
       "    <tr>\n",
       "      <th>45515547</th>\n",
       "      <td>2019-08-06T12:15:58+0000</td>\n",
       "      <td>Albany</td>\n",
       "      <td>NY</td>\n",
       "      <td>12220</td>\n",
       "      <td>US</td>\n",
       "      <td>CT</td>\n",
       "      <td>2019-09-20</td>\n",
       "    </tr>\n",
       "    <tr>\n",
       "      <th>45294115</th>\n",
       "      <td>2019-07-18T14:20:58+0000</td>\n",
       "      <td>Albany</td>\n",
       "      <td>NY</td>\n",
       "      <td>12220</td>\n",
       "      <td>US</td>\n",
       "      <td>CT</td>\n",
       "      <td>2019-09-20</td>\n",
       "    </tr>\n",
       "  </tbody>\n",
       "</table>\n",
       "</div>"
      ],
      "text/plain": [
       "                            posted contact_city contact_state contact_zip  \\\n",
       "id                                                                          \n",
       "41330726  2018-04-05T05:18:31+0000    Las Vegas            NV       89146   \n",
       "38169117  2017-05-26T21:43:16+0000     Chandler            AZ       85249   \n",
       "45833989  2019-09-01T15:12:06+0000       Albany            NY       12220   \n",
       "45515547  2019-08-06T12:15:58+0000       Albany            NY       12220   \n",
       "45294115  2019-07-18T14:20:58+0000       Albany            NY       12220   \n",
       "\n",
       "         contact_country stateQ    accessed  \n",
       "id                                           \n",
       "41330726              US  89009  2019-09-20  \n",
       "38169117              US     AZ  2019-09-20  \n",
       "45833989              US     CT  2019-09-20  \n",
       "45515547              US     CT  2019-09-20  \n",
       "45294115              US     CT  2019-09-20  "
      ]
     },
     "execution_count": 11,
     "metadata": {},
     "output_type": "execute_result"
    }
   ],
   "source": [
    "# costruiamo un subset formato solo dalle colonne sbagliate\n",
    "correction = dogsToCorrect.loc[:,'status':'stateQ']\n",
    "# shiftiamo il nome delle colonne del subset\n",
    "# in questo modo chiamiamo le colonne dalla 24 alla 31 con i nomi dalla 25 alla 32\n",
    "correction.columns = dogs.keys()[25:32]\n",
    "correction.head()"
   ]
  },
  {
   "cell_type": "code",
   "execution_count": 12,
   "id": "c91aeccc",
   "metadata": {},
   "outputs": [],
   "source": [
    "df1 = dogsToCorrect.loc[:,:'env_cats']\n",
    "df1['name'] = names\n",
    "df1['status'] = None"
   ]
  },
  {
   "cell_type": "code",
   "execution_count": 13,
   "id": "3408657a",
   "metadata": {},
   "outputs": [],
   "source": [
    "df2 = dogsToCorrect.loc[:,'type.y':]"
   ]
  },
  {
   "cell_type": "code",
   "execution_count": 14,
   "id": "3630a4bc",
   "metadata": {},
   "outputs": [],
   "source": [
    "dogs2 = pd.concat([df1, correction, df2], axis=1)"
   ]
  },
  {
   "cell_type": "code",
   "execution_count": 15,
   "id": "e40e7513",
   "metadata": {},
   "outputs": [],
   "source": [
    "# prendiamo le righe giuste sin dall'inizio cancellando con drop le righe sbagliate\n",
    "dogs = dogs.drop(dogs2.index)"
   ]
  },
  {
   "cell_type": "code",
   "execution_count": 16,
   "id": "65244885",
   "metadata": {},
   "outputs": [],
   "source": [
    "# e le aggiungiamo alle righe appena corrette\n",
    "dogs = pd.concat([dogs,dogs2])"
   ]
  },
  {
   "cell_type": "code",
   "execution_count": 17,
   "id": "62999f52",
   "metadata": {},
   "outputs": [],
   "source": [
    "dogs['posted'] = pd.to_datetime(dogs['posted'], format='%Y-%m-%d %H:%M:%S')"
   ]
  },
  {
   "cell_type": "code",
   "execution_count": 18,
   "id": "8a4ca38b",
   "metadata": {},
   "outputs": [
    {
     "data": {
      "text/plain": [
       "breed_primary\n",
       "Affenpinscher                       2019-09-14 10:10:51+00:00\n",
       "Afghan Hound                        2019-07-27 00:38:48+00:00\n",
       "Airedale Terrier                    2019-09-19 18:40:39+00:00\n",
       "Akbash                              2019-08-23 17:11:04+00:00\n",
       "Akita                               2019-09-20 15:19:57+00:00\n",
       "                                               ...           \n",
       "Wirehaired Pointing Griffon         2016-06-29 20:03:55+00:00\n",
       "Wirehaired Terrier                  2019-09-19 22:52:45+00:00\n",
       "Xoloitzcuintli / Mexican Hairless   2019-09-08 11:15:54+00:00\n",
       "Yellow Labrador Retriever           2019-09-20 06:30:27+00:00\n",
       "Yorkshire Terrier                   2019-09-20 16:56:38+00:00\n",
       "Name: posted, Length: 216, dtype: datetime64[ns, UTC]"
      ]
     },
     "execution_count": 18,
     "metadata": {},
     "output_type": "execute_result"
    }
   ],
   "source": [
    "dogs.groupby('breed_primary')['posted'].max()"
   ]
  },
  {
   "cell_type": "code",
   "execution_count": 19,
   "id": "538a0904",
   "metadata": {},
   "outputs": [
    {
     "data": {
      "text/plain": [
       "breed_primary\n",
       "Affenpinscher                       2012-03-08 10:27:33+00:00\n",
       "Afghan Hound                        2017-06-29 23:28:51+00:00\n",
       "Airedale Terrier                    2014-06-13 12:59:36+00:00\n",
       "Akbash                              2019-07-21 00:35:59+00:00\n",
       "Akita                               2012-03-03 09:31:08+00:00\n",
       "                                               ...           \n",
       "Wirehaired Pointing Griffon         2016-06-29 20:03:55+00:00\n",
       "Wirehaired Terrier                  2012-11-27 14:07:54+00:00\n",
       "Xoloitzcuintli / Mexican Hairless   2007-02-01 00:00:00+00:00\n",
       "Yellow Labrador Retriever           2010-05-31 00:00:00+00:00\n",
       "Yorkshire Terrier                   2012-02-04 17:14:52+00:00\n",
       "Name: posted, Length: 216, dtype: datetime64[ns, UTC]"
      ]
     },
     "execution_count": 19,
     "metadata": {},
     "output_type": "execute_result"
    }
   ],
   "source": [
    "dogs.groupby('breed_primary')['posted'].min()"
   ]
  },
  {
   "cell_type": "markdown",
   "id": "a0dd8400",
   "metadata": {},
   "source": [
    "# 5. For each state, compute the sex imbalance, that is the difference between male and female dogs. In which state this imbalance is largest?"
   ]
  },
  {
   "cell_type": "code",
   "execution_count": 20,
   "id": "b41b5a6c",
   "metadata": {},
   "outputs": [],
   "source": [
    "def sex(row):\n",
    "    if row['sex'] == 'Male':\n",
    "        return 1\n",
    "    elif row['sex'] == 'Female':\n",
    "        return -1"
   ]
  },
  {
   "cell_type": "code",
   "execution_count": 21,
   "id": "cfdccaf4",
   "metadata": {},
   "outputs": [],
   "source": [
    "dogs['sex_imbalance'] = dogs.apply(sex, axis=1)"
   ]
  },
  {
   "cell_type": "code",
   "execution_count": 22,
   "id": "c3fdf117",
   "metadata": {},
   "outputs": [],
   "source": [
    "imbalance = dogs.groupby('contact_state')['sex_imbalance'].sum()"
   ]
  },
  {
   "cell_type": "code",
   "execution_count": 23,
   "id": "3812938d",
   "metadata": {},
   "outputs": [
    {
     "data": {
      "text/plain": [
       "contact_state\n",
       "OH    205.0\n",
       "Name: sex_imbalance, dtype: float64"
      ]
     },
     "execution_count": 23,
     "metadata": {},
     "output_type": "execute_result"
    }
   ],
   "source": [
    "imbalance[imbalance == imbalance.max()]"
   ]
  },
  {
   "cell_type": "code",
   "execution_count": 24,
   "id": "9dc3dcf6",
   "metadata": {},
   "outputs": [
    {
     "data": {
      "text/plain": [
       "'OH'"
      ]
     },
     "execution_count": 24,
     "metadata": {},
     "output_type": "execute_result"
    }
   ],
   "source": [
    "# Oppure, per avere solo il nome\n",
    "imbalance.idxmax()"
   ]
  },
  {
   "cell_type": "markdown",
   "id": "38f2e0bc",
   "metadata": {},
   "source": [
    "# 6. For each pair (age, size), determine the average duration of the stay and the average cost of stay."
   ]
  },
  {
   "cell_type": "code",
   "execution_count": 25,
   "id": "b4af3452",
   "metadata": {},
   "outputs": [
    {
     "data": {
      "text/html": [
       "<div>\n",
       "<style scoped>\n",
       "    .dataframe tbody tr th:only-of-type {\n",
       "        vertical-align: middle;\n",
       "    }\n",
       "\n",
       "    .dataframe tbody tr th {\n",
       "        vertical-align: top;\n",
       "    }\n",
       "\n",
       "    .dataframe thead th {\n",
       "        text-align: right;\n",
       "    }\n",
       "</style>\n",
       "<table border=\"1\" class=\"dataframe\">\n",
       "  <thead>\n",
       "    <tr style=\"text-align: right;\">\n",
       "      <th></th>\n",
       "      <th></th>\n",
       "      <th>stay_duration</th>\n",
       "      <th>stay_cost</th>\n",
       "    </tr>\n",
       "    <tr>\n",
       "      <th>age</th>\n",
       "      <th>size</th>\n",
       "      <th></th>\n",
       "      <th></th>\n",
       "    </tr>\n",
       "  </thead>\n",
       "  <tbody>\n",
       "    <tr>\n",
       "      <th rowspan=\"4\" valign=\"top\">Adult</th>\n",
       "      <th>Extra Large</th>\n",
       "      <td>89.015414</td>\n",
       "      <td>232.591561</td>\n",
       "    </tr>\n",
       "    <tr>\n",
       "      <th>Large</th>\n",
       "      <td>89.531943</td>\n",
       "      <td>238.661141</td>\n",
       "    </tr>\n",
       "    <tr>\n",
       "      <th>Medium</th>\n",
       "      <td>89.421036</td>\n",
       "      <td>238.258977</td>\n",
       "    </tr>\n",
       "    <tr>\n",
       "      <th>Small</th>\n",
       "      <td>89.407479</td>\n",
       "      <td>238.974838</td>\n",
       "    </tr>\n",
       "    <tr>\n",
       "      <th rowspan=\"4\" valign=\"top\">Baby</th>\n",
       "      <th>Extra Large</th>\n",
       "      <td>87.032967</td>\n",
       "      <td>237.180879</td>\n",
       "    </tr>\n",
       "    <tr>\n",
       "      <th>Large</th>\n",
       "      <td>89.701564</td>\n",
       "      <td>238.698827</td>\n",
       "    </tr>\n",
       "    <tr>\n",
       "      <th>Medium</th>\n",
       "      <td>89.577668</td>\n",
       "      <td>237.108131</td>\n",
       "    </tr>\n",
       "    <tr>\n",
       "      <th>Small</th>\n",
       "      <td>89.958291</td>\n",
       "      <td>239.083810</td>\n",
       "    </tr>\n",
       "    <tr>\n",
       "      <th rowspan=\"4\" valign=\"top\">Senior</th>\n",
       "      <th>Extra Large</th>\n",
       "      <td>88.861111</td>\n",
       "      <td>235.232361</td>\n",
       "    </tr>\n",
       "    <tr>\n",
       "      <th>Large</th>\n",
       "      <td>88.984298</td>\n",
       "      <td>237.507364</td>\n",
       "    </tr>\n",
       "    <tr>\n",
       "      <th>Medium</th>\n",
       "      <td>89.810052</td>\n",
       "      <td>238.514615</td>\n",
       "    </tr>\n",
       "    <tr>\n",
       "      <th>Small</th>\n",
       "      <td>89.073626</td>\n",
       "      <td>238.282286</td>\n",
       "    </tr>\n",
       "    <tr>\n",
       "      <th rowspan=\"4\" valign=\"top\">Young</th>\n",
       "      <th>Extra Large</th>\n",
       "      <td>90.586345</td>\n",
       "      <td>245.835582</td>\n",
       "    </tr>\n",
       "    <tr>\n",
       "      <th>Large</th>\n",
       "      <td>90.104206</td>\n",
       "      <td>238.149506</td>\n",
       "    </tr>\n",
       "    <tr>\n",
       "      <th>Medium</th>\n",
       "      <td>89.515123</td>\n",
       "      <td>239.304603</td>\n",
       "    </tr>\n",
       "    <tr>\n",
       "      <th>Small</th>\n",
       "      <td>89.814275</td>\n",
       "      <td>241.540069</td>\n",
       "    </tr>\n",
       "  </tbody>\n",
       "</table>\n",
       "</div>"
      ],
      "text/plain": [
       "                    stay_duration   stay_cost\n",
       "age    size                                  \n",
       "Adult  Extra Large      89.015414  232.591561\n",
       "       Large            89.531943  238.661141\n",
       "       Medium           89.421036  238.258977\n",
       "       Small            89.407479  238.974838\n",
       "Baby   Extra Large      87.032967  237.180879\n",
       "       Large            89.701564  238.698827\n",
       "       Medium           89.577668  237.108131\n",
       "       Small            89.958291  239.083810\n",
       "Senior Extra Large      88.861111  235.232361\n",
       "       Large            88.984298  237.507364\n",
       "       Medium           89.810052  238.514615\n",
       "       Small            89.073626  238.282286\n",
       "Young  Extra Large      90.586345  245.835582\n",
       "       Large            90.104206  238.149506\n",
       "       Medium           89.515123  239.304603\n",
       "       Small            89.814275  241.540069"
      ]
     },
     "execution_count": 25,
     "metadata": {},
     "output_type": "execute_result"
    }
   ],
   "source": [
    "dogs.groupby(['age', 'size']).mean(numeric_only=True)[['stay_duration', 'stay_cost']]"
   ]
  },
  {
   "cell_type": "markdown",
   "id": "5817a8ad",
   "metadata": {},
   "source": [
    "# 7. Find the dogs involved in at least 3 travels. Also list the breed of those dogs."
   ]
  },
  {
   "cell_type": "code",
   "execution_count": 26,
   "id": "83cc2e26",
   "metadata": {},
   "outputs": [],
   "source": [
    "dogTravel = pd.merge(dogs, travels, on='id')"
   ]
  },
  {
   "cell_type": "code",
   "execution_count": 27,
   "id": "8c786750",
   "metadata": {},
   "outputs": [],
   "source": [
    "dogTravel_group = dogTravel.groupby('id')['org_id'].count()"
   ]
  },
  {
   "cell_type": "code",
   "execution_count": 28,
   "id": "c7e01eea",
   "metadata": {
    "scrolled": true
   },
   "outputs": [],
   "source": [
    "n_viaggi = dogTravel_group[dogTravel_group > 2].rename('n_viaggi')"
   ]
  },
  {
   "cell_type": "code",
   "execution_count": 29,
   "id": "5f1168d9",
   "metadata": {},
   "outputs": [
    {
     "data": {
      "text/html": [
       "<div>\n",
       "<style scoped>\n",
       "    .dataframe tbody tr th:only-of-type {\n",
       "        vertical-align: middle;\n",
       "    }\n",
       "\n",
       "    .dataframe tbody tr th {\n",
       "        vertical-align: top;\n",
       "    }\n",
       "\n",
       "    .dataframe thead th {\n",
       "        text-align: right;\n",
       "    }\n",
       "</style>\n",
       "<table border=\"1\" class=\"dataframe\">\n",
       "  <thead>\n",
       "    <tr style=\"text-align: right;\">\n",
       "      <th></th>\n",
       "      <th>breed_primary</th>\n",
       "      <th>n_viaggi</th>\n",
       "    </tr>\n",
       "    <tr>\n",
       "      <th>id</th>\n",
       "      <th></th>\n",
       "      <th></th>\n",
       "    </tr>\n",
       "  </thead>\n",
       "  <tbody>\n",
       "    <tr>\n",
       "      <th>45642530</th>\n",
       "      <td>Jindo</td>\n",
       "      <td>4</td>\n",
       "    </tr>\n",
       "    <tr>\n",
       "      <th>46039420</th>\n",
       "      <td>Border Collie</td>\n",
       "      <td>4</td>\n",
       "    </tr>\n",
       "    <tr>\n",
       "      <th>40036107</th>\n",
       "      <td>Pit Bull Terrier</td>\n",
       "      <td>3</td>\n",
       "    </tr>\n",
       "    <tr>\n",
       "      <th>45851842</th>\n",
       "      <td>Labrador Retriever</td>\n",
       "      <td>3</td>\n",
       "    </tr>\n",
       "    <tr>\n",
       "      <th>45841145</th>\n",
       "      <td>Mixed Breed</td>\n",
       "      <td>3</td>\n",
       "    </tr>\n",
       "    <tr>\n",
       "      <th>...</th>\n",
       "      <td>...</td>\n",
       "      <td>...</td>\n",
       "    </tr>\n",
       "    <tr>\n",
       "      <th>38664932</th>\n",
       "      <td>Pit Bull Terrier</td>\n",
       "      <td>3</td>\n",
       "    </tr>\n",
       "    <tr>\n",
       "      <th>38495992</th>\n",
       "      <td>Pit Bull Terrier</td>\n",
       "      <td>3</td>\n",
       "    </tr>\n",
       "    <tr>\n",
       "      <th>45588395</th>\n",
       "      <td>German Shepherd Dog</td>\n",
       "      <td>3</td>\n",
       "    </tr>\n",
       "    <tr>\n",
       "      <th>36978896</th>\n",
       "      <td>Alaskan Malamute</td>\n",
       "      <td>7</td>\n",
       "    </tr>\n",
       "    <tr>\n",
       "      <th>33218331</th>\n",
       "      <td>Alaskan Malamute</td>\n",
       "      <td>7</td>\n",
       "    </tr>\n",
       "  </tbody>\n",
       "</table>\n",
       "<p>563 rows × 2 columns</p>\n",
       "</div>"
      ],
      "text/plain": [
       "                breed_primary  n_viaggi\n",
       "id                                     \n",
       "45642530                Jindo         4\n",
       "46039420        Border Collie         4\n",
       "40036107     Pit Bull Terrier         3\n",
       "45851842   Labrador Retriever         3\n",
       "45841145          Mixed Breed         3\n",
       "...                       ...       ...\n",
       "38664932     Pit Bull Terrier         3\n",
       "38495992     Pit Bull Terrier         3\n",
       "45588395  German Shepherd Dog         3\n",
       "36978896     Alaskan Malamute         7\n",
       "33218331     Alaskan Malamute         7\n",
       "\n",
       "[563 rows x 2 columns]"
      ]
     },
     "execution_count": 29,
     "metadata": {},
     "output_type": "execute_result"
    }
   ],
   "source": [
    "pd.merge(dogs, n_viaggi, on='id')[['breed_primary', 'n_viaggi']]"
   ]
  },
  {
   "cell_type": "markdown",
   "id": "a28e4427",
   "metadata": {},
   "source": [
    "# 8. Fix the travels table so that the correct state is computed from the manual and the found fields. If manual is not missing, then it overrides what is stored in found"
   ]
  },
  {
   "cell_type": "code",
   "execution_count": 30,
   "id": "a3b9387c",
   "metadata": {},
   "outputs": [],
   "source": [
    "def state(row):\n",
    "    if not(pd.isnull(row['manual'])):\n",
    "        return row['manual']\n",
    "    else:\n",
    "        return row['found']"
   ]
  },
  {
   "cell_type": "code",
   "execution_count": 31,
   "id": "9ccf5594",
   "metadata": {},
   "outputs": [],
   "source": [
    "travels['state'] = travels.apply(state, axis=1)"
   ]
  },
  {
   "cell_type": "code",
   "execution_count": 32,
   "id": "79da579b",
   "metadata": {},
   "outputs": [
    {
     "data": {
      "text/html": [
       "<div>\n",
       "<style scoped>\n",
       "    .dataframe tbody tr th:only-of-type {\n",
       "        vertical-align: middle;\n",
       "    }\n",
       "\n",
       "    .dataframe tbody tr th {\n",
       "        vertical-align: top;\n",
       "    }\n",
       "\n",
       "    .dataframe thead th {\n",
       "        text-align: right;\n",
       "    }\n",
       "</style>\n",
       "<table border=\"1\" class=\"dataframe\">\n",
       "  <thead>\n",
       "    <tr style=\"text-align: right;\">\n",
       "      <th></th>\n",
       "      <th>id</th>\n",
       "      <th>contact_city</th>\n",
       "      <th>contact_state</th>\n",
       "      <th>description</th>\n",
       "      <th>found</th>\n",
       "      <th>manual</th>\n",
       "      <th>remove</th>\n",
       "      <th>still_there</th>\n",
       "      <th>state</th>\n",
       "    </tr>\n",
       "    <tr>\n",
       "      <th>index</th>\n",
       "      <th></th>\n",
       "      <th></th>\n",
       "      <th></th>\n",
       "      <th></th>\n",
       "      <th></th>\n",
       "      <th></th>\n",
       "      <th></th>\n",
       "      <th></th>\n",
       "      <th></th>\n",
       "    </tr>\n",
       "  </thead>\n",
       "  <tbody>\n",
       "    <tr>\n",
       "      <th>0</th>\n",
       "      <td>44520267</td>\n",
       "      <td>Anoka</td>\n",
       "      <td>MN</td>\n",
       "      <td>Boris is a handsome mini schnauzer who made hi...</td>\n",
       "      <td>Arkansas</td>\n",
       "      <td>NaN</td>\n",
       "      <td>NaN</td>\n",
       "      <td>NaN</td>\n",
       "      <td>Arkansas</td>\n",
       "    </tr>\n",
       "    <tr>\n",
       "      <th>1</th>\n",
       "      <td>44698509</td>\n",
       "      <td>Groveland</td>\n",
       "      <td>FL</td>\n",
       "      <td>Duke is an almost 2 year old Potcake from Abac...</td>\n",
       "      <td>Abacos</td>\n",
       "      <td>Bahamas</td>\n",
       "      <td>NaN</td>\n",
       "      <td>NaN</td>\n",
       "      <td>Bahamas</td>\n",
       "    </tr>\n",
       "    <tr>\n",
       "      <th>2</th>\n",
       "      <td>45983838</td>\n",
       "      <td>Adamstown</td>\n",
       "      <td>MD</td>\n",
       "      <td>Zac Woof-ron is a heartthrob movie star lookin...</td>\n",
       "      <td>Adam</td>\n",
       "      <td>Maryland</td>\n",
       "      <td>NaN</td>\n",
       "      <td>NaN</td>\n",
       "      <td>Maryland</td>\n",
       "    </tr>\n",
       "    <tr>\n",
       "      <th>3</th>\n",
       "      <td>44475904</td>\n",
       "      <td>Saint Cloud</td>\n",
       "      <td>MN</td>\n",
       "      <td>~~Came in to the shelter as a transfer from an...</td>\n",
       "      <td>Adaptil</td>\n",
       "      <td>NaN</td>\n",
       "      <td>True</td>\n",
       "      <td>NaN</td>\n",
       "      <td>Adaptil</td>\n",
       "    </tr>\n",
       "    <tr>\n",
       "      <th>4</th>\n",
       "      <td>43877389</td>\n",
       "      <td>Pueblo</td>\n",
       "      <td>CO</td>\n",
       "      <td>Palang is such a sweetheart. She loves her peo...</td>\n",
       "      <td>Afghanistan</td>\n",
       "      <td>NaN</td>\n",
       "      <td>NaN</td>\n",
       "      <td>NaN</td>\n",
       "      <td>Afghanistan</td>\n",
       "    </tr>\n",
       "  </tbody>\n",
       "</table>\n",
       "</div>"
      ],
      "text/plain": [
       "             id contact_city contact_state  \\\n",
       "index                                        \n",
       "0      44520267        Anoka            MN   \n",
       "1      44698509    Groveland            FL   \n",
       "2      45983838    Adamstown            MD   \n",
       "3      44475904  Saint Cloud            MN   \n",
       "4      43877389       Pueblo            CO   \n",
       "\n",
       "                                             description        found  \\\n",
       "index                                                                   \n",
       "0      Boris is a handsome mini schnauzer who made hi...     Arkansas   \n",
       "1      Duke is an almost 2 year old Potcake from Abac...       Abacos   \n",
       "2      Zac Woof-ron is a heartthrob movie star lookin...         Adam   \n",
       "3      ~~Came in to the shelter as a transfer from an...      Adaptil   \n",
       "4      Palang is such a sweetheart. She loves her peo...  Afghanistan   \n",
       "\n",
       "         manual remove still_there        state  \n",
       "index                                            \n",
       "0           NaN    NaN         NaN     Arkansas  \n",
       "1       Bahamas    NaN         NaN      Bahamas  \n",
       "2      Maryland    NaN         NaN     Maryland  \n",
       "3           NaN   True         NaN      Adaptil  \n",
       "4           NaN    NaN         NaN  Afghanistan  "
      ]
     },
     "execution_count": 32,
     "metadata": {},
     "output_type": "execute_result"
    }
   ],
   "source": [
    "travels.head()"
   ]
  },
  {
   "cell_type": "markdown",
   "id": "6fd8a8d7",
   "metadata": {},
   "source": [
    "# 9. For each state, compute the ratio between the number of travels and the population."
   ]
  },
  {
   "cell_type": "code",
   "execution_count": 33,
   "id": "4ea88d57",
   "metadata": {},
   "outputs": [],
   "source": [
    "travels_NST = pd.merge(travels, NST, on='state')"
   ]
  },
  {
   "cell_type": "code",
   "execution_count": 34,
   "id": "688f8099",
   "metadata": {},
   "outputs": [],
   "source": [
    "n_viaggi2 = travels_NST.groupby('state').count()['id'].rename('n_viaggi')"
   ]
  },
  {
   "cell_type": "code",
   "execution_count": 35,
   "id": "7e19c743",
   "metadata": {},
   "outputs": [],
   "source": [
    "ratio = pd.merge(n_viaggi2, NST, on='state').set_index('state')"
   ]
  },
  {
   "cell_type": "code",
   "execution_count": 36,
   "id": "f9dbb4ba",
   "metadata": {},
   "outputs": [],
   "source": [
    "ratio['ratio'] = ratio['n_viaggi']/ratio['population']"
   ]
  },
  {
   "cell_type": "code",
   "execution_count": 37,
   "id": "ec310b30",
   "metadata": {},
   "outputs": [
    {
     "data": {
      "text/html": [
       "<div>\n",
       "<style scoped>\n",
       "    .dataframe tbody tr th:only-of-type {\n",
       "        vertical-align: middle;\n",
       "    }\n",
       "\n",
       "    .dataframe tbody tr th {\n",
       "        vertical-align: top;\n",
       "    }\n",
       "\n",
       "    .dataframe thead th {\n",
       "        text-align: right;\n",
       "    }\n",
       "</style>\n",
       "<table border=\"1\" class=\"dataframe\">\n",
       "  <thead>\n",
       "    <tr style=\"text-align: right;\">\n",
       "      <th></th>\n",
       "      <th>n_viaggi</th>\n",
       "      <th>population</th>\n",
       "      <th>ratio</th>\n",
       "    </tr>\n",
       "    <tr>\n",
       "      <th>state</th>\n",
       "      <th></th>\n",
       "      <th></th>\n",
       "      <th></th>\n",
       "    </tr>\n",
       "  </thead>\n",
       "  <tbody>\n",
       "    <tr>\n",
       "      <th>Alabama</th>\n",
       "      <td>338</td>\n",
       "      <td>5024279</td>\n",
       "      <td>0.000067</td>\n",
       "    </tr>\n",
       "    <tr>\n",
       "      <th>Arizona</th>\n",
       "      <td>33</td>\n",
       "      <td>7151502</td>\n",
       "      <td>0.000005</td>\n",
       "    </tr>\n",
       "    <tr>\n",
       "      <th>Arkansas</th>\n",
       "      <td>61</td>\n",
       "      <td>3011524</td>\n",
       "      <td>0.000020</td>\n",
       "    </tr>\n",
       "    <tr>\n",
       "      <th>California</th>\n",
       "      <td>279</td>\n",
       "      <td>39538223</td>\n",
       "      <td>0.000007</td>\n",
       "    </tr>\n",
       "    <tr>\n",
       "      <th>Colorado</th>\n",
       "      <td>11</td>\n",
       "      <td>5773714</td>\n",
       "      <td>0.000002</td>\n",
       "    </tr>\n",
       "  </tbody>\n",
       "</table>\n",
       "</div>"
      ],
      "text/plain": [
       "            n_viaggi  population     ratio\n",
       "state                                     \n",
       "Alabama          338     5024279  0.000067\n",
       "Arizona           33     7151502  0.000005\n",
       "Arkansas          61     3011524  0.000020\n",
       "California       279    39538223  0.000007\n",
       "Colorado          11     5773714  0.000002"
      ]
     },
     "execution_count": 37,
     "metadata": {},
     "output_type": "execute_result"
    }
   ],
   "source": [
    "ratio.head()"
   ]
  },
  {
   "cell_type": "markdown",
   "id": "3b16acb1",
   "metadata": {},
   "source": [
    "# 10. For each dog, compute the number of days from the posted day to the day of last access."
   ]
  },
  {
   "cell_type": "code",
   "execution_count": 38,
   "id": "71b77030",
   "metadata": {},
   "outputs": [],
   "source": [
    "# Trasformiamo accessed in formato datetime\n",
    "dogs['accessed'] = pd.to_datetime(dogs['accessed'], format='%Y-%m-%d')"
   ]
  },
  {
   "cell_type": "code",
   "execution_count": 39,
   "id": "579941cc",
   "metadata": {},
   "outputs": [],
   "source": [
    "# Prendiamo solo anno, mese e giorno da posted, in modo da eliminare le informazioni dell'ora e della time zone\n",
    "posted_naive = dogs['posted'].dt.strftime('%Y-%m-%d')\n",
    "posted_naive = pd.to_datetime(posted_naive, format='%Y-%m-%d')"
   ]
  },
  {
   "cell_type": "code",
   "execution_count": 40,
   "id": "6eb50302",
   "metadata": {},
   "outputs": [
    {
     "data": {
      "text/plain": [
       "id\n",
       "46042150    0 days\n",
       "46042002    0 days\n",
       "46040898    0 days\n",
       "46039877    0 days\n",
       "46039306    0 days\n",
       "             ...  \n",
       "45916348   11 days\n",
       "45733027   27 days\n",
       "45413997   51 days\n",
       "45406516   53 days\n",
       "45264615   67 days\n",
       "Length: 58180, dtype: timedelta64[ns]"
      ]
     },
     "execution_count": 40,
     "metadata": {},
     "output_type": "execute_result"
    }
   ],
   "source": [
    "dogs['accessed'] - posted_naive"
   ]
  },
  {
   "cell_type": "code",
   "execution_count": 41,
   "id": "0aa0c98e",
   "metadata": {},
   "outputs": [],
   "source": [
    "dogs['daysPassed'] = dogs['accessed'] - posted_naive"
   ]
  },
  {
   "cell_type": "markdown",
   "id": "173f3457",
   "metadata": {},
   "source": [
    "# 11. Partition the dogs according to the number of weeks from the posted day to the day of last access."
   ]
  },
  {
   "cell_type": "code",
   "execution_count": 42,
   "id": "4d361263",
   "metadata": {},
   "outputs": [],
   "source": [
    "weekPassed = dogs['daysPassed'].dt.days/7"
   ]
  },
  {
   "cell_type": "code",
   "execution_count": 43,
   "id": "d66f97cd",
   "metadata": {},
   "outputs": [],
   "source": [
    "dogs['weekPassed'] = weekPassed.apply(math.floor)"
   ]
  },
  {
   "cell_type": "code",
   "execution_count": 44,
   "id": "1e1da141",
   "metadata": {},
   "outputs": [
    {
     "data": {
      "text/plain": [
       "weekPassed\n",
       "0      9803\n",
       "1      6547\n",
       "2      5764\n",
       "3      3353\n",
       "4      2439\n",
       "       ... \n",
       "729       1\n",
       "746       1\n",
       "811       1\n",
       "812       1\n",
       "852       1\n",
       "Name: org_id, Length: 579, dtype: int64"
      ]
     },
     "execution_count": 44,
     "metadata": {},
     "output_type": "execute_result"
    }
   ],
   "source": [
    "dogs.groupby('weekPassed')['org_id'].count()"
   ]
  },
  {
   "cell_type": "markdown",
   "id": "ba9d9cf7",
   "metadata": {},
   "source": [
    "# 12. Find for duplicates in the dogs dataset. Two records are duplicates if they have (1) same breeds and sex, and (2) they share at least 90% of the words in the description field. Extra points if you find and implement a more refined for determining if two rows are duplicates."
   ]
  },
  {
   "cell_type": "code",
   "execution_count": 46,
   "id": "f39befa3",
   "metadata": {},
   "outputs": [],
   "source": [
    "duplicateCount = dogs.groupby(['breed_primary', 'sex'])['org_id'].count()"
   ]
  },
  {
   "cell_type": "code",
   "execution_count": 47,
   "id": "59df43ab",
   "metadata": {},
   "outputs": [],
   "source": [
    "# Tieni solo i gruppi che contengono più di un cane\n",
    "duplicates = duplicateCount[duplicateCount > 1].rename('n_cani')"
   ]
  },
  {
   "cell_type": "code",
   "execution_count": 48,
   "id": "b1271b95",
   "metadata": {},
   "outputs": [],
   "source": [
    "groups = dict(list(dogs.groupby(['breed_primary', 'sex'])))"
   ]
  },
  {
   "cell_type": "code",
   "execution_count": 49,
   "id": "de672d07",
   "metadata": {},
   "outputs": [
    {
     "data": {
      "text/plain": [
       "breed_primary                      sex   \n",
       "Affenpinscher                      Female      9\n",
       "                                   Male        8\n",
       "Afghan Hound                       Male        3\n",
       "Airedale Terrier                   Female      8\n",
       "                                   Male       11\n",
       "                                            ... \n",
       "Xoloitzcuintli / Mexican Hairless  Male        7\n",
       "Yellow Labrador Retriever          Female     76\n",
       "                                   Male       82\n",
       "Yorkshire Terrier                  Female    156\n",
       "                                   Male      204\n",
       "Name: n_cani, Length: 365, dtype: int64"
      ]
     },
     "execution_count": 49,
     "metadata": {},
     "output_type": "execute_result"
    }
   ],
   "source": [
    "duplicates"
   ]
  },
  {
   "cell_type": "code",
   "execution_count": 118,
   "id": "10e1bcc5",
   "metadata": {},
   "outputs": [],
   "source": [
    "# 45s\n",
    "duplicati = []\n",
    "for i in range(len(subset)):\n",
    "        if pd.isnull(subset['desSplit'].iloc[i]).any():\n",
    "            continue\n",
    "        for j in range(len(subset))[i+1:]:\n",
    "            match = 0\n",
    "            if pd.isnull(subset['desSplit'].iloc[j]).any():\n",
    "                continue\n",
    "            for word in subset['desSplit'].iloc[i]:\n",
    "                if word in subset['desSplit'].iloc[j]:\n",
    "                    match += 1\n",
    "            if match/len(subset['desSplit'].iloc[i]) >= 0.9:\n",
    "                duplicati.append(subset.index[j])"
   ]
  },
  {
   "cell_type": "code",
   "execution_count": 135,
   "id": "f06515cf",
   "metadata": {},
   "outputs": [],
   "source": [
    "# 9s\n",
    "# implement 10% rule\n",
    "duplicati = []\n",
    "# loop for the first row\n",
    "for i in range(len(subset)):\n",
    "    # If the text is \"nan\" or the row has already been catalogated as a duplicate, skip to the next row\n",
    "    if pd.isnull(subset['desSplit'].iloc[i]).any() or subset.index[i] in duplicati:\n",
    "        continue\n",
    "    # loop for the second row\n",
    "    for j in range(len(subset))[i+1:]:\n",
    "        Nmatch = 0\n",
    "        # set \"tenP\" as the number that indicates 10% of the words\n",
    "        tenP = len(subset['desSplit'].iloc[i])/10\n",
    "        # If the text is \"nan\" or the row has already been catalogated as a duplicate, skip to the next row\n",
    "        if pd.isnull(subset['desSplit'].iloc[j]).any() or subset.index[j] in duplicati:\n",
    "            continue\n",
    "        # Loop through the words of the first row\n",
    "        for word in subset['desSplit'].iloc[i]:\n",
    "            # If the word of the first row is not in the second row, then add 1 to Nmatch\n",
    "            if word not in subset['desSplit'].iloc[j]:\n",
    "                Nmatch += 1\n",
    "            # When Nmatch reaches the 10% line, we know that for sure less than 90% of the words are equal, so we skip to the next iteration\n",
    "            if Nmatch > tenP:\n",
    "                break\n",
    "        # if the \"break\" statement never occured, than the 10% line has never been reached, so more than 90% of the words are the same\n",
    "        # so we catalog the second row as \"duplicate\"\n",
    "        else:\n",
    "            duplicati.append(subset.index[j])"
   ]
  },
  {
   "cell_type": "code",
   "execution_count": null,
   "id": "718ddbc8",
   "metadata": {},
   "outputs": [],
   "source": []
  },
  {
   "cell_type": "code",
   "execution_count": 51,
   "id": "12c0c37c",
   "metadata": {},
   "outputs": [],
   "source": [
    "def split(row):\n",
    "    if not(pd.isnull(row['description'])):\n",
    "        return re.sub(r'[^\\w\\s]', '', row['description'].lower()).split(\" \")\n",
    "    else:\n",
    "        return [math.nan]"
   ]
  },
  {
   "cell_type": "code",
   "execution_count": 54,
   "id": "98772954",
   "metadata": {},
   "outputs": [
    {
     "name": "stdout",
     "output_type": "stream",
     "text": [
      "0/ 365\n",
      "merging done\n",
      "1/ 365\n",
      "merging done\n",
      "2/ 365\n",
      "merging done\n",
      "3/ 365\n",
      "merging done\n",
      "4/ 365\n",
      "merging done\n",
      "5/ 365\n",
      "merging done\n",
      "6/ 365\n",
      "merging done\n",
      "7/ 365\n",
      "merging done\n",
      "8/ 365\n",
      "merging done\n",
      "9/ 365\n",
      "merging done\n",
      "10/ 365\n",
      "merging done\n",
      "11/ 365\n",
      "merging done\n",
      "12/ 365\n",
      "merging done\n",
      "13/ 365\n",
      "merging done\n",
      "14/ 365\n",
      "merging done\n",
      "15/ 365\n",
      "merging done\n",
      "16/ 365\n",
      "merging done\n",
      "17/ 365\n",
      "merging done\n",
      "18/ 365\n",
      "merging done\n"
     ]
    },
    {
     "ename": "KeyboardInterrupt",
     "evalue": "",
     "output_type": "error",
     "traceback": [
      "\u001b[1;31m---------------------------------------------------------------------------\u001b[0m",
      "\u001b[1;31mKeyboardInterrupt\u001b[0m                         Traceback (most recent call last)",
      "File \u001b[1;32m<timed exec>:20\u001b[0m\n",
      "File \u001b[1;32m~\\AppData\\Local\\Programs\\Python\\Python39\\lib\\site-packages\\pandas\\core\\dtypes\\missing.py:185\u001b[0m, in \u001b[0;36misna\u001b[1;34m(obj)\u001b[0m\n\u001b[0;32m    108\u001b[0m \u001b[38;5;28;01mdef\u001b[39;00m \u001b[38;5;21misna\u001b[39m(obj: \u001b[38;5;28mobject\u001b[39m) \u001b[38;5;241m-\u001b[39m\u001b[38;5;241m>\u001b[39m \u001b[38;5;28mbool\u001b[39m \u001b[38;5;241m|\u001b[39m npt\u001b[38;5;241m.\u001b[39mNDArray[np\u001b[38;5;241m.\u001b[39mbool_] \u001b[38;5;241m|\u001b[39m NDFrame:\n\u001b[0;32m    109\u001b[0m     \u001b[38;5;124;03m\"\"\"\u001b[39;00m\n\u001b[0;32m    110\u001b[0m \u001b[38;5;124;03m    Detect missing values for an array-like object.\u001b[39;00m\n\u001b[0;32m    111\u001b[0m \n\u001b[1;32m   (...)\u001b[0m\n\u001b[0;32m    183\u001b[0m \u001b[38;5;124;03m    Name: 1, dtype: bool\u001b[39;00m\n\u001b[0;32m    184\u001b[0m \u001b[38;5;124;03m    \"\"\"\u001b[39;00m\n\u001b[1;32m--> 185\u001b[0m     \u001b[38;5;28;01mreturn\u001b[39;00m \u001b[43m_isna\u001b[49m\u001b[43m(\u001b[49m\u001b[43mobj\u001b[49m\u001b[43m)\u001b[49m\n",
      "File \u001b[1;32m~\\AppData\\Local\\Programs\\Python\\Python39\\lib\\site-packages\\pandas\\core\\dtypes\\missing.py:230\u001b[0m, in \u001b[0;36m_isna\u001b[1;34m(obj, inf_as_na)\u001b[0m\n\u001b[0;32m    228\u001b[0m     \u001b[38;5;28;01mreturn\u001b[39;00m obj\u001b[38;5;241m.\u001b[39misna()\n\u001b[0;32m    229\u001b[0m \u001b[38;5;28;01melif\u001b[39;00m \u001b[38;5;28misinstance\u001b[39m(obj, \u001b[38;5;28mlist\u001b[39m):\n\u001b[1;32m--> 230\u001b[0m     \u001b[38;5;28;01mreturn\u001b[39;00m _isna_array(\u001b[43mnp\u001b[49m\u001b[38;5;241;43m.\u001b[39;49m\u001b[43masarray\u001b[49m\u001b[43m(\u001b[49m\u001b[43mobj\u001b[49m\u001b[43m,\u001b[49m\u001b[43m \u001b[49m\u001b[43mdtype\u001b[49m\u001b[38;5;241;43m=\u001b[39;49m\u001b[38;5;28;43mobject\u001b[39;49m\u001b[43m)\u001b[49m, inf_as_na\u001b[38;5;241m=\u001b[39minf_as_na)\n\u001b[0;32m    231\u001b[0m \u001b[38;5;28;01melif\u001b[39;00m \u001b[38;5;28mhasattr\u001b[39m(obj, \u001b[38;5;124m\"\u001b[39m\u001b[38;5;124m__array__\u001b[39m\u001b[38;5;124m\"\u001b[39m):\n\u001b[0;32m    232\u001b[0m     \u001b[38;5;28;01mreturn\u001b[39;00m _isna_array(np\u001b[38;5;241m.\u001b[39masarray(obj), inf_as_na\u001b[38;5;241m=\u001b[39minf_as_na)\n",
      "\u001b[1;31mKeyboardInterrupt\u001b[0m: "
     ]
    }
   ],
   "source": [
    "%%time\n",
    "duplicati = []\n",
    "num = 0\n",
    "# for every group that we found through the previous groupby\n",
    "for key in duplicates.keys():\n",
    "    print(str(num) + \"/ 365\")\n",
    "    num += 1\n",
    "    subset = groups[key]\n",
    "    desSplit = subset.apply(split, axis=1).rename('desSplit')\n",
    "    subset = pd.merge(subset, desSplit, on = 'id')\n",
    "    print('merging done')\n",
    "    # loop for the first row\n",
    "    for i in range(len(subset)):\n",
    "        # If the text is \"nan\" or the row has already been catalogated as a duplicate, skip to the next row\n",
    "        if pd.isnull(subset['desSplit'].iloc[i]).any() or subset.index[i] in duplicati:\n",
    "            continue\n",
    "        # loop for the second row\n",
    "        for j in range(len(subset))[i+1:]:\n",
    "            Nmatch = 0\n",
    "            # If the text is \"nan\" or the row has already been catalogated as a duplicate, skip to the next row\n",
    "            if pd.isnull(subset['desSplit'].iloc[j]).any() or subset.index[j] in duplicati:\n",
    "                continue\n",
    "            if len(set(subset['desSplit'].iloc[i]) - set(subset['desSplit'].iloc[j]))/len(subset['desSplit'].iloc[i]) <= 0.1:\n",
    "                duplicati.append(subset.index[j])"
   ]
  },
  {
   "cell_type": "code",
   "execution_count": 110,
   "id": "c372e3bd",
   "metadata": {},
   "outputs": [
    {
     "data": {
      "text/plain": [
       "4461"
      ]
     },
     "execution_count": 110,
     "metadata": {},
     "output_type": "execute_result"
    }
   ],
   "source": [
    "len(duplicati)"
   ]
  },
  {
   "cell_type": "code",
   "execution_count": 112,
   "id": "a8eb9a11",
   "metadata": {},
   "outputs": [],
   "source": [
    "dogs = dogs.drop(duplicati)"
   ]
  },
  {
   "cell_type": "code",
   "execution_count": 113,
   "id": "c623718c",
   "metadata": {},
   "outputs": [
    {
     "data": {
      "text/plain": [
       "53719"
      ]
     },
     "execution_count": 113,
     "metadata": {},
     "output_type": "execute_result"
    }
   ],
   "source": [
    "len(dogs)"
   ]
  },
  {
   "cell_type": "code",
   "execution_count": 116,
   "id": "ce554a23",
   "metadata": {},
   "outputs": [],
   "source": [
    "duplicateCount = dogs.groupby(['breed_primary', 'age', 'sex', 'size', 'name','contact_city'])['org_id'].count()"
   ]
  },
  {
   "cell_type": "code",
   "execution_count": 117,
   "id": "793ff077",
   "metadata": {},
   "outputs": [],
   "source": [
    "duplicates = groups[groups>1]"
   ]
  },
  {
   "cell_type": "code",
   "execution_count": 118,
   "id": "a0fcaee4",
   "metadata": {},
   "outputs": [],
   "source": [
    "groups = dict(list(dogs.groupby(['breed_primary', 'age', 'sex', 'size', 'name','contact_city'])))"
   ]
  },
  {
   "cell_type": "code",
   "execution_count": 120,
   "id": "1765c892",
   "metadata": {},
   "outputs": [],
   "source": [
    "duplicati = []\n",
    "for i in duplicates.keys():\n",
    "    for j in groups[i].index[1:]:\n",
    "        duplicati.append(j)"
   ]
  },
  {
   "cell_type": "code",
   "execution_count": 121,
   "id": "05105a75",
   "metadata": {},
   "outputs": [
    {
     "data": {
      "text/plain": [
       "152"
      ]
     },
     "execution_count": 121,
     "metadata": {},
     "output_type": "execute_result"
    }
   ],
   "source": [
    "len(duplicati)"
   ]
  },
  {
   "cell_type": "code",
   "execution_count": 122,
   "id": "f3fa8f91",
   "metadata": {},
   "outputs": [
    {
     "ename": "KeyError",
     "evalue": "'[45871731, 45842477, 46023963, 46019974, 46019762, 45989321, 45872595, 43853984, 43170920, 42668575, 42087185, 45639446, 45252099, 44517341, 46026337, 45831359, 45384056, 45986905, 45925981, 45925980, 45925975, 45925979, 45925974, 45925982, 45925976, 45555559, 45517678, 44399248, 45955061, 45300339, 44967207, 44434059, 45717188, 46028452, 46028451, 45949697, 45862141, 45862119, 45862106, 45861529, 45031624, 44978859, 44970891, 45677559, 46030501, 45931729, 45560548, 45685284, 45790697, 45985650, 44968255, 44837270, 44790314, 44742449, 44545963, 45732409, 46021152, 46020135, 43853983, 36745161, 45983609, 45782390, 45383992, 44425818, 45379615, 45092336, 44041085, 45861413, 44969459, 45988578, 44564534, 46006005, 44088225, 44009169, 40954349, 39638646, 45409939, 44631651, 44627406, 44417986, 45356571, 46020644, 45695457, 45599092, 45288944, 45138812, 45097240, 45029817, 45968623, 45677671, 45677650, 45335660, 44942074, 45764629, 45764537, 45758174, 45702107, 45695888, 45310401, 44926926, 45676423, 45801787, 45481602, 39447602, 45539156, 46014959, 46014954, 46011344, 37443326, 34640590, 45923182, 45782786, 45664566, 45932317, 45932138, 45932104, 45931760, 45931720, 45931696, 45931670, 45931656, 45931611, 45931579, 45931524, 45812300, 45812307, 45812314, 45989413, 46004422, 45838040, 45383127, 41674793, 41674502, 45827718, 45244237, 45600383, 38426540, 45923424, 45944335, 45944289, 44291165, 44165896, 42093317, 41375123, 41359746, 41359768, 41359780, 41359781, 41359739, 41359736, 41357692, 41307935, 32680773, 26501282, 40092600, 45814366, 45814385, 45814397, 44667660, 44951296, 44695480, 45542626, 45542607, 44225289, 45482974, 45419558, 45419567, 42896807, 41222254, 27662543, 42358790, 42357823, 42155617, 41708075, 41695939, 41695373, 41695293, 41689578, 41689141, 41684151, 41683726, 41674919, 41674877, 41674862, 41674717, 41674552, 41674533, 45901408, 45901387, 45901290, 46026602, 45987668, 45987195, 45985995, 45985844, 45919527, 45919427, 45913110, 45912627, 45673916, 45362131, 45138715, 43500723, 42662612, 45239237, 45811275, 45811177, 45811188, 45811195, 45891118, 45270764, 35542491, 46022094, 45976783, 45421070, 45294623, 45148037, 45125248, 44972753, 44718117, 44421207, 43146345, 41357708, 41357624, 41197579, 40188967, 39918807, 37901840, 34923971, 26855735, 45276431, 41001341, 39070317, 37763466, 37374359, 36007688, 45786858, 45003048, 46031976, 45191847, 44940008, 42829233, 38465563, 46031268, 45977365, 44875451, 44475904, 44078702, 45413277, 46020859, 46014997, 45960715, 45810940, 45801517, 45773506, 45578069, 45493895, 45371897, 45183219, 45162958, 44700242, 43312413, 44093996, 45761228, 42116718, 45546931, 45488474, 45973891, 42072319, 41695243, 43772047, 45947053, 45582952, 45909552, 45456294, 44089938, 43950147, 46013602, 45493192, 45741859, 44991151, 43865040, 43754232, 42833184, 42390750, 41359751, 41359735, 41357674, 42672761, 45814396, 45814356, 45287295, 45542573, 45542545, 45683573, 45950254, 45880585, 45880468, 29991523, 35234154, 45798488, 44531923, 41812506, 41717638, 41717613, 41717495, 41717430, 41717350, 41717262, 41695358, 41689705, 41689038, 41689025, 41688999, 41686393, 41686364, 41686348, 41684090, 41683925, 41683829, 41674911, 41674906, 41674767, 41674731, 41674697, 41674683, 41674649, 41674638, 45849562, 45901401, 45901338, 45901328, 45901264, 45259229, 45468438, 45176202, 46014001, 45925042, 45811243, 45811203, 45811215, 45811231, 45811233, 45831426, 45697331, 45885505, 45153855, 45697989, 45043570, 45820028, 45547010, 46039252, 46039238, 46018206, 46018204, 46018201, 46018198, 46018199, 45985133, 45985126, 45948825, 45948797, 45948795, 46011273, 46011178, 46011172, 45910736, 45679345, 44877981, 45963127, 45963050, 45930321, 45831421, 45373187, 46032535, 31007276, 45827287, 45858734, 45606470, 45606468, 45204231, 45032670, 45017094, 44757389, 44471635, 45847966, 45669914, 45894963, 45917113, 45610024, 45963932, 45963929, 45963931, 45717195, 46022610, 45090568, 45090373, 45916272, 45916257, 45916220, 45916208, 38184218, 46018233, 46018207, 46018203, 46018202, 46018200, 45945048, 45727364, 45339046, 45985138, 45985136, 45985123, 45948822, 45948821, 45948800, 45948751, 46011240, 46011225, 46011205, 46011165, 45968079, 45968056, 45968051, 45910745, 46036308, 46041704, 39823689, 39823691, 44578812, 43947342, 45943240, 45938591, 45938575, 45938583, 45938587, 45724780, 45610951, 45610962, 45610948, 45357124, 45053984, 44613968, 42516862, 45436576, 44506699, 45961675, 45961700, 45784579, 45335030, 45877951, 45862334, 23083678, 45606469, 45606467, 45351856, 45032668, 44687426, 44237593, 38014654, 27535798, 45970635, 46007404, 46007399, 46007360, 46016377, 46016371, 46016340, 45123116, 45987039, 45986549, 45506975, 45501200, 45833221, 45856820, 46020297, 46019910, 46019809, 45851299, 45632880, 45895282, 45578440, 45578378, 46025408, 46025409, 46018483, 46008044, 45924351, 45592741, 45964047, 45364286, 45987736, 45373060, 45986684, 45986541, 45980841, 45980839, 45980842, 45929291, 45855081, 45721873, 44880250, 45878212, 45747223, 45747200, 45709123, 45708837, 45708798, 43079923, 45938589, 45938574, 45919920, 46038853, 46038852, 46029929, 46029799, 46029798, 46029797, 46018532, 46018533, 46018460, 45591984, 45030297, 45831318, 45980838, 45929394, 44969569, 41668692, 43557109, 45938585, 45938576, 45938580, 45938581, 45780457, 45750522, 45564348, 45295650, 45295649, 45684708, 45576323, 45524249, 45668361, 44502002, 45887434, 44880321, 44545868, 45911579, 45911184, 45326867, 45326858, 46026430, 46026378, 44522598, 43357621, 44949464, 45250947, 42067424, 46005858, 45641792, 37784039, 45856692, 45856530, 45787768, 45987713, 45946882, 46023575, 45644489, 45644490, 45610056, 45610053, 45408005, 45408006, 45398803, 44889497, 42007640, 44133946, 45936210, 45843398, 45837450, 45787684, 45715547, 45715374, 45610055, 45610054, 45398802, 45169862, 44772231, 44574373, 43438831, 41132388, 38282620, 38282617, 45772994, 45772977, 45772956, 45772940, 34610406, 46038089, 46016034, 45954542, 45919633, 45765325, 45408712, 45888773, 45842728, 45454618, 41269632, 45987675, 45952305, 45952306, 45942794, 45942792, 45923095, 45923079, 45923029, 45565253, 45831333, 43880580, 45002783, 40869429, 36022110, 30429166, 45893807, 45835551, 45742247, 45524679, 45524680, 45369282, 44968981, 44968979, 44851669, 43656915, 43457703, 42583211, 33375189, 46015670, 45940217, 45720295, 45612458, 45369996, 46019068, 45965607, 45965605, 45965492, 45938669, 45938665, 45938673, 45938499, 45842142, 45830246, 45744744, 45564982, 45171312, 45956060, 46027249, 45957900, 45869289, 45869225, 45554598, 45257423, 45741217, 45741064, 45668073, 43661357, 43661358, 45856300, 45856301, 45758013, 44673142, 42960926, 46026859, 44566082, 43228530, 43228500, 46033873, 45952578, 44952559, 45984027, 45812389, 45866376, 45866145, 46021179, 45951113, 44470205, 45096064, 45984484, 45984473, 45984469, 46034940, 42261951, 45768523, 45844189, 45592994, 46037875, 45279145, 45954538, 44452161, 45934878, 45923597, 45888618, 45348686, 45838196, 45793054, 45933986, 45762724, 45523632, 45949789, 45873521, 45942796, 45942793, 44311444, 45904914, 45831398, 45734349, 45322601, 44857198, 43494390, 45109857, 44630906, 44039289, 41798755, 45567007, 45397937, 45316614, 43147464, 37870388, 45790101, 44557170, 44557154, 43810491, 42970730, 45686305, 45741917, 45723948, 45608892, 45317997, 45268666, 45076747, 44942635, 44650685, 44385754, 43242342, 42876210, 42279852, 41338869, 39698738, 32295122, 45714227, 44858124, 44192709, 45945349, 45945064, 45855925, 45855715, 45850546, 45765600, 45537431, 45099938, 45965606, 45964752, 45938672, 45938588, 45858930, 45752457, 44821320, 43977170, 45665725, 45910673, 45948876, 45869288, 44413313, 41467868, 45976835, 45805157, 45698408, 43007260, 43205817, 41151821, 45856299, 45856133, 45942427, 45942374, 45135257, 45818736, 45818774, 46026817, 46026751, 45719660, 45724223, 45916942, 45916915, 45916874, 45916840, 45916792, 45916683, 45037504, 41334007, 45671146, 45295916, 45153373, 45643673, 45984443, 45953365, 37139489, 46020257, 45163256, 45934653, 45934311, 43296346, 45602968, 45593114, 45154167, 45940953, 44264847, 44264838, 28196899, 45925082, 45855358, 45855343, 45838222, 45491578, 37409549, 45968373, 45163202, 45771426, 45771309, 45529644, 45209832, 45795063, 45496326, 45926640, 45908094, 45958447, 45116943, 45116925, 45811601, 45713310, 45518854, 45051161, 44846634, 44846475, 44846564, 45904000, 44846358, 45880644, 45776879, 45771350, 45747696, 45986849, 45986850, 45791441, 45868389, 44417978, 44417987, 45964408, 45104966, 45600377, 45600378, 45600382, 45484088, 45600374, 46041386, 45981389, 46028456, 46028449, 45831338, 45865838, 45965626, 45886232, 45886201, 45912769, 45912762, 44828502, 45912664, 45912700, 45832694, 45832689, 45935400, 45832696, 45903558, 36671762, 45745657, 45978298, 45978292, 45832684, 44907983, 42865848, 45987608, 45759569, 45759539, 45561887, 44643271, 44623760, 43401658, 38370846, 38370847, 45850863, 45666309, 45544971, 45199317, 24435534, 45513613, 46042213, 45606324, 35076939, 45897371, 45698042, 45936707, 45936708, 45936709, 45936703, 44483064, 29507936, 45041064, 44225522, 46028534, 46007239, 45807032, 45734867, 45734834, 45734825, 45383385, 44889150, 45793926, 45947189, 45914924, 13085754, 11037014, 10226253, 45745654, 45745650, 45729326, 45978293, 45718628, 45061051, 45845845, 45769372, 44605862, 43428378, 44605893, 45963905, 46017528, 46017527, 44286382, 45686301, 43495511, 43265939, 42510485, 42491177, 41458238, 38370843, 38370845, 38370842, 38370844, 46009543, 45892334, 45232707, 45938584, 45938579, 45859046, 45850859, 45053986, 38799853, 45985288, 45734456, 45734373, 43592552, 46042211, 46042214, 46042212, 45728857, 45502998, 45936701, 45936702, 46039842, 46039832, 44344425, 45734691, 46016169, 45740014, 45923589, 45881339, 44925831, 46026826, 44590367, 45986983, 46012664, 45965795, 45961038, 38422555, 38943711, 44373214, 45493832, 45979094, 45979101, 45979098, 46037054, 46036839, 45982107, 45599382, 41241450, 42893111, 41942633, 45854721, 45754046, 45707526, 45707516, 45525229, 45456490, 45095871, 44907511, 44731718, 44148434, 43383281, 43094912, 41577718, 40809223, 46029095, 46029093, 45978295, 45632932, 45525225, 45095863, 45065690, 44931450, 44927924, 44882465, 44812480, 41775785, 40966057, 43823402, 42747939, 45847517, 45506462, 45983635, 45983623, 45932402, 45922354, 45867595, 44998813, 38413572, 45831349, 42590842, 41932746, 37021713, 37530672, 35102207, 45924277, 45924279, 45924271, 46015571, 46015574, 46015573, 46015572, 45934665, 43542219, 45901975, 44930210, 44681494, 43076124, 46025254, 46025252, 45890266, 45890262, 45889990, 45856809, 45698395, 44439487, 41383136, 45829557, 44363996, 35356133, 44799235, 44799232, 45835940, 45186715, 43679324, 42741610, 38447591, 46016724, 42028295, 45264563, 45753661, 44188931, 38169117, 45719756, 45740438, 44844256, 44373665, 44160528, 44526971, 45303147, 45421847, 46020353, 45690816, 45640011, 45065327, 45176342, 38049061, 42473187, 45853224, 45770708, 45770606, 45196436, 45656208, 45656176, 45656137, 45058609, 46020403, 45977184, 45717227, 45937249, 45708071, 45662692, 44671774, 45681883, 45681879, 45976402, 45812410, 45690354, 44848862, 44704905, 43985973, 43731192, 38143100, 16340895, 43061136, 41850127, 45515753, 45239770, 44922933, 42582836, 45916306, 45577340, 45789093, 45756659, 45505337, 45113079, 44963486, 44941182, 44817080, 43972440, 43232704, 45987213, 44678686, 42855034, 42014786, 43851063, 45976470, 45360908, 44450659, 44837054, 44538965, 44033141, 43529082, 33512830, 45577373, 45360465, 44739078, 45411798, 42703566, 41134750, 31224203, 43819626, 45952047, 45951961, 45951948, 45951816, 45951757, 45861182, 45846068, 45846062, 45846039, 45830013, 45830005, 45829998, 45829970, 45159480, 45962827, 45962818, 45962523, 45801422, 45470688, 45980419, 45811261, 43318603, 41247961, 26334883, 34531585, 46037859, 46005997, 45981786, 45976308, 45976212, 45911051, 45854732, 45656777, 45656771, 45538405, 45404423, 45163124, 45095855, 45095846, 44889126, 44857602, 44731771, 44047323, 42224520, 41801547, 41179915, 40672130, 46029090, 45911097, 45911048, 45538390, 45132015, 45002042, 44931413, 44429787, 45876630, 45876628, 45876627, 45876626, 45876629, 45876624, 45867011, 45847524, 45831276, 40580254, 40580131, 46015685, 45986972, 40970940, 45852075, 45388844, 45124793, 45327119, 37521547, 35117712, 35117714, 35117723, 35117728, 35117318, 35117178, 45926046, 44587618, 44369603, 45829015, 45368927, 44848153, 41567095, 45165978, 45052392, 44119558, 44817656, 44684190, 45764816, 41844529, 31924590, 44629476, 44092730, 43050525, 45985889, 40964177, 45977239, 45942321, 45916282, 45847030, 45753255, 45680004, 45511626, 45495587, 45203321, 45138550, 45086371, 45844475, 45529100, 45840143, 45840144, 45695717, 45476470, 44803455, 42584198, 38436249, 35081468, 33472807, 45466251, 45976504, 43839570, 45936892, 45789617, 45673188, 45643488, 45153504, 45087839, 44923260, 45821999, 43783334, 43193573, 41393834, 45758719, 45317311, 45975008, 45959246, 45879751, 45496423, 44550485, 44264614, 43326539, 42737003, 45881007, 45574403, 44885379, 45523740, 45856715, 45565319, 45853214, 45853203, 45227477, 44922275, 44759416, 44988011, 32075697, 45155045, 44577080, 36553469, 45911615, 42078496, 45939974, 44821613, 43389513, 42350136, 45264949, 45193301, 45193300, 45742393, 45577489, 45890600, 45890264, 45890263, 45889991, 45850346, 45616882, 45613261, 45483158, 45483071, 45483070, 45419523, 45187551, 45902491, 44359993, 43320091, 38804196, 45985573, 45909171, 44498266, 40534338, 44642029, 44571490, 44222566, 43015545, 42088003, 45257315, 45665082, 45071504, 46040266, 44228695, 45501268, 43736007, 45860063, 45808119, 46026141, 44895598, 45262944, 45656268, 45058574, 45022255, 45783575, 45474300, 45681881, 45681880, 45681882, 45210229, 45820671, 45820703, 45984926, 46033101, 45962327, 45951803, 45308987, 45078398, 45830074, 45770685, 44674554, 24693691, 25766985, 25233824, 24504711, 45668265, 45980463, 23697578, 45800287, 45793843, 45744869, 45800805, 45800058, 45788122, 45736272, 45735960, 43956068, 43956071, 45984971, 45984972, 45984973, 45984975, 33694642, 45880846, 42845667, 43956067, 43956075, 43956057, 45984974, 45961551, 45829558, 45777387, 45777338, 45752277, 45905249, 44759419, 45295186, 45938960, 42600926, 45142719, 45383847, 45320379, 45137930, 45930077, 45711722, 45779472, 45779462, 45778947, 45594415, 45591481, 45525673, 45340332, 45310405, 45811643, 44896286, 46031013, 45978248, 45978247, 45877917, 45981562, 45981381, 45930302, 45837304, 45837194, 43693275, 41262693, 45689413, 45832995, 45795115, 45795100, 45930020, 45930012, 45929987, 45706395, 45665393, 45845012, 45831316, 45981638, 45823023, 45397042, 45877978, 45877972, 45877953, 45970271, 45836122, 45836125, 44492369, 45981567, 45930514, 45930289, 45837164, 44817972, 45777830, 45777759, 45811460, 46037458, 45820349, 45820423, 46016306, 46016305, 45458482, 45782158, 37521566, 45682548, 45605316, 45861689, 45861688, 45861687, 45984632, 45904804, 45904795, 45852503, 45852474, 46037454, 46037457, 45086030, 44898002, 45794538, 45862048, 45907998, 44980890, 46027921, 46027872, 46026600, 46026454, 45967088, 45935404, 45414725, 44846707, 45728306, 45086913, 46042375, 45418548, 45941733, 45941515, 45863033, 45862957, 45795582, 45795614, 45795550, 45795577, 45795249, 44569801, 43213450, 42479718, 41809246, 41624201, 41247973, 46038338, 46038087, 46037960, 45958461, 45961769, 45961626, 45961506, 45726559, 45725924, 45457271, 44444377, 44390159, 43370429, 38329143, 45963137, 45538109, 45838615, 45820399, 45820410, 45820431, 45820435, 44265892, 45235852, 44942872, 45977233, 45808380, 44594619, 45927580, 45939880, 45936199, 45534546, 45534516, 45009400, 44920001, 41774140, 38661051, 45386682, 36302324, 45974091, 45650871, 37170526, 44307817, 45864225, 45611273, 45902474, 45766479, 45516866, 43555599, 45983599, 45669877, 46022200, 44754604, 46022615, 45525100, 45525094, 44189567, 41298157, 45907876, 45876539, 45792741, 45730185, 45560535, 45560542, 45470187, 44969207, 44796326, 44371487, 44081448, 45203384, 45735812, 45735015, 43134061, 45784600, 45688802, 45688796, 43855263, 45976735, 45193424, 45639445, 40541775, 46030805, 46023565, 46036860, 46033606, 46033538, 46033360, 46033075, 46032869, 46032774, 45967815, 45967615, 45967590, 45967548, 45967528, 45967500, 45967489, 45967458, 45565847, 46004437, 45972188, 45957282, 45922857, 45921954, 45900316, 45873416, 45511415, 45375673, 44578879, 45944031, 45944021, 45686349, 45686085, 45628194, 45936203, 44884993, 44877978, 43485452, 43485460, 45928666, 45882176, 45830492, 45565955, 45555726, 45340325, 45340299, 45295035, 45295002, 45194066, 44550174, 44174649, 46033117, 46004225, 45990836, 45990813, 45486571, 45265633, 45947054, 45911204, 45831379, 45831313, 45698944, 45333927, 46030209, 44895652, 45679510, 45678204, 45322677, 36019876, 26623968, 45142740, 45135339, 44616194, 45886457, 45246286, 44919242, 45785497, 46026463, 46026341, 46025437, 46019073, 46019071, 45964477, 45945974, 45934614, 45873870, 45873871, 45864229, 45853199, 45853193, 45853195, 45852562, 45789498, 45686463, 45654702, 45609864, 45528657, 45522943, 45518587, 45217027, 45171311, 45171310, 45092904, 45092903, 44409028, 46009264, 45978926, 45966548, 45962405, 45520511, 45256391, 41985864, 40854051, 45509219, 45403581, 45913696, 45864080, 45842070, 45786581, 45786583, 45729159, 44241402, 45698546, 46008946, 44418018, 45953327, 45911021, 45717236, 45717189, 45601175, 43856006, 38568279, 45200697, 45000848, 44706270, 44552167, 44552144, 44552134, 43677033, 43651682, 43467453, 43408056, 43408044, 43296854, 43094876, 40055604, 46021907, 45875741, 45728757, 45704271, 45397809, 43921903, 40230942, 45257282, 45911642, 44357336, 45728192, 45728144, 45727572, 44470614, 44303473, 41479367, 46026646, 45961705, 45818583, 42540980, 41220760, 45923719, 46012148, 45911386, 45295985, 45772667, 45772679, 45167102, 44825253, 44545565, 43311956, 42824211, 41725734, 45930135, 45985507, 45960448, 45960429, 45899604, 46033534, 46033532, 46033531, 46033530, 46033533, 46021126, 46021122, 46021117, 46004267, 45929726, 45650281, 45649945, 46019844, 46019857, 46025818, 46015698, 46015637, 45818417, 45667306, 45234454, 43626459, 45882034, 45732994, 44359480, 45961150, 46030084, 45749757, 46037129, 44478346, 44477505, 46007448, 45531480, 28566811, 45207411, 45965466, 45838841, 45910118, 45883156, 45778819, 46027945, 45955503, 44232057, 28644289, 45349046, 41463716, 45909739, 21371991, 45982901, 45754273, 45741677, 45941986, 45941779, 45862802, 45862591, 45795183, 45795175, 45300755, 45279147, 45175036, 45175024, 45174934, 45174921, 44604342, 41496884, 41920296, 41809248, 41809242, 46038433, 46036251, 46036253, 44759406, 45801514, 45801490, 45801493, 44950852, 38011024, 45808018, 45421144, 45914975, 45896880, 45885169, 45820397, 37490862, 32719710, 45201654, 38661053, 38661052, 45931694, 45569788, 45569541, 43943463, 36198158, 42214531, 41995351, 46019750, 45977436, 33069115, 45988528, 45812227, 46024337, 45879217, 45878341, 45776789, 45388843, 46005594, 45589912, 44804111, 40843036, 45553167, 45975808, 45975566, 45513929, 44850722, 44337381, 44337376, 44189592, 44189588, 45903674, 42117845, 45979704, 44858280, 45833124, 45688795, 45985805, 45965797, 45839599, 45839570, 45375671, 45241760, 45187596, 44946251, 44772959, 43684756, 45967513, 45967385, 45967306, 45565800, 45565641, 45947300, 45628309, 45423059, 45346029, 45282501, 43951902, 43821570, 43497821, 43485565, 43485464, 44698411, 45927546, 45912765, 45844318, 45681078, 45279537, 44130173, 45384580, 45022816, 45002943, 44952350, 44231371, 43567170, 46033112, 46033114, 45760556, 45035846, 45831443, 45800695, 45717652, 45758829, 45717641, 45577777, 45521701, 44971695, 44844263, 44790610, 44780351, 38424759, 38424760, 38424761, 38424771, 38424782, 38424734, 45845427, 45845423, 45838186, 45085960, 44470619, 44191940, 37405650, 39278424, 39250387, 39250386, 45988281, 45679472, 45678770, 31483759, 30491049, 46030262, 46030261, 45742778, 45654244, 45578360, 45215480, 44631871, 46007667, 42405113, 44389273, 46030733, 46026247, 46026166, 46019076, 46013900, 45971038, 45927378, 45924355, 45911646, 45886820, 45886819, 45850860, 45769432, 45769428, 45758099, 45568940, 45518706, 45512949, 45267415, 45171314, 44815289, 44710284, 44632814, 43658876, 41663901, 45976430, 45960264, 45960170, 45956406, 45520839, 45347209, 44987875, 43442293, 42336433, 39784431, 46023205, 45554972, 45403587, 45240747, 45240746, 45094384, 45207810, 45957723, 45864089, 45864084, 45864079, 45842071, 45786580, 45728328, 45728326, 45166674, 45082723, 43335575, 45887109, 45842915, 45382935, 45722474, 44465345, 45837424, 44552220, 44552157, 43577281, 43467350, 43408099, 42690583, 42115247, 40233057, 39540431, 39540389, 39130123, 39003966, 42342294, 45912753, 46029077, 42411935, 45283118, 44508325, 41434387, 45868720, 45373171, 39765605, 46039378, 46039375, 46026382, 44635973, 44882337, 44882333, 40909441, 44742060, 44741980, 42964273, 42964253, 42963413, 42963362, 42013406, 40999538, 40999457, 40999322, 40942613, 40942557, 39643051, 46041848, 46013532, 45349159, 38936831, 38343725, 44461492, 40568893, 45392004, 45227697, 45175651, 45031376, 44545618, 41723404, 41713184, 41713152, 41713120, 41712924, 39959323, 36101182, 45734405, 46015533, 45246028, 45770520, 45959421, 44806202, 45816915, 45816933, 45816934, 43156211, 44645914, 45945902, 46015708, 46015621, 46023077, 45767592, 44813816, 44713830, 44686560, 44147964, 44016411, 40722992, 37231890, 31220227, 45687689, 44606510, 45798166, 44332750, 45672870, 45938594, 44686763, 45980802, 46025135, 45990244, 46028311, 45910464, 45910171, 45831832, 45788237, 45788153, 45788139, 45788054, 45778941, 45783114, 45712790, 45709223, 45708235, 45707916, 45707906, 45142721, 45844195, 45882645, 45835468, 45984440, 45983543, 45566851, 45768927, 44181014, 45075832, 45966530, 45455764, 42296291, 42010091, 43927219, 42891341, 43747420, 39778067, 36724596, 44239560, 45933512, 43921578, 45731810, 45731811, 45641401, 45493935, 45396131, 45843685, 45901989, 45901996, 34538877, 45124592, 44906157, 44852717, 45895436, 45895403, 45901991, 45901992, 45901994, 45901995, 45901993, 45901987, 46007853, 45540940, 45916978, 45916901, 45560627, 45924220, 45856064, 45855634, 45923671, 45649085, 45747561, 45783550, 45820014, 44806107, 20629847, 45862177, 45862118, 46012249, 45576640, 45576454, 41213500, 45489159, 45831343, 45547854, 45942818, 45942787, 38101301, 38101299, 45896448, 45896452, 45896447, 45718674, 44727467, 44496212, 44496203, 45251496, 46039259, 46039253, 45765324, 45944106, 45905644, 45878711, 46019138, 45947082, 45322313, 45934294, 45934291, 45934255, 45934113, 46021161, 46032673, 45638905, 46028973, 46026740, 46026613, 45892767, 44592062, 44217551, 45930706, 45721906, 45717142, 45698545, 43107698, 45160920, 46034284, 45893444, 45961565, 45961333, 45961158, 45655743, 44759429, 45849001, 41758357, 45768248, 45905207, 45935433, 44470760, 36806365, 37795055, 37490861, 45739030, 45718669, 45718672, 45718671, 44727462, 44496204, 44496210, 44496205, 43455871, 41545203, 38853630, 46039257, 46039262, 45867622, 45422136, 45017343, 45880818, 45613978, 45856136, 45686310, 45417008, 45059342, 45934306, 45934126, 45917068, 45778617, 43746645, 45961507, 44675202, 41010375, 45135608, 45678181, 45887510, 45859930, 45859780, 45737549, 46007256, 46009518, 45740585, 46018965, 45966411, 45966397, 45964045, 45905206, 45896993, 45896987, 45896989, 43764921, 45984034, 45984031, 45984028, 45983996, 46033572, 45954144, 44284614, 45740957, 45743642, 45743623, 45743538, 45741898, 45741894, 45741879, 45741866, 45539105, 45676296, 45676295, 45984039, 45984037, 45164101, 44964114, 44333953, 43481198, 45743663, 45742057, 45742051, 45742047, 45952550, 45025953, 45025952, 45389021, 45389000, 45389033, 45327277, 35092810, 45808138, 44075700, 45507117, 45286821, 45633140, 45604425, 45604302, 45604291, 44827992, 44827987, 44216153, 41400061, 45811449, 45604417, 45604391, 45131551, 45016345, 44827958, 44611595, 38707841, 45008930, 45008811, 46017922, 46021389, 46021355, 46021287, 45553823, 45553234, 45844279, 45553295, 45876300, 45758379, 45758366, 45209082, 44633603, 44386232, 42993123, 45950238, 45758392, 45758374, 45350120, 44873978, 44633600, 43506197, 43506176, 45591495, 45019816, 20048124, 45988473, 45988474, 45988471, 45804091, 45804078, 45804015, 45803715, 45968923, 45968927, 45831427, 45831360, 45019812, 17964287, 45988476, 45988472, 45988469, 45190920, 45168961, 45933255, 45980817, 45980816, 45676340, 45696700, 45744653, 45744689, 45917089, 46034255, 46034254, 46033504, 46033505, 46036873, 45972166, 44148011, 45990985, 46028331, 45263652, 45986996, 45986964, 45986950, 45561344, 45349203, 44980539, 44707855, 46026827, 46026824, 45907063, 45820398, 45797434, 43647293, 36027503, 45854557, 41905217, 41073823, 45236085, 45048286, 44856286, 45987694, 45964112, 45964099, 44436077, 45956106, 45943684, 45733881, 45733878, 45509606, 45509469, 45405578, 45087096, 44991279, 42857230, 42613510, 45933459, 45933284, 45933055, 45933054, 45837535, 45837053, 45707871, 45639708, 45639466, 45583407, 45417753, 45417756, 45026392, 44831761, 44721592, 44449623, 43860293, 45874592, 45875089, 45922308, 45722173, 45554209, 44416544, 44339455, 44260194, 44214934, 44214918, 45884710, 46041157, 45846275, 45846276, 45846278, 45846280, 45812551, 45812554, 45812560, 45812562, 45812564, 45812565, 45812566, 45812567, 45812568, 45812569, 45812573, 45812558, 45812550, 45904035, 45904001, 45844243, 45844215, 38278652, 45823945, 45823964, 45657652, 45765785, 45765706, 45765705, 45610731, 46013763, 45922964, 45922963, 45922864, 45922495, 45922496, 45922493, 45922399, 45922329, 46037795, 45486094, 29298751, 45904433, 45658506, 45579895, 45579896, 45579897, 45359591, 44242394, 45887980, 45887971, 45887961, 45887950, 45119025, 44366073, 45986488, 45986483, 45986485, 44854197, 45739887, 45690350, 45634379, 45634374, 45504842, 44414898, 42909251, 45911853, 45856810, 45717141, 45686439, 44140127, 43296571, 46011415, 46011355, 45944791, 45927195, 45908015, 45765002, 45665645, 45436720, 45410016, 45410017, 45410015, 45410018, 44809477, 44809439, 45858430, 45820347, 45820368, 45820379, 45820421, 45820433, 45907875, 45896446, 45773247, 45465131, 42182056, 45968043, 45967916, 45943209, 43684033, 45956439, 45956433, 45948824, 45944020, 45733814, 45471385, 45987770, 45260939, 45787554, 45045795, 44985574, 44715789, 44715790, 44585196, 44309051, 45782860, 45327158, 44811487, 44487312, 40924416, 45487696, 45234858, 45959707, 45858321, 45846273, 45846274, 45846277, 45846281, 45812552, 45812571, 45812574, 45812575, 45812576, 45812559, 45844256, 45989127, 45987030, 45765703, 45765701, 45582673, 44272934, 45923050, 45922400, 45922401, 44759409, 45970283, 45904434, 45904418, 45658509, 45359592, 26039234, 45170409, 45632312, 45632271, 44147383, 45974178, 45192187, 45907858, 45963049, 45892704, 45698910, 45664927, 45761334, 46025816, 45766872, 45400354, 45149522, 45985874, 45660464, 45908832, 45795778, 45842132, 45842130, 45842126, 45842122, 45842117, 45842106, 45842103, 45842097, 45662234, 45662233, 45851317, 45851302, 45866543, 45884718, 45138953, 45884722, 46037739, 45836715, 45770533, 45154267, 45927558, 45927121, 46021302, 45980779, 45977178, 45958287, 45958288, 45958289, 45804311, 45400134, 45253496, 45892748, 32940254, 32940325, 46023563, 40706476, 46021169, 45958286, 45909641, 45909640, 45460504, 45100480, 44704063, 44540788, 35296373, 45987629, 45987558, 45987886, 45987867, 45989217, 46031470, 45581038, 45581040, 45581046, 41442637, 41442644, 41442591, 45808926, 44887326, 44330538, 45452198, 45452085, 45740903, 45740727, 45980053, 45980051, 45566340, 45228112, 42892870, 42357641, 45916383, 45916344, 45505903, 45338481, 45331945, 45006982, 45422008, 46017954, 45594932, 45239585, 45790483, 45624997, 45566651, 45488489, 45374235, 45211384, 44746572, 44623317, 43710437, 42390118, 41728920, 41728897, 41618768, 45916450, 45916444, 45916438, 45916436, 45916426, 43075736, 45356648, 45932076, 45932054, 45931853, 45979542, 45565712, 45725050, 45725003, 45592974, 45592949, 44954797, 43706895, 45983945, 45983929, 45810787, 45738110, 44945464, 46018361, 46018360, 46018329, 46018327, 46018326, 45871531, 45871536, 45459978, 45904406, 46015636, 46005639, 46005564, 46005542, 45554496, 45987887, 45987754, 45951107, 45923500, 45923542, 45882608, 45882591, 45882552, 45878721, 45878680, 45784528, 45146934, 45825991, 45773919, 45773920, 45764093, 45597576, 45399429, 45109158, 39794656, 45275176, 37181985, 46034335, 45929412, 45207177, 45000815, 45907356, 45907358, 45953316, 45983027, 45983026, 39643081, 45074220, 43163709, 45870446, 45857534, 45857533, 45458476, 45265681, 45265652, 45795982, 45831382, 45792435, 45628234, 45288313, 41907029, 43143189, 46012783, 46012581, 45986498, 45986489, 45986469, 45986433, 45878764, 38062687, 43884560, 42835543, 41995340, 41147473, 40477204, 46041376, 45981357, 45852877, 45851292, 45677730, 45988965, 45975463, 45823124, 45823161, 45823169, 45823057, 44735089, 44735087, 44735080, 44735074, 46019238, 46019188, 46019176, 46019158, 46019132, 46019086, 45925681, 46024240, 45251251, 44369879, 36204613, 45815879, 42006503, 45989332, 38749486, 45230588, 45564875, 45490977, 45534145, 45325637, 45203543, 45019628, 45192962, 45844928, 45812304, 45812283, 46015764, 46015755, 46015700, 39431808, 45837696, 45609680, 45512246, 45726017, 45761928, 33715408, 46030066, 46005084, 45965433, 45940419, 45940417, 45888887, 45860588, 45860584, 45688280, 45778692, 45778677, 45383676, 43771502, 37303938, 45328138, 44921869, 45820185, 46012977, 45826082, 44040004, 43421033, 35013176, 45866743, 44151639, 40099730, 37985914, 41430442, 46037026, 46037022, 45834089, 45762147, 45958003, 45957835, 45984000, 45983995, 45983988, 45983938, 45396391, 45396387, 38293893, 45812265, 45810780, 45810801, 45958459, 46022592, 46022593, 46015633, 46015626, 46015441, 46005449, 46005427, 46005415, 46005402, 46005400, 46005393, 45790090, 45843539, 45990440, 45990974, 45990956, 45950945, 45950738, 45942085, 45889896, 45795896, 42928131, 45275207, 32670015, 41469511, 41469289, 33704632, 46037418, 46037414, 45953315, 45930002, 45929999, 45223550, 45803216, 44583794, 41351786, 44638529, 45352716, 44602597, 44479362, 44449076, 38314629, 45907357, 45907355, 45833853, 45790062, 45265653, 45743583, 45628106, 45203884, 45121840, 45000813, 37644888, 37644760, 34673748, 45945149, 45878207, 45878104, 44460591, 46041709, 45851294, 45748427, 45677743, 45227969, 44942301, 46004226, 45612318, 44815461, 45988966, 45975216, 45823077, 45823165, 45823166, 45823168, 45777865, 44843299, 39445849, 45887249, 15217860, 43103832, 44371689, 45935402, 45765796, 45949381, 46035032, 45946723, 45955665, 45955667, 45939088, 45923682, 45852099, 45819187, 45920143, 45920086, 45919916, 45919634, 45919341, 45717046, 45423855, 44430814, 45807778, 45423576, 37458331, 36508789, 46040770, 46040727, 44661023, 39613104, 39613041, 39611116, 39611015, 45784515, 45923164, 45923133, 45782764, 45664542, 45616335, 43234891, 40659526, 41342637, 46007557, 45946778, 45946777, 45509220, 45054844, 46040412, 45981803, 45937327, 41238842, 46008027, 45975504, 45905364, 44876738, 45764045, 45734051, 45733692, 45733659, 44377843, 24894894, 43913578, 45849639, 45742099, 45940418, 45862481, 45860587, 45860585, 45859898, 45798168, 44950525, 45758590, 45921400, 45911347, 45919267, 45333832, 46037024, 46037023, 37513258, 37513115, 31163927, 44700291, 45724354, 44879408, 44879391, 44879382, 43650948, 45844296, 45361084, 45738874, 45738885, 45744318, 45954989, 45954993, 45954994, 45555288, 45265669, 45916923, 45794952, 45941189, 45920746, 45844157, 45855042, 45671666, 46039983, 45493156, 43425200, 45510108, 45024962, 44739540, 45867155, 45867152, 45781588, 45954991, 45954988, 45831331, 45175065, 46028916, 46010644, 45871732, 44828661, 45923730, 43307749, 43019504, 45709543, 45828115, 45493465, 43424139, 40110406, 37716282, 45961101, 45207390, 43994816, 45990318, 45985869, 44854205, 45638310, 46027894, 42706540, 45963042, 44533236, 46039982, 46035578, 45960295, 45946697, 45946687, 45946644, 45946741, 45946706, 30758890, 45907308, 43927189, 30758883, 45204132, 45945109, 45571346, 45571314, 44904615, 45903813, 46030241, 45713082, 45384171, 46016353, 46005981, 46005945, 46005780, 46005733, 45850876, 45655637, 46034897, 46007533, 45761570, 45930347, 45970920, 45970905, 45970881, 45923721, 45976335, 45612532, 45612445, 45612359, 37413672, 46026279, 46026265, 46026209, 46026194, 46026148, 46023818, 46023780, 46016350, 46016339, 46016328, 46008386, 46005800, 46005772, 46005765, 43485448, 46035007, 46034998, 45846060, 45565950, 46031385, 46031344, 38335137, 45849546, 43636359, 45774734, 45774721, 38689559, 45723034, 45666916, 45911335, 45131783, 36726225, 45710537, 45026335, 44579804, 45389333, 43681295, 34287909, 45983722, 45026953, 45345676, 44487767, 44487671, 43965291, 43917155, 43545868, 28471870, 45990255, 45924252, 45903001, 45886367, 45886341, 45837676, 45837664, 45735782, 45735578, 45583580, 45596351, 45583504, 45596342, 45583450, 45384575, 45384550, 45384497, 45098453, 45196358, 45003858, 45003822, 43894282, 41624203, 45810819, 45810773, 45810783, 45810811, 45810812, 45810820, 45906365, 45858433, 45858448, 45820011, 45820020, 43905229, 43893157, 45944351, 45933557, 45774508, 36789880, 33954174, 45322040, 45948874, 45859204, 44714874, 44152348, 45978300, 45978296, 45978287, 45978288, 45265133, 45908296, 45802795, 45802666, 45613150, 45310227, 28099113, 45917783, 45871532, 45646327, 44262563, 45910285, 45876544, 45863122, 45863119, 45854664, 45806340, 45685518, 45676926, 45621906, 45613333, 45613334, 45567718, 45567713, 45567715, 45325717, 45325714, 45306249, 45256586, 45256588, 44995634, 44851338, 44796311, 44723130, 44598620, 44503561, 44332440, 44044574, 44042963, 43995372, 43687623, 42387501, 42011033, 41881616, 41325280, 41315786, 40960484, 45787409, 45409837, 44794428, 46029844, 46023606, 46022597, 45607742, 46015247, 46015122, 45983544, 45983527, 45983477, 45837947, 45837927, 45837856, 46005473, 46005456, 46005439, 45914827, 46004597, 46004600, 45988385, 45988193, 45987544, 45867634, 45867183, 45699878, 39711239, 45985898, 45985252, 45985232, 45985219, 45835592, 41681765, 45984100, 45578475, 45578383, 45979074, 45956584, 45946141, 45977678, 45948609, 45971159, 45971135, 45711587, 45711576, 44649464, 42122843, 45956440, 45950403, 45939802, 45945427, 45945432, 45711747, 45338843, 44787773, 45923565, 45791197, 45790938, 45923000, 45914797, 45914787, 45913177, 45843405, 45682552, 45888968, 45948537, 45811621, 45811629, 45811631, 45845535, 45845537, 45745699, 43485462, 45838111, 45837557, 45015581, 44522010, 39245490, 41541838, 45705153, 45664663, 45629697, 45629667, 44894519, 44874463, 44816291, 44694823, 44430057, 45547581, 45471444, 45491398, 45467388, 44718680, 44662448, 44662430, 44816185, 45341310, 44964231, 44803306, 43707769, 44176478, 43773653, 41303385, 41746492, 39124752, 37539122, 30526029, 46042618, 46042587, 46042569, 46038340, 46038304, 45945020, 45945013, 45901451, 45901432, 45891259, 45891143, 45850659, 45850645, 45777229, 45671695, 45671661, 45414888, 45414886, 45777269, 46038273, 46005812, 46005814, 46005817, 46005818, 45336772, 44708899, 39905247, 45933911, 45929403, 45890930, 45890929, 45074212, 45026615, 44548599, 44062603, 43233226, 42970234, 42200092, 45983714, 45983528, 45903811, 45952692, 45952694, 45947984, 45600405, 45311406, 45265736, 45909744, 45906402, 45753928, 45449561, 45322240, 44406922, 45891399, 45876420, 45872590, 45872538, 45872539, 45855767, 45855638, 45868694, 45868153, 45831310, 45831368, 45831344, 45831366, 45831429, 45831380, 45831428, 45322128, 45781472, 45763680, 45763677, 45763678, 45763676, 45750366, 45697234, 45667631, 45983350, 45934354, 45916955, 41690224, 45983342, 45554172, 45384513, 45361631, 45295935, 45295174, 44204368, 45612409, 45554124, 45361590, 45295923, 45295090, 44204202, 45406455, 44846611, 44724095, 44724087, 44077438, 46038079, 45728149, 46038421, 46017524, 45985832, 45970320, 45936400, 45933452, 45884639, 45845978, 45238240, 45989233, 45985160, 45974535, 45899967, 45866696, 45986367, 45986335, 45986230, 45973889, 45975848, 45975825, 45917081, 45917080, 45924274, 45911877, 45737777, 45737778, 44225312, 43617620, 45854495, 45571797, 45490102, 44286518, 46036871, 46030174, 46030172, 46008315, 45974971, 45878390, 45873059, 44929242, 44246117, 44977876, 46037736, 43633694, 40998854, 46032891, 45088290, 45027358, 43862268, 45770004, 46034874, 46029698, 46028974, 46019144, 45954387, 45942487, 45917726, 45875229, 45875113, 45874621, 45856137, 45836644, 45772309, 45772295, 45766679, 45681255, 45681217, 45666970, 45571297, 45534465, 45513385, 45317959, 45314777, 45105159, 44876842, 44373994, 44291924, 43750770, 42373302, 45979119, 45979120, 45978906, 45978907, 45978878, 45955831, 45946021, 45786702, 45047173, 44126945, 42711491, 40999873, 26527460, 45758158, 46006013, 45983729, 45958336, 45957786, 45946679, 45859653, 45781606, 45781478, 45781479, 45554502, 44993773, 34188732, 45300323, 44152253, 44262518, 45668360, 45668362, 45668359, 45668358, 45599084, 45594159, 44639970, 44287066, 45852550, 45842937, 45769146, 45981441, 45763252, 38305458, 45926472, 45823144, 45823146, 45305253, 45143712, 46012297, 46012274, 46012179, 46008143, 46000668, 45771381, 44967350, 44967174, 45219276, 45842949, 45003481, 45610966, 45956761, 45956680, 45949326, 44487361, 46006948, 45933515, 43950008, 42765599, 45207341, 42367809, 45922497, 45895362, 44890240, 46025212, 44742234, 18760534, 18523329, 45840333, 45828004, 46037425, 46020465, 46009801, 46005151, 46033437, 45961749, 45884953, 45537464, 45199469, 39312301, 43789616, 41155616, 39447632, 45773208, 45773182, 45454559, 20157509, 46037079, 46024241, 45954145, 44388373, 45627367, 45802282, 45501319, 44485213, 46024193, 46024170, 46023969, 46023943, 45815864, 45815868, 45920688, 45920684, 45920674, 45920667, 45920659, 45920627, 45920604, 45955678, 45874469, 45753344, 45848816, 45848810, 45583285, 45752993, 45976349, 45976342, 45627275, 45770013, 45726742, 44284989, 45934719, 36503279, 32874147, 28773360, 27797952, 27797923, 27797872, 27797823, 26035382, 14874903, 14874899, 14874895, 46023546, 46023544, 46023543, 46009506, 46008334, 45153401, 42488928, 45877152, 45877149, 45678739, 43467731, 45725098, 45725044, 45513850, 45203328, 45203327, 44943490, 44928498, 44928497, 42282701, 45280303, 45278818, 45278465, 45249231, 44741719, 44725877, 45113645, 44594453, 42966846, 39422206, 25406217, 45675487, 44967336, 44400348, 45935182, 45555875, 45983570, 45798686, 45797994, 44161851, 45939903, 45814580, 45814583, 45405855, 45724527, 42131055, 39423162, 45358033, 44896545, 38672831, 34277247, 33280375, 46040131, 46040138, 46040130, 46040137, 46040133, 46040135, 46040134, 46040128, 46040127, 45978663, 46039846, 46007244, 46007249, 46018257, 45937228, 45937238, 46009037, 46009008, 45984147, 45984139, 45969205, 45959939, 45905273, 45820608, 45572740, 45922044, 45922036, 45922030, 45922019, 45656467, 45389410, 45550762, 45264206, 45264202, 44622523, 44026043, 45277667, 45277663, 46023776, 45974505, 45974479, 45816903, 45816920, 45816925, 45816932, 45501566, 45501542, 45924227, 46029085, 44426237, 40798000, 45157825, 45767598, 45767373, 45655942, 44252544, 44242535, 43718996, 41394039, 33734677, 45240680, 45065418, 44979322, 42155960, 45929889, 45929881, 45875417, 45906047, 41479110, 45823213, 45823211, 45806322, 45806321, 30222122, 46018480, 45957697, 45687759, 45686916, 45686553, 45686409, 45983727, 45983696, 45983677, 45924228, 45837444, 45799375, 45666207, 45665746, 46034330, 45881095, 45881084, 45881059, 45881014, 45604710, 45604702, 45270220, 46019340, 46019292, 46019260, 46019185, 46019182, 46019164, 46019155, 46019140, 46019129, 46019109, 46019102, 45929235, 45911180, 45911175, 45936602, 45811241, 45811263, 45811267, 45811186, 45813896, 45813872, 45748504, 40587956, 39583342, 45990442, 45990433, 45990402, 45990237, 46015694, 45989320, 44680134, 44680133, 44680135, 45942311, 45942234, 45864238, 45864102, 45571242, 45570936, 45004309, 44927523, 43393634, 42750570, 41247964, 41247972, 45871712, 45984002, 45897882, 45820005, 45820006, 45810792, 45810797, 45810799, 45810807, 45810817, 45933565, 46014895, 45956794, 45930129, 45930125, 45930128, 45930127, 45910283, 45910284, 45910282, 45876549, 45863120, 45854663, 45806344, 45806343, 45806342, 45673199, 45621912, 45613335, 45607709, 45381264, 45256606, 45256605, 45181656, 45181657, 45056713, 45056717, 44666991, 44503572, 44234393, 43970972, 43016621, 40632554, 40580233, 45978289, 45978286, 45978291, 45978290, 45917777, 45917776, 45449817, 45964048, 45957754, 45946055, 45801654, 45745443, 45745425, 45570475, 43826879, 42867874, 31542755, 45924986, 45787540, 45409836, 45409841, 45409839, 45409838, 45409835, 45135107, 44794425, 44794429, 44097559, 42413488, 41859495, 44778313, 45948013, 45343052, 44656239, 46038122, 46038121, 46029848, 46029845, 46025856, 46025622, 46025459, 46022598, 46022463, 45867668, 45867663, 45867649, 45867628, 45867627, 45867032, 45867008, 45866976, 45172067, 44742629, 46007713, 45860165, 45723074, 45248614, 46017608, 45667307, 46005422, 45985460, 45985309, 45843495, 45843460, 46004602, 46004598, 39415881, 45560962, 38972926, 45985977, 45985958, 45986009, 45985981, 45986191, 45986002, 45877187, 45984105, 45097124, 45097115, 46016161, 45979563, 45979525, 45979123, 45979090, 45948712, 45971229, 45960816, 45956365, 45950289, 45942252, 45942242, 45942226, 45942211, 45927499, 45923020, 45922458, 45922449, 45915021, 45913315, 45913188, 45843377, 45176108, 45910807, 45905745, 45901329, 45901261, 45901084, 45487344, 45487305, 44877973, 43485533, 45811626, 45811628, 45811632, 45811637, 45811646, 45201895, 44907285, 45398563, 45398444, 45398443, 45220431, 45362136, 45743661, 45362129, 45743073, 45743038, 45737478, 45980381, 45980363, 44161063, 42552882, 44826711, 43927336, 45229959, 45666851, 45656774, 45664578, 45535860, 45320612, 45496523, 44915186, 45309543, 45097190, 45097159, 45021561, 45744951, 44641062, 43973382, 44561362, 43669172, 43669165, 42965125, 41844541, 39409092, 40132835, 35303855, 34583617, 34315355, 46042334, 45744349, 45744333, 45989492, 46038373, 46038191, 45714188, 46024215, 46024207, 46024202, 46024200, 46024197, 45922498, 46030082, 45981648, 45981633, 45553633, 45553658, 46016193, 46015290, 46005815, 46005816, 45990968, 45990942, 45956054, 45892980, 45892963, 45892961, 45835560, 45753932, 45690619, 45644684, 45644674, 45644664, 45322265, 44938892, 44897114, 44852782, 44514096, 44153348, 45990338, 45990339, 45990337, 45984176, 45984168, 45903051, 45600404, 45600406, 45594969, 45203789, 44041915, 45976300, 45964177, 45963962, 45963564, 45957109, 45952885, 45929664, 45901417, 45900946, 45870456, 45870440, 45850594, 45831351, 45744197, 45744151, 43532556, 45389189, 45340766, 45117075, 45079017, 42833918, 44944778, 44915280, 44837604, 44770635, 44580857, 44551665, 44441797, 44372080, 43637103, 43352746, 43576891, 43379087, 41553516, 43819105, 45984750, 45947885, 45933371, 45676277, 45635671, 45096089, 44667864, 43564912, 43493965, 45974526, 44944767, 44119355, 45287734, 46022997, 46018959, 38371812, 46012306, 46012291, 46012247, 45964487, 45566292, 45406925, 44893040, 44108914, 36682399, 45338231, 45902393, 45162809, 45006014, 42594121, 44361701, 38465469, 45934441, 45934366, 45869808, 45305251, 45143714, 45176190, 45167179, 45167177, 32706003, 46008239, 46008237, 46008238, 46029813, 45948162, 45962209, 45795245, 45673498, 45303972, 45121402, 46015301, 46015303, 46005148, 30508973, 45874380, 45874351, 45736582, 44140027, 45686847, 45686173, 43065220, 39447606, 39447623, 45823947, 45959310, 45959312, 45947454, 46032137, 45885966, 45351021, 45211878, 43779228, 45618756, 44561788, 44561772, 45941469, 45941387, 43348793, 44059417, 41547803, 34137327, 45281067, 45920703, 45920701, 45920698, 45920697, 45955717, 45955705, 45955697, 45955638, 45955633, 45848825, 45815986, 45815873, 45752947, 44613236, 45740219, 45936473, 45351698, 46031230, 46009644, 46006081, 46006056, 46006007, 45976288, 46031671, 46042051, 42348815, 45626155, 45228304, 44252987, 43957369, 44797875, 45977335, 45934521, 45838420, 45716611, 45707919, 39846656, 39846519, 39813172, 39813087, 36503366, 36503291, 33635833, 33635810, 27252704, 29555313, 46026320, 45843273, 45843060, 45843056, 45169156, 45494429, 45203325, 44739232, 43467416, 42261369, 45278587, 45278513, 45249223, 44815214, 44815165, 44814855, 44742737, 43938005, 42591014, 39380197, 34111953, 26024994, 45062298, 44759434, 45931538] not found in axis'",
     "output_type": "error",
     "traceback": [
      "\u001b[1;31m---------------------------------------------------------------------------\u001b[0m",
      "\u001b[1;31mKeyError\u001b[0m                                  Traceback (most recent call last)",
      "Cell \u001b[1;32mIn [122], line 1\u001b[0m\n\u001b[1;32m----> 1\u001b[0m dogs \u001b[38;5;241m=\u001b[39m dogs\u001b[38;5;241m.\u001b[39mdrop(duplicati)\n",
      "File \u001b[1;32m~\\AppData\\Local\\Programs\\Python\\Python39\\lib\\site-packages\\pandas\\util\\_decorators.py:317\u001b[0m, in \u001b[0;36mdeprecate_nonkeyword_arguments.<locals>.decorate.<locals>.wrapper\u001b[1;34m(*args, **kwargs)\u001b[0m\n\u001b[0;32m    311\u001b[0m \u001b[38;5;28;01mif\u001b[39;00m \u001b[38;5;28mlen\u001b[39m(args) \u001b[38;5;241m>\u001b[39m num_allow_args:\n\u001b[0;32m    312\u001b[0m     warnings\u001b[38;5;241m.\u001b[39mwarn(\n\u001b[0;32m    313\u001b[0m         msg\u001b[38;5;241m.\u001b[39mformat(arguments\u001b[38;5;241m=\u001b[39marguments),\n\u001b[0;32m    314\u001b[0m         \u001b[38;5;167;01mFutureWarning\u001b[39;00m,\n\u001b[0;32m    315\u001b[0m         stacklevel\u001b[38;5;241m=\u001b[39mfind_stack_level(inspect\u001b[38;5;241m.\u001b[39mcurrentframe()),\n\u001b[0;32m    316\u001b[0m     )\n\u001b[1;32m--> 317\u001b[0m \u001b[38;5;28;01mreturn\u001b[39;00m func(\u001b[38;5;241m*\u001b[39margs, \u001b[38;5;241m*\u001b[39m\u001b[38;5;241m*\u001b[39mkwargs)\n",
      "File \u001b[1;32m~\\AppData\\Local\\Programs\\Python\\Python39\\lib\\site-packages\\pandas\\core\\frame.py:5391\u001b[0m, in \u001b[0;36mDataFrame.drop\u001b[1;34m(self, labels, axis, index, columns, level, inplace, errors)\u001b[0m\n\u001b[0;32m   5243\u001b[0m \u001b[38;5;129m@deprecate_nonkeyword_arguments\u001b[39m(version\u001b[38;5;241m=\u001b[39m\u001b[38;5;28;01mNone\u001b[39;00m, allowed_args\u001b[38;5;241m=\u001b[39m[\u001b[38;5;124m\"\u001b[39m\u001b[38;5;124mself\u001b[39m\u001b[38;5;124m\"\u001b[39m, \u001b[38;5;124m\"\u001b[39m\u001b[38;5;124mlabels\u001b[39m\u001b[38;5;124m\"\u001b[39m])\n\u001b[0;32m   5244\u001b[0m \u001b[38;5;28;01mdef\u001b[39;00m \u001b[38;5;21mdrop\u001b[39m(  \u001b[38;5;66;03m# type: ignore[override]\u001b[39;00m\n\u001b[0;32m   5245\u001b[0m     \u001b[38;5;28mself\u001b[39m,\n\u001b[1;32m   (...)\u001b[0m\n\u001b[0;32m   5252\u001b[0m     errors: IgnoreRaise \u001b[38;5;241m=\u001b[39m \u001b[38;5;124m\"\u001b[39m\u001b[38;5;124mraise\u001b[39m\u001b[38;5;124m\"\u001b[39m,\n\u001b[0;32m   5253\u001b[0m ) \u001b[38;5;241m-\u001b[39m\u001b[38;5;241m>\u001b[39m DataFrame \u001b[38;5;241m|\u001b[39m \u001b[38;5;28;01mNone\u001b[39;00m:\n\u001b[0;32m   5254\u001b[0m     \u001b[38;5;124;03m\"\"\"\u001b[39;00m\n\u001b[0;32m   5255\u001b[0m \u001b[38;5;124;03m    Drop specified labels from rows or columns.\u001b[39;00m\n\u001b[0;32m   5256\u001b[0m \n\u001b[1;32m   (...)\u001b[0m\n\u001b[0;32m   5389\u001b[0m \u001b[38;5;124;03m            weight  1.0     0.8\u001b[39;00m\n\u001b[0;32m   5390\u001b[0m \u001b[38;5;124;03m    \"\"\"\u001b[39;00m\n\u001b[1;32m-> 5391\u001b[0m     \u001b[38;5;28;01mreturn\u001b[39;00m \u001b[38;5;28;43msuper\u001b[39;49m\u001b[43m(\u001b[49m\u001b[43m)\u001b[49m\u001b[38;5;241;43m.\u001b[39;49m\u001b[43mdrop\u001b[49m\u001b[43m(\u001b[49m\n\u001b[0;32m   5392\u001b[0m \u001b[43m        \u001b[49m\u001b[43mlabels\u001b[49m\u001b[38;5;241;43m=\u001b[39;49m\u001b[43mlabels\u001b[49m\u001b[43m,\u001b[49m\n\u001b[0;32m   5393\u001b[0m \u001b[43m        \u001b[49m\u001b[43maxis\u001b[49m\u001b[38;5;241;43m=\u001b[39;49m\u001b[43maxis\u001b[49m\u001b[43m,\u001b[49m\n\u001b[0;32m   5394\u001b[0m \u001b[43m        \u001b[49m\u001b[43mindex\u001b[49m\u001b[38;5;241;43m=\u001b[39;49m\u001b[43mindex\u001b[49m\u001b[43m,\u001b[49m\n\u001b[0;32m   5395\u001b[0m \u001b[43m        \u001b[49m\u001b[43mcolumns\u001b[49m\u001b[38;5;241;43m=\u001b[39;49m\u001b[43mcolumns\u001b[49m\u001b[43m,\u001b[49m\n\u001b[0;32m   5396\u001b[0m \u001b[43m        \u001b[49m\u001b[43mlevel\u001b[49m\u001b[38;5;241;43m=\u001b[39;49m\u001b[43mlevel\u001b[49m\u001b[43m,\u001b[49m\n\u001b[0;32m   5397\u001b[0m \u001b[43m        \u001b[49m\u001b[43minplace\u001b[49m\u001b[38;5;241;43m=\u001b[39;49m\u001b[43minplace\u001b[49m\u001b[43m,\u001b[49m\n\u001b[0;32m   5398\u001b[0m \u001b[43m        \u001b[49m\u001b[43merrors\u001b[49m\u001b[38;5;241;43m=\u001b[39;49m\u001b[43merrors\u001b[49m\u001b[43m,\u001b[49m\n\u001b[0;32m   5399\u001b[0m \u001b[43m    \u001b[49m\u001b[43m)\u001b[49m\n",
      "File \u001b[1;32m~\\AppData\\Local\\Programs\\Python\\Python39\\lib\\site-packages\\pandas\\util\\_decorators.py:317\u001b[0m, in \u001b[0;36mdeprecate_nonkeyword_arguments.<locals>.decorate.<locals>.wrapper\u001b[1;34m(*args, **kwargs)\u001b[0m\n\u001b[0;32m    311\u001b[0m \u001b[38;5;28;01mif\u001b[39;00m \u001b[38;5;28mlen\u001b[39m(args) \u001b[38;5;241m>\u001b[39m num_allow_args:\n\u001b[0;32m    312\u001b[0m     warnings\u001b[38;5;241m.\u001b[39mwarn(\n\u001b[0;32m    313\u001b[0m         msg\u001b[38;5;241m.\u001b[39mformat(arguments\u001b[38;5;241m=\u001b[39marguments),\n\u001b[0;32m    314\u001b[0m         \u001b[38;5;167;01mFutureWarning\u001b[39;00m,\n\u001b[0;32m    315\u001b[0m         stacklevel\u001b[38;5;241m=\u001b[39mfind_stack_level(inspect\u001b[38;5;241m.\u001b[39mcurrentframe()),\n\u001b[0;32m    316\u001b[0m     )\n\u001b[1;32m--> 317\u001b[0m \u001b[38;5;28;01mreturn\u001b[39;00m func(\u001b[38;5;241m*\u001b[39margs, \u001b[38;5;241m*\u001b[39m\u001b[38;5;241m*\u001b[39mkwargs)\n",
      "File \u001b[1;32m~\\AppData\\Local\\Programs\\Python\\Python39\\lib\\site-packages\\pandas\\core\\generic.py:4510\u001b[0m, in \u001b[0;36mNDFrame.drop\u001b[1;34m(self, labels, axis, index, columns, level, inplace, errors)\u001b[0m\n\u001b[0;32m   4508\u001b[0m \u001b[38;5;28;01mfor\u001b[39;00m axis, labels \u001b[38;5;129;01min\u001b[39;00m axes\u001b[38;5;241m.\u001b[39mitems():\n\u001b[0;32m   4509\u001b[0m     \u001b[38;5;28;01mif\u001b[39;00m labels \u001b[38;5;129;01mis\u001b[39;00m \u001b[38;5;129;01mnot\u001b[39;00m \u001b[38;5;28;01mNone\u001b[39;00m:\n\u001b[1;32m-> 4510\u001b[0m         obj \u001b[38;5;241m=\u001b[39m \u001b[43mobj\u001b[49m\u001b[38;5;241;43m.\u001b[39;49m\u001b[43m_drop_axis\u001b[49m\u001b[43m(\u001b[49m\u001b[43mlabels\u001b[49m\u001b[43m,\u001b[49m\u001b[43m \u001b[49m\u001b[43maxis\u001b[49m\u001b[43m,\u001b[49m\u001b[43m \u001b[49m\u001b[43mlevel\u001b[49m\u001b[38;5;241;43m=\u001b[39;49m\u001b[43mlevel\u001b[49m\u001b[43m,\u001b[49m\u001b[43m \u001b[49m\u001b[43merrors\u001b[49m\u001b[38;5;241;43m=\u001b[39;49m\u001b[43merrors\u001b[49m\u001b[43m)\u001b[49m\n\u001b[0;32m   4512\u001b[0m \u001b[38;5;28;01mif\u001b[39;00m inplace:\n\u001b[0;32m   4513\u001b[0m     \u001b[38;5;28mself\u001b[39m\u001b[38;5;241m.\u001b[39m_update_inplace(obj)\n",
      "File \u001b[1;32m~\\AppData\\Local\\Programs\\Python\\Python39\\lib\\site-packages\\pandas\\core\\generic.py:4551\u001b[0m, in \u001b[0;36mNDFrame._drop_axis\u001b[1;34m(self, labels, axis, level, errors, only_slice)\u001b[0m\n\u001b[0;32m   4549\u001b[0m         new_axis \u001b[38;5;241m=\u001b[39m axis\u001b[38;5;241m.\u001b[39mdrop(labels, level\u001b[38;5;241m=\u001b[39mlevel, errors\u001b[38;5;241m=\u001b[39merrors)\n\u001b[0;32m   4550\u001b[0m     \u001b[38;5;28;01melse\u001b[39;00m:\n\u001b[1;32m-> 4551\u001b[0m         new_axis \u001b[38;5;241m=\u001b[39m \u001b[43maxis\u001b[49m\u001b[38;5;241;43m.\u001b[39;49m\u001b[43mdrop\u001b[49m\u001b[43m(\u001b[49m\u001b[43mlabels\u001b[49m\u001b[43m,\u001b[49m\u001b[43m \u001b[49m\u001b[43merrors\u001b[49m\u001b[38;5;241;43m=\u001b[39;49m\u001b[43merrors\u001b[49m\u001b[43m)\u001b[49m\n\u001b[0;32m   4552\u001b[0m     indexer \u001b[38;5;241m=\u001b[39m axis\u001b[38;5;241m.\u001b[39mget_indexer(new_axis)\n\u001b[0;32m   4554\u001b[0m \u001b[38;5;66;03m# Case for non-unique axis\u001b[39;00m\n\u001b[0;32m   4555\u001b[0m \u001b[38;5;28;01melse\u001b[39;00m:\n",
      "File \u001b[1;32m~\\AppData\\Local\\Programs\\Python\\Python39\\lib\\site-packages\\pandas\\core\\indexes\\base.py:6972\u001b[0m, in \u001b[0;36mIndex.drop\u001b[1;34m(self, labels, errors)\u001b[0m\n\u001b[0;32m   6970\u001b[0m \u001b[38;5;28;01mif\u001b[39;00m mask\u001b[38;5;241m.\u001b[39many():\n\u001b[0;32m   6971\u001b[0m     \u001b[38;5;28;01mif\u001b[39;00m errors \u001b[38;5;241m!=\u001b[39m \u001b[38;5;124m\"\u001b[39m\u001b[38;5;124mignore\u001b[39m\u001b[38;5;124m\"\u001b[39m:\n\u001b[1;32m-> 6972\u001b[0m         \u001b[38;5;28;01mraise\u001b[39;00m \u001b[38;5;167;01mKeyError\u001b[39;00m(\u001b[38;5;124mf\u001b[39m\u001b[38;5;124m\"\u001b[39m\u001b[38;5;132;01m{\u001b[39;00m\u001b[38;5;28mlist\u001b[39m(labels[mask])\u001b[38;5;132;01m}\u001b[39;00m\u001b[38;5;124m not found in axis\u001b[39m\u001b[38;5;124m\"\u001b[39m)\n\u001b[0;32m   6973\u001b[0m     indexer \u001b[38;5;241m=\u001b[39m indexer[\u001b[38;5;241m~\u001b[39mmask]\n\u001b[0;32m   6974\u001b[0m \u001b[38;5;28;01mreturn\u001b[39;00m \u001b[38;5;28mself\u001b[39m\u001b[38;5;241m.\u001b[39mdelete(indexer)\n",
      "\u001b[1;31mKeyError\u001b[0m: '[45871731, 45842477, 46023963, 46019974, 46019762, 45989321, 45872595, 43853984, 43170920, 42668575, 42087185, 45639446, 45252099, 44517341, 46026337, 45831359, 45384056, 45986905, 45925981, 45925980, 45925975, 45925979, 45925974, 45925982, 45925976, 45555559, 45517678, 44399248, 45955061, 45300339, 44967207, 44434059, 45717188, 46028452, 46028451, 45949697, 45862141, 45862119, 45862106, 45861529, 45031624, 44978859, 44970891, 45677559, 46030501, 45931729, 45560548, 45685284, 45790697, 45985650, 44968255, 44837270, 44790314, 44742449, 44545963, 45732409, 46021152, 46020135, 43853983, 36745161, 45983609, 45782390, 45383992, 44425818, 45379615, 45092336, 44041085, 45861413, 44969459, 45988578, 44564534, 46006005, 44088225, 44009169, 40954349, 39638646, 45409939, 44631651, 44627406, 44417986, 45356571, 46020644, 45695457, 45599092, 45288944, 45138812, 45097240, 45029817, 45968623, 45677671, 45677650, 45335660, 44942074, 45764629, 45764537, 45758174, 45702107, 45695888, 45310401, 44926926, 45676423, 45801787, 45481602, 39447602, 45539156, 46014959, 46014954, 46011344, 37443326, 34640590, 45923182, 45782786, 45664566, 45932317, 45932138, 45932104, 45931760, 45931720, 45931696, 45931670, 45931656, 45931611, 45931579, 45931524, 45812300, 45812307, 45812314, 45989413, 46004422, 45838040, 45383127, 41674793, 41674502, 45827718, 45244237, 45600383, 38426540, 45923424, 45944335, 45944289, 44291165, 44165896, 42093317, 41375123, 41359746, 41359768, 41359780, 41359781, 41359739, 41359736, 41357692, 41307935, 32680773, 26501282, 40092600, 45814366, 45814385, 45814397, 44667660, 44951296, 44695480, 45542626, 45542607, 44225289, 45482974, 45419558, 45419567, 42896807, 41222254, 27662543, 42358790, 42357823, 42155617, 41708075, 41695939, 41695373, 41695293, 41689578, 41689141, 41684151, 41683726, 41674919, 41674877, 41674862, 41674717, 41674552, 41674533, 45901408, 45901387, 45901290, 46026602, 45987668, 45987195, 45985995, 45985844, 45919527, 45919427, 45913110, 45912627, 45673916, 45362131, 45138715, 43500723, 42662612, 45239237, 45811275, 45811177, 45811188, 45811195, 45891118, 45270764, 35542491, 46022094, 45976783, 45421070, 45294623, 45148037, 45125248, 44972753, 44718117, 44421207, 43146345, 41357708, 41357624, 41197579, 40188967, 39918807, 37901840, 34923971, 26855735, 45276431, 41001341, 39070317, 37763466, 37374359, 36007688, 45786858, 45003048, 46031976, 45191847, 44940008, 42829233, 38465563, 46031268, 45977365, 44875451, 44475904, 44078702, 45413277, 46020859, 46014997, 45960715, 45810940, 45801517, 45773506, 45578069, 45493895, 45371897, 45183219, 45162958, 44700242, 43312413, 44093996, 45761228, 42116718, 45546931, 45488474, 45973891, 42072319, 41695243, 43772047, 45947053, 45582952, 45909552, 45456294, 44089938, 43950147, 46013602, 45493192, 45741859, 44991151, 43865040, 43754232, 42833184, 42390750, 41359751, 41359735, 41357674, 42672761, 45814396, 45814356, 45287295, 45542573, 45542545, 45683573, 45950254, 45880585, 45880468, 29991523, 35234154, 45798488, 44531923, 41812506, 41717638, 41717613, 41717495, 41717430, 41717350, 41717262, 41695358, 41689705, 41689038, 41689025, 41688999, 41686393, 41686364, 41686348, 41684090, 41683925, 41683829, 41674911, 41674906, 41674767, 41674731, 41674697, 41674683, 41674649, 41674638, 45849562, 45901401, 45901338, 45901328, 45901264, 45259229, 45468438, 45176202, 46014001, 45925042, 45811243, 45811203, 45811215, 45811231, 45811233, 45831426, 45697331, 45885505, 45153855, 45697989, 45043570, 45820028, 45547010, 46039252, 46039238, 46018206, 46018204, 46018201, 46018198, 46018199, 45985133, 45985126, 45948825, 45948797, 45948795, 46011273, 46011178, 46011172, 45910736, 45679345, 44877981, 45963127, 45963050, 45930321, 45831421, 45373187, 46032535, 31007276, 45827287, 45858734, 45606470, 45606468, 45204231, 45032670, 45017094, 44757389, 44471635, 45847966, 45669914, 45894963, 45917113, 45610024, 45963932, 45963929, 45963931, 45717195, 46022610, 45090568, 45090373, 45916272, 45916257, 45916220, 45916208, 38184218, 46018233, 46018207, 46018203, 46018202, 46018200, 45945048, 45727364, 45339046, 45985138, 45985136, 45985123, 45948822, 45948821, 45948800, 45948751, 46011240, 46011225, 46011205, 46011165, 45968079, 45968056, 45968051, 45910745, 46036308, 46041704, 39823689, 39823691, 44578812, 43947342, 45943240, 45938591, 45938575, 45938583, 45938587, 45724780, 45610951, 45610962, 45610948, 45357124, 45053984, 44613968, 42516862, 45436576, 44506699, 45961675, 45961700, 45784579, 45335030, 45877951, 45862334, 23083678, 45606469, 45606467, 45351856, 45032668, 44687426, 44237593, 38014654, 27535798, 45970635, 46007404, 46007399, 46007360, 46016377, 46016371, 46016340, 45123116, 45987039, 45986549, 45506975, 45501200, 45833221, 45856820, 46020297, 46019910, 46019809, 45851299, 45632880, 45895282, 45578440, 45578378, 46025408, 46025409, 46018483, 46008044, 45924351, 45592741, 45964047, 45364286, 45987736, 45373060, 45986684, 45986541, 45980841, 45980839, 45980842, 45929291, 45855081, 45721873, 44880250, 45878212, 45747223, 45747200, 45709123, 45708837, 45708798, 43079923, 45938589, 45938574, 45919920, 46038853, 46038852, 46029929, 46029799, 46029798, 46029797, 46018532, 46018533, 46018460, 45591984, 45030297, 45831318, 45980838, 45929394, 44969569, 41668692, 43557109, 45938585, 45938576, 45938580, 45938581, 45780457, 45750522, 45564348, 45295650, 45295649, 45684708, 45576323, 45524249, 45668361, 44502002, 45887434, 44880321, 44545868, 45911579, 45911184, 45326867, 45326858, 46026430, 46026378, 44522598, 43357621, 44949464, 45250947, 42067424, 46005858, 45641792, 37784039, 45856692, 45856530, 45787768, 45987713, 45946882, 46023575, 45644489, 45644490, 45610056, 45610053, 45408005, 45408006, 45398803, 44889497, 42007640, 44133946, 45936210, 45843398, 45837450, 45787684, 45715547, 45715374, 45610055, 45610054, 45398802, 45169862, 44772231, 44574373, 43438831, 41132388, 38282620, 38282617, 45772994, 45772977, 45772956, 45772940, 34610406, 46038089, 46016034, 45954542, 45919633, 45765325, 45408712, 45888773, 45842728, 45454618, 41269632, 45987675, 45952305, 45952306, 45942794, 45942792, 45923095, 45923079, 45923029, 45565253, 45831333, 43880580, 45002783, 40869429, 36022110, 30429166, 45893807, 45835551, 45742247, 45524679, 45524680, 45369282, 44968981, 44968979, 44851669, 43656915, 43457703, 42583211, 33375189, 46015670, 45940217, 45720295, 45612458, 45369996, 46019068, 45965607, 45965605, 45965492, 45938669, 45938665, 45938673, 45938499, 45842142, 45830246, 45744744, 45564982, 45171312, 45956060, 46027249, 45957900, 45869289, 45869225, 45554598, 45257423, 45741217, 45741064, 45668073, 43661357, 43661358, 45856300, 45856301, 45758013, 44673142, 42960926, 46026859, 44566082, 43228530, 43228500, 46033873, 45952578, 44952559, 45984027, 45812389, 45866376, 45866145, 46021179, 45951113, 44470205, 45096064, 45984484, 45984473, 45984469, 46034940, 42261951, 45768523, 45844189, 45592994, 46037875, 45279145, 45954538, 44452161, 45934878, 45923597, 45888618, 45348686, 45838196, 45793054, 45933986, 45762724, 45523632, 45949789, 45873521, 45942796, 45942793, 44311444, 45904914, 45831398, 45734349, 45322601, 44857198, 43494390, 45109857, 44630906, 44039289, 41798755, 45567007, 45397937, 45316614, 43147464, 37870388, 45790101, 44557170, 44557154, 43810491, 42970730, 45686305, 45741917, 45723948, 45608892, 45317997, 45268666, 45076747, 44942635, 44650685, 44385754, 43242342, 42876210, 42279852, 41338869, 39698738, 32295122, 45714227, 44858124, 44192709, 45945349, 45945064, 45855925, 45855715, 45850546, 45765600, 45537431, 45099938, 45965606, 45964752, 45938672, 45938588, 45858930, 45752457, 44821320, 43977170, 45665725, 45910673, 45948876, 45869288, 44413313, 41467868, 45976835, 45805157, 45698408, 43007260, 43205817, 41151821, 45856299, 45856133, 45942427, 45942374, 45135257, 45818736, 45818774, 46026817, 46026751, 45719660, 45724223, 45916942, 45916915, 45916874, 45916840, 45916792, 45916683, 45037504, 41334007, 45671146, 45295916, 45153373, 45643673, 45984443, 45953365, 37139489, 46020257, 45163256, 45934653, 45934311, 43296346, 45602968, 45593114, 45154167, 45940953, 44264847, 44264838, 28196899, 45925082, 45855358, 45855343, 45838222, 45491578, 37409549, 45968373, 45163202, 45771426, 45771309, 45529644, 45209832, 45795063, 45496326, 45926640, 45908094, 45958447, 45116943, 45116925, 45811601, 45713310, 45518854, 45051161, 44846634, 44846475, 44846564, 45904000, 44846358, 45880644, 45776879, 45771350, 45747696, 45986849, 45986850, 45791441, 45868389, 44417978, 44417987, 45964408, 45104966, 45600377, 45600378, 45600382, 45484088, 45600374, 46041386, 45981389, 46028456, 46028449, 45831338, 45865838, 45965626, 45886232, 45886201, 45912769, 45912762, 44828502, 45912664, 45912700, 45832694, 45832689, 45935400, 45832696, 45903558, 36671762, 45745657, 45978298, 45978292, 45832684, 44907983, 42865848, 45987608, 45759569, 45759539, 45561887, 44643271, 44623760, 43401658, 38370846, 38370847, 45850863, 45666309, 45544971, 45199317, 24435534, 45513613, 46042213, 45606324, 35076939, 45897371, 45698042, 45936707, 45936708, 45936709, 45936703, 44483064, 29507936, 45041064, 44225522, 46028534, 46007239, 45807032, 45734867, 45734834, 45734825, 45383385, 44889150, 45793926, 45947189, 45914924, 13085754, 11037014, 10226253, 45745654, 45745650, 45729326, 45978293, 45718628, 45061051, 45845845, 45769372, 44605862, 43428378, 44605893, 45963905, 46017528, 46017527, 44286382, 45686301, 43495511, 43265939, 42510485, 42491177, 41458238, 38370843, 38370845, 38370842, 38370844, 46009543, 45892334, 45232707, 45938584, 45938579, 45859046, 45850859, 45053986, 38799853, 45985288, 45734456, 45734373, 43592552, 46042211, 46042214, 46042212, 45728857, 45502998, 45936701, 45936702, 46039842, 46039832, 44344425, 45734691, 46016169, 45740014, 45923589, 45881339, 44925831, 46026826, 44590367, 45986983, 46012664, 45965795, 45961038, 38422555, 38943711, 44373214, 45493832, 45979094, 45979101, 45979098, 46037054, 46036839, 45982107, 45599382, 41241450, 42893111, 41942633, 45854721, 45754046, 45707526, 45707516, 45525229, 45456490, 45095871, 44907511, 44731718, 44148434, 43383281, 43094912, 41577718, 40809223, 46029095, 46029093, 45978295, 45632932, 45525225, 45095863, 45065690, 44931450, 44927924, 44882465, 44812480, 41775785, 40966057, 43823402, 42747939, 45847517, 45506462, 45983635, 45983623, 45932402, 45922354, 45867595, 44998813, 38413572, 45831349, 42590842, 41932746, 37021713, 37530672, 35102207, 45924277, 45924279, 45924271, 46015571, 46015574, 46015573, 46015572, 45934665, 43542219, 45901975, 44930210, 44681494, 43076124, 46025254, 46025252, 45890266, 45890262, 45889990, 45856809, 45698395, 44439487, 41383136, 45829557, 44363996, 35356133, 44799235, 44799232, 45835940, 45186715, 43679324, 42741610, 38447591, 46016724, 42028295, 45264563, 45753661, 44188931, 38169117, 45719756, 45740438, 44844256, 44373665, 44160528, 44526971, 45303147, 45421847, 46020353, 45690816, 45640011, 45065327, 45176342, 38049061, 42473187, 45853224, 45770708, 45770606, 45196436, 45656208, 45656176, 45656137, 45058609, 46020403, 45977184, 45717227, 45937249, 45708071, 45662692, 44671774, 45681883, 45681879, 45976402, 45812410, 45690354, 44848862, 44704905, 43985973, 43731192, 38143100, 16340895, 43061136, 41850127, 45515753, 45239770, 44922933, 42582836, 45916306, 45577340, 45789093, 45756659, 45505337, 45113079, 44963486, 44941182, 44817080, 43972440, 43232704, 45987213, 44678686, 42855034, 42014786, 43851063, 45976470, 45360908, 44450659, 44837054, 44538965, 44033141, 43529082, 33512830, 45577373, 45360465, 44739078, 45411798, 42703566, 41134750, 31224203, 43819626, 45952047, 45951961, 45951948, 45951816, 45951757, 45861182, 45846068, 45846062, 45846039, 45830013, 45830005, 45829998, 45829970, 45159480, 45962827, 45962818, 45962523, 45801422, 45470688, 45980419, 45811261, 43318603, 41247961, 26334883, 34531585, 46037859, 46005997, 45981786, 45976308, 45976212, 45911051, 45854732, 45656777, 45656771, 45538405, 45404423, 45163124, 45095855, 45095846, 44889126, 44857602, 44731771, 44047323, 42224520, 41801547, 41179915, 40672130, 46029090, 45911097, 45911048, 45538390, 45132015, 45002042, 44931413, 44429787, 45876630, 45876628, 45876627, 45876626, 45876629, 45876624, 45867011, 45847524, 45831276, 40580254, 40580131, 46015685, 45986972, 40970940, 45852075, 45388844, 45124793, 45327119, 37521547, 35117712, 35117714, 35117723, 35117728, 35117318, 35117178, 45926046, 44587618, 44369603, 45829015, 45368927, 44848153, 41567095, 45165978, 45052392, 44119558, 44817656, 44684190, 45764816, 41844529, 31924590, 44629476, 44092730, 43050525, 45985889, 40964177, 45977239, 45942321, 45916282, 45847030, 45753255, 45680004, 45511626, 45495587, 45203321, 45138550, 45086371, 45844475, 45529100, 45840143, 45840144, 45695717, 45476470, 44803455, 42584198, 38436249, 35081468, 33472807, 45466251, 45976504, 43839570, 45936892, 45789617, 45673188, 45643488, 45153504, 45087839, 44923260, 45821999, 43783334, 43193573, 41393834, 45758719, 45317311, 45975008, 45959246, 45879751, 45496423, 44550485, 44264614, 43326539, 42737003, 45881007, 45574403, 44885379, 45523740, 45856715, 45565319, 45853214, 45853203, 45227477, 44922275, 44759416, 44988011, 32075697, 45155045, 44577080, 36553469, 45911615, 42078496, 45939974, 44821613, 43389513, 42350136, 45264949, 45193301, 45193300, 45742393, 45577489, 45890600, 45890264, 45890263, 45889991, 45850346, 45616882, 45613261, 45483158, 45483071, 45483070, 45419523, 45187551, 45902491, 44359993, 43320091, 38804196, 45985573, 45909171, 44498266, 40534338, 44642029, 44571490, 44222566, 43015545, 42088003, 45257315, 45665082, 45071504, 46040266, 44228695, 45501268, 43736007, 45860063, 45808119, 46026141, 44895598, 45262944, 45656268, 45058574, 45022255, 45783575, 45474300, 45681881, 45681880, 45681882, 45210229, 45820671, 45820703, 45984926, 46033101, 45962327, 45951803, 45308987, 45078398, 45830074, 45770685, 44674554, 24693691, 25766985, 25233824, 24504711, 45668265, 45980463, 23697578, 45800287, 45793843, 45744869, 45800805, 45800058, 45788122, 45736272, 45735960, 43956068, 43956071, 45984971, 45984972, 45984973, 45984975, 33694642, 45880846, 42845667, 43956067, 43956075, 43956057, 45984974, 45961551, 45829558, 45777387, 45777338, 45752277, 45905249, 44759419, 45295186, 45938960, 42600926, 45142719, 45383847, 45320379, 45137930, 45930077, 45711722, 45779472, 45779462, 45778947, 45594415, 45591481, 45525673, 45340332, 45310405, 45811643, 44896286, 46031013, 45978248, 45978247, 45877917, 45981562, 45981381, 45930302, 45837304, 45837194, 43693275, 41262693, 45689413, 45832995, 45795115, 45795100, 45930020, 45930012, 45929987, 45706395, 45665393, 45845012, 45831316, 45981638, 45823023, 45397042, 45877978, 45877972, 45877953, 45970271, 45836122, 45836125, 44492369, 45981567, 45930514, 45930289, 45837164, 44817972, 45777830, 45777759, 45811460, 46037458, 45820349, 45820423, 46016306, 46016305, 45458482, 45782158, 37521566, 45682548, 45605316, 45861689, 45861688, 45861687, 45984632, 45904804, 45904795, 45852503, 45852474, 46037454, 46037457, 45086030, 44898002, 45794538, 45862048, 45907998, 44980890, 46027921, 46027872, 46026600, 46026454, 45967088, 45935404, 45414725, 44846707, 45728306, 45086913, 46042375, 45418548, 45941733, 45941515, 45863033, 45862957, 45795582, 45795614, 45795550, 45795577, 45795249, 44569801, 43213450, 42479718, 41809246, 41624201, 41247973, 46038338, 46038087, 46037960, 45958461, 45961769, 45961626, 45961506, 45726559, 45725924, 45457271, 44444377, 44390159, 43370429, 38329143, 45963137, 45538109, 45838615, 45820399, 45820410, 45820431, 45820435, 44265892, 45235852, 44942872, 45977233, 45808380, 44594619, 45927580, 45939880, 45936199, 45534546, 45534516, 45009400, 44920001, 41774140, 38661051, 45386682, 36302324, 45974091, 45650871, 37170526, 44307817, 45864225, 45611273, 45902474, 45766479, 45516866, 43555599, 45983599, 45669877, 46022200, 44754604, 46022615, 45525100, 45525094, 44189567, 41298157, 45907876, 45876539, 45792741, 45730185, 45560535, 45560542, 45470187, 44969207, 44796326, 44371487, 44081448, 45203384, 45735812, 45735015, 43134061, 45784600, 45688802, 45688796, 43855263, 45976735, 45193424, 45639445, 40541775, 46030805, 46023565, 46036860, 46033606, 46033538, 46033360, 46033075, 46032869, 46032774, 45967815, 45967615, 45967590, 45967548, 45967528, 45967500, 45967489, 45967458, 45565847, 46004437, 45972188, 45957282, 45922857, 45921954, 45900316, 45873416, 45511415, 45375673, 44578879, 45944031, 45944021, 45686349, 45686085, 45628194, 45936203, 44884993, 44877978, 43485452, 43485460, 45928666, 45882176, 45830492, 45565955, 45555726, 45340325, 45340299, 45295035, 45295002, 45194066, 44550174, 44174649, 46033117, 46004225, 45990836, 45990813, 45486571, 45265633, 45947054, 45911204, 45831379, 45831313, 45698944, 45333927, 46030209, 44895652, 45679510, 45678204, 45322677, 36019876, 26623968, 45142740, 45135339, 44616194, 45886457, 45246286, 44919242, 45785497, 46026463, 46026341, 46025437, 46019073, 46019071, 45964477, 45945974, 45934614, 45873870, 45873871, 45864229, 45853199, 45853193, 45853195, 45852562, 45789498, 45686463, 45654702, 45609864, 45528657, 45522943, 45518587, 45217027, 45171311, 45171310, 45092904, 45092903, 44409028, 46009264, 45978926, 45966548, 45962405, 45520511, 45256391, 41985864, 40854051, 45509219, 45403581, 45913696, 45864080, 45842070, 45786581, 45786583, 45729159, 44241402, 45698546, 46008946, 44418018, 45953327, 45911021, 45717236, 45717189, 45601175, 43856006, 38568279, 45200697, 45000848, 44706270, 44552167, 44552144, 44552134, 43677033, 43651682, 43467453, 43408056, 43408044, 43296854, 43094876, 40055604, 46021907, 45875741, 45728757, 45704271, 45397809, 43921903, 40230942, 45257282, 45911642, 44357336, 45728192, 45728144, 45727572, 44470614, 44303473, 41479367, 46026646, 45961705, 45818583, 42540980, 41220760, 45923719, 46012148, 45911386, 45295985, 45772667, 45772679, 45167102, 44825253, 44545565, 43311956, 42824211, 41725734, 45930135, 45985507, 45960448, 45960429, 45899604, 46033534, 46033532, 46033531, 46033530, 46033533, 46021126, 46021122, 46021117, 46004267, 45929726, 45650281, 45649945, 46019844, 46019857, 46025818, 46015698, 46015637, 45818417, 45667306, 45234454, 43626459, 45882034, 45732994, 44359480, 45961150, 46030084, 45749757, 46037129, 44478346, 44477505, 46007448, 45531480, 28566811, 45207411, 45965466, 45838841, 45910118, 45883156, 45778819, 46027945, 45955503, 44232057, 28644289, 45349046, 41463716, 45909739, 21371991, 45982901, 45754273, 45741677, 45941986, 45941779, 45862802, 45862591, 45795183, 45795175, 45300755, 45279147, 45175036, 45175024, 45174934, 45174921, 44604342, 41496884, 41920296, 41809248, 41809242, 46038433, 46036251, 46036253, 44759406, 45801514, 45801490, 45801493, 44950852, 38011024, 45808018, 45421144, 45914975, 45896880, 45885169, 45820397, 37490862, 32719710, 45201654, 38661053, 38661052, 45931694, 45569788, 45569541, 43943463, 36198158, 42214531, 41995351, 46019750, 45977436, 33069115, 45988528, 45812227, 46024337, 45879217, 45878341, 45776789, 45388843, 46005594, 45589912, 44804111, 40843036, 45553167, 45975808, 45975566, 45513929, 44850722, 44337381, 44337376, 44189592, 44189588, 45903674, 42117845, 45979704, 44858280, 45833124, 45688795, 45985805, 45965797, 45839599, 45839570, 45375671, 45241760, 45187596, 44946251, 44772959, 43684756, 45967513, 45967385, 45967306, 45565800, 45565641, 45947300, 45628309, 45423059, 45346029, 45282501, 43951902, 43821570, 43497821, 43485565, 43485464, 44698411, 45927546, 45912765, 45844318, 45681078, 45279537, 44130173, 45384580, 45022816, 45002943, 44952350, 44231371, 43567170, 46033112, 46033114, 45760556, 45035846, 45831443, 45800695, 45717652, 45758829, 45717641, 45577777, 45521701, 44971695, 44844263, 44790610, 44780351, 38424759, 38424760, 38424761, 38424771, 38424782, 38424734, 45845427, 45845423, 45838186, 45085960, 44470619, 44191940, 37405650, 39278424, 39250387, 39250386, 45988281, 45679472, 45678770, 31483759, 30491049, 46030262, 46030261, 45742778, 45654244, 45578360, 45215480, 44631871, 46007667, 42405113, 44389273, 46030733, 46026247, 46026166, 46019076, 46013900, 45971038, 45927378, 45924355, 45911646, 45886820, 45886819, 45850860, 45769432, 45769428, 45758099, 45568940, 45518706, 45512949, 45267415, 45171314, 44815289, 44710284, 44632814, 43658876, 41663901, 45976430, 45960264, 45960170, 45956406, 45520839, 45347209, 44987875, 43442293, 42336433, 39784431, 46023205, 45554972, 45403587, 45240747, 45240746, 45094384, 45207810, 45957723, 45864089, 45864084, 45864079, 45842071, 45786580, 45728328, 45728326, 45166674, 45082723, 43335575, 45887109, 45842915, 45382935, 45722474, 44465345, 45837424, 44552220, 44552157, 43577281, 43467350, 43408099, 42690583, 42115247, 40233057, 39540431, 39540389, 39130123, 39003966, 42342294, 45912753, 46029077, 42411935, 45283118, 44508325, 41434387, 45868720, 45373171, 39765605, 46039378, 46039375, 46026382, 44635973, 44882337, 44882333, 40909441, 44742060, 44741980, 42964273, 42964253, 42963413, 42963362, 42013406, 40999538, 40999457, 40999322, 40942613, 40942557, 39643051, 46041848, 46013532, 45349159, 38936831, 38343725, 44461492, 40568893, 45392004, 45227697, 45175651, 45031376, 44545618, 41723404, 41713184, 41713152, 41713120, 41712924, 39959323, 36101182, 45734405, 46015533, 45246028, 45770520, 45959421, 44806202, 45816915, 45816933, 45816934, 43156211, 44645914, 45945902, 46015708, 46015621, 46023077, 45767592, 44813816, 44713830, 44686560, 44147964, 44016411, 40722992, 37231890, 31220227, 45687689, 44606510, 45798166, 44332750, 45672870, 45938594, 44686763, 45980802, 46025135, 45990244, 46028311, 45910464, 45910171, 45831832, 45788237, 45788153, 45788139, 45788054, 45778941, 45783114, 45712790, 45709223, 45708235, 45707916, 45707906, 45142721, 45844195, 45882645, 45835468, 45984440, 45983543, 45566851, 45768927, 44181014, 45075832, 45966530, 45455764, 42296291, 42010091, 43927219, 42891341, 43747420, 39778067, 36724596, 44239560, 45933512, 43921578, 45731810, 45731811, 45641401, 45493935, 45396131, 45843685, 45901989, 45901996, 34538877, 45124592, 44906157, 44852717, 45895436, 45895403, 45901991, 45901992, 45901994, 45901995, 45901993, 45901987, 46007853, 45540940, 45916978, 45916901, 45560627, 45924220, 45856064, 45855634, 45923671, 45649085, 45747561, 45783550, 45820014, 44806107, 20629847, 45862177, 45862118, 46012249, 45576640, 45576454, 41213500, 45489159, 45831343, 45547854, 45942818, 45942787, 38101301, 38101299, 45896448, 45896452, 45896447, 45718674, 44727467, 44496212, 44496203, 45251496, 46039259, 46039253, 45765324, 45944106, 45905644, 45878711, 46019138, 45947082, 45322313, 45934294, 45934291, 45934255, 45934113, 46021161, 46032673, 45638905, 46028973, 46026740, 46026613, 45892767, 44592062, 44217551, 45930706, 45721906, 45717142, 45698545, 43107698, 45160920, 46034284, 45893444, 45961565, 45961333, 45961158, 45655743, 44759429, 45849001, 41758357, 45768248, 45905207, 45935433, 44470760, 36806365, 37795055, 37490861, 45739030, 45718669, 45718672, 45718671, 44727462, 44496204, 44496210, 44496205, 43455871, 41545203, 38853630, 46039257, 46039262, 45867622, 45422136, 45017343, 45880818, 45613978, 45856136, 45686310, 45417008, 45059342, 45934306, 45934126, 45917068, 45778617, 43746645, 45961507, 44675202, 41010375, 45135608, 45678181, 45887510, 45859930, 45859780, 45737549, 46007256, 46009518, 45740585, 46018965, 45966411, 45966397, 45964045, 45905206, 45896993, 45896987, 45896989, 43764921, 45984034, 45984031, 45984028, 45983996, 46033572, 45954144, 44284614, 45740957, 45743642, 45743623, 45743538, 45741898, 45741894, 45741879, 45741866, 45539105, 45676296, 45676295, 45984039, 45984037, 45164101, 44964114, 44333953, 43481198, 45743663, 45742057, 45742051, 45742047, 45952550, 45025953, 45025952, 45389021, 45389000, 45389033, 45327277, 35092810, 45808138, 44075700, 45507117, 45286821, 45633140, 45604425, 45604302, 45604291, 44827992, 44827987, 44216153, 41400061, 45811449, 45604417, 45604391, 45131551, 45016345, 44827958, 44611595, 38707841, 45008930, 45008811, 46017922, 46021389, 46021355, 46021287, 45553823, 45553234, 45844279, 45553295, 45876300, 45758379, 45758366, 45209082, 44633603, 44386232, 42993123, 45950238, 45758392, 45758374, 45350120, 44873978, 44633600, 43506197, 43506176, 45591495, 45019816, 20048124, 45988473, 45988474, 45988471, 45804091, 45804078, 45804015, 45803715, 45968923, 45968927, 45831427, 45831360, 45019812, 17964287, 45988476, 45988472, 45988469, 45190920, 45168961, 45933255, 45980817, 45980816, 45676340, 45696700, 45744653, 45744689, 45917089, 46034255, 46034254, 46033504, 46033505, 46036873, 45972166, 44148011, 45990985, 46028331, 45263652, 45986996, 45986964, 45986950, 45561344, 45349203, 44980539, 44707855, 46026827, 46026824, 45907063, 45820398, 45797434, 43647293, 36027503, 45854557, 41905217, 41073823, 45236085, 45048286, 44856286, 45987694, 45964112, 45964099, 44436077, 45956106, 45943684, 45733881, 45733878, 45509606, 45509469, 45405578, 45087096, 44991279, 42857230, 42613510, 45933459, 45933284, 45933055, 45933054, 45837535, 45837053, 45707871, 45639708, 45639466, 45583407, 45417753, 45417756, 45026392, 44831761, 44721592, 44449623, 43860293, 45874592, 45875089, 45922308, 45722173, 45554209, 44416544, 44339455, 44260194, 44214934, 44214918, 45884710, 46041157, 45846275, 45846276, 45846278, 45846280, 45812551, 45812554, 45812560, 45812562, 45812564, 45812565, 45812566, 45812567, 45812568, 45812569, 45812573, 45812558, 45812550, 45904035, 45904001, 45844243, 45844215, 38278652, 45823945, 45823964, 45657652, 45765785, 45765706, 45765705, 45610731, 46013763, 45922964, 45922963, 45922864, 45922495, 45922496, 45922493, 45922399, 45922329, 46037795, 45486094, 29298751, 45904433, 45658506, 45579895, 45579896, 45579897, 45359591, 44242394, 45887980, 45887971, 45887961, 45887950, 45119025, 44366073, 45986488, 45986483, 45986485, 44854197, 45739887, 45690350, 45634379, 45634374, 45504842, 44414898, 42909251, 45911853, 45856810, 45717141, 45686439, 44140127, 43296571, 46011415, 46011355, 45944791, 45927195, 45908015, 45765002, 45665645, 45436720, 45410016, 45410017, 45410015, 45410018, 44809477, 44809439, 45858430, 45820347, 45820368, 45820379, 45820421, 45820433, 45907875, 45896446, 45773247, 45465131, 42182056, 45968043, 45967916, 45943209, 43684033, 45956439, 45956433, 45948824, 45944020, 45733814, 45471385, 45987770, 45260939, 45787554, 45045795, 44985574, 44715789, 44715790, 44585196, 44309051, 45782860, 45327158, 44811487, 44487312, 40924416, 45487696, 45234858, 45959707, 45858321, 45846273, 45846274, 45846277, 45846281, 45812552, 45812571, 45812574, 45812575, 45812576, 45812559, 45844256, 45989127, 45987030, 45765703, 45765701, 45582673, 44272934, 45923050, 45922400, 45922401, 44759409, 45970283, 45904434, 45904418, 45658509, 45359592, 26039234, 45170409, 45632312, 45632271, 44147383, 45974178, 45192187, 45907858, 45963049, 45892704, 45698910, 45664927, 45761334, 46025816, 45766872, 45400354, 45149522, 45985874, 45660464, 45908832, 45795778, 45842132, 45842130, 45842126, 45842122, 45842117, 45842106, 45842103, 45842097, 45662234, 45662233, 45851317, 45851302, 45866543, 45884718, 45138953, 45884722, 46037739, 45836715, 45770533, 45154267, 45927558, 45927121, 46021302, 45980779, 45977178, 45958287, 45958288, 45958289, 45804311, 45400134, 45253496, 45892748, 32940254, 32940325, 46023563, 40706476, 46021169, 45958286, 45909641, 45909640, 45460504, 45100480, 44704063, 44540788, 35296373, 45987629, 45987558, 45987886, 45987867, 45989217, 46031470, 45581038, 45581040, 45581046, 41442637, 41442644, 41442591, 45808926, 44887326, 44330538, 45452198, 45452085, 45740903, 45740727, 45980053, 45980051, 45566340, 45228112, 42892870, 42357641, 45916383, 45916344, 45505903, 45338481, 45331945, 45006982, 45422008, 46017954, 45594932, 45239585, 45790483, 45624997, 45566651, 45488489, 45374235, 45211384, 44746572, 44623317, 43710437, 42390118, 41728920, 41728897, 41618768, 45916450, 45916444, 45916438, 45916436, 45916426, 43075736, 45356648, 45932076, 45932054, 45931853, 45979542, 45565712, 45725050, 45725003, 45592974, 45592949, 44954797, 43706895, 45983945, 45983929, 45810787, 45738110, 44945464, 46018361, 46018360, 46018329, 46018327, 46018326, 45871531, 45871536, 45459978, 45904406, 46015636, 46005639, 46005564, 46005542, 45554496, 45987887, 45987754, 45951107, 45923500, 45923542, 45882608, 45882591, 45882552, 45878721, 45878680, 45784528, 45146934, 45825991, 45773919, 45773920, 45764093, 45597576, 45399429, 45109158, 39794656, 45275176, 37181985, 46034335, 45929412, 45207177, 45000815, 45907356, 45907358, 45953316, 45983027, 45983026, 39643081, 45074220, 43163709, 45870446, 45857534, 45857533, 45458476, 45265681, 45265652, 45795982, 45831382, 45792435, 45628234, 45288313, 41907029, 43143189, 46012783, 46012581, 45986498, 45986489, 45986469, 45986433, 45878764, 38062687, 43884560, 42835543, 41995340, 41147473, 40477204, 46041376, 45981357, 45852877, 45851292, 45677730, 45988965, 45975463, 45823124, 45823161, 45823169, 45823057, 44735089, 44735087, 44735080, 44735074, 46019238, 46019188, 46019176, 46019158, 46019132, 46019086, 45925681, 46024240, 45251251, 44369879, 36204613, 45815879, 42006503, 45989332, 38749486, 45230588, 45564875, 45490977, 45534145, 45325637, 45203543, 45019628, 45192962, 45844928, 45812304, 45812283, 46015764, 46015755, 46015700, 39431808, 45837696, 45609680, 45512246, 45726017, 45761928, 33715408, 46030066, 46005084, 45965433, 45940419, 45940417, 45888887, 45860588, 45860584, 45688280, 45778692, 45778677, 45383676, 43771502, 37303938, 45328138, 44921869, 45820185, 46012977, 45826082, 44040004, 43421033, 35013176, 45866743, 44151639, 40099730, 37985914, 41430442, 46037026, 46037022, 45834089, 45762147, 45958003, 45957835, 45984000, 45983995, 45983988, 45983938, 45396391, 45396387, 38293893, 45812265, 45810780, 45810801, 45958459, 46022592, 46022593, 46015633, 46015626, 46015441, 46005449, 46005427, 46005415, 46005402, 46005400, 46005393, 45790090, 45843539, 45990440, 45990974, 45990956, 45950945, 45950738, 45942085, 45889896, 45795896, 42928131, 45275207, 32670015, 41469511, 41469289, 33704632, 46037418, 46037414, 45953315, 45930002, 45929999, 45223550, 45803216, 44583794, 41351786, 44638529, 45352716, 44602597, 44479362, 44449076, 38314629, 45907357, 45907355, 45833853, 45790062, 45265653, 45743583, 45628106, 45203884, 45121840, 45000813, 37644888, 37644760, 34673748, 45945149, 45878207, 45878104, 44460591, 46041709, 45851294, 45748427, 45677743, 45227969, 44942301, 46004226, 45612318, 44815461, 45988966, 45975216, 45823077, 45823165, 45823166, 45823168, 45777865, 44843299, 39445849, 45887249, 15217860, 43103832, 44371689, 45935402, 45765796, 45949381, 46035032, 45946723, 45955665, 45955667, 45939088, 45923682, 45852099, 45819187, 45920143, 45920086, 45919916, 45919634, 45919341, 45717046, 45423855, 44430814, 45807778, 45423576, 37458331, 36508789, 46040770, 46040727, 44661023, 39613104, 39613041, 39611116, 39611015, 45784515, 45923164, 45923133, 45782764, 45664542, 45616335, 43234891, 40659526, 41342637, 46007557, 45946778, 45946777, 45509220, 45054844, 46040412, 45981803, 45937327, 41238842, 46008027, 45975504, 45905364, 44876738, 45764045, 45734051, 45733692, 45733659, 44377843, 24894894, 43913578, 45849639, 45742099, 45940418, 45862481, 45860587, 45860585, 45859898, 45798168, 44950525, 45758590, 45921400, 45911347, 45919267, 45333832, 46037024, 46037023, 37513258, 37513115, 31163927, 44700291, 45724354, 44879408, 44879391, 44879382, 43650948, 45844296, 45361084, 45738874, 45738885, 45744318, 45954989, 45954993, 45954994, 45555288, 45265669, 45916923, 45794952, 45941189, 45920746, 45844157, 45855042, 45671666, 46039983, 45493156, 43425200, 45510108, 45024962, 44739540, 45867155, 45867152, 45781588, 45954991, 45954988, 45831331, 45175065, 46028916, 46010644, 45871732, 44828661, 45923730, 43307749, 43019504, 45709543, 45828115, 45493465, 43424139, 40110406, 37716282, 45961101, 45207390, 43994816, 45990318, 45985869, 44854205, 45638310, 46027894, 42706540, 45963042, 44533236, 46039982, 46035578, 45960295, 45946697, 45946687, 45946644, 45946741, 45946706, 30758890, 45907308, 43927189, 30758883, 45204132, 45945109, 45571346, 45571314, 44904615, 45903813, 46030241, 45713082, 45384171, 46016353, 46005981, 46005945, 46005780, 46005733, 45850876, 45655637, 46034897, 46007533, 45761570, 45930347, 45970920, 45970905, 45970881, 45923721, 45976335, 45612532, 45612445, 45612359, 37413672, 46026279, 46026265, 46026209, 46026194, 46026148, 46023818, 46023780, 46016350, 46016339, 46016328, 46008386, 46005800, 46005772, 46005765, 43485448, 46035007, 46034998, 45846060, 45565950, 46031385, 46031344, 38335137, 45849546, 43636359, 45774734, 45774721, 38689559, 45723034, 45666916, 45911335, 45131783, 36726225, 45710537, 45026335, 44579804, 45389333, 43681295, 34287909, 45983722, 45026953, 45345676, 44487767, 44487671, 43965291, 43917155, 43545868, 28471870, 45990255, 45924252, 45903001, 45886367, 45886341, 45837676, 45837664, 45735782, 45735578, 45583580, 45596351, 45583504, 45596342, 45583450, 45384575, 45384550, 45384497, 45098453, 45196358, 45003858, 45003822, 43894282, 41624203, 45810819, 45810773, 45810783, 45810811, 45810812, 45810820, 45906365, 45858433, 45858448, 45820011, 45820020, 43905229, 43893157, 45944351, 45933557, 45774508, 36789880, 33954174, 45322040, 45948874, 45859204, 44714874, 44152348, 45978300, 45978296, 45978287, 45978288, 45265133, 45908296, 45802795, 45802666, 45613150, 45310227, 28099113, 45917783, 45871532, 45646327, 44262563, 45910285, 45876544, 45863122, 45863119, 45854664, 45806340, 45685518, 45676926, 45621906, 45613333, 45613334, 45567718, 45567713, 45567715, 45325717, 45325714, 45306249, 45256586, 45256588, 44995634, 44851338, 44796311, 44723130, 44598620, 44503561, 44332440, 44044574, 44042963, 43995372, 43687623, 42387501, 42011033, 41881616, 41325280, 41315786, 40960484, 45787409, 45409837, 44794428, 46029844, 46023606, 46022597, 45607742, 46015247, 46015122, 45983544, 45983527, 45983477, 45837947, 45837927, 45837856, 46005473, 46005456, 46005439, 45914827, 46004597, 46004600, 45988385, 45988193, 45987544, 45867634, 45867183, 45699878, 39711239, 45985898, 45985252, 45985232, 45985219, 45835592, 41681765, 45984100, 45578475, 45578383, 45979074, 45956584, 45946141, 45977678, 45948609, 45971159, 45971135, 45711587, 45711576, 44649464, 42122843, 45956440, 45950403, 45939802, 45945427, 45945432, 45711747, 45338843, 44787773, 45923565, 45791197, 45790938, 45923000, 45914797, 45914787, 45913177, 45843405, 45682552, 45888968, 45948537, 45811621, 45811629, 45811631, 45845535, 45845537, 45745699, 43485462, 45838111, 45837557, 45015581, 44522010, 39245490, 41541838, 45705153, 45664663, 45629697, 45629667, 44894519, 44874463, 44816291, 44694823, 44430057, 45547581, 45471444, 45491398, 45467388, 44718680, 44662448, 44662430, 44816185, 45341310, 44964231, 44803306, 43707769, 44176478, 43773653, 41303385, 41746492, 39124752, 37539122, 30526029, 46042618, 46042587, 46042569, 46038340, 46038304, 45945020, 45945013, 45901451, 45901432, 45891259, 45891143, 45850659, 45850645, 45777229, 45671695, 45671661, 45414888, 45414886, 45777269, 46038273, 46005812, 46005814, 46005817, 46005818, 45336772, 44708899, 39905247, 45933911, 45929403, 45890930, 45890929, 45074212, 45026615, 44548599, 44062603, 43233226, 42970234, 42200092, 45983714, 45983528, 45903811, 45952692, 45952694, 45947984, 45600405, 45311406, 45265736, 45909744, 45906402, 45753928, 45449561, 45322240, 44406922, 45891399, 45876420, 45872590, 45872538, 45872539, 45855767, 45855638, 45868694, 45868153, 45831310, 45831368, 45831344, 45831366, 45831429, 45831380, 45831428, 45322128, 45781472, 45763680, 45763677, 45763678, 45763676, 45750366, 45697234, 45667631, 45983350, 45934354, 45916955, 41690224, 45983342, 45554172, 45384513, 45361631, 45295935, 45295174, 44204368, 45612409, 45554124, 45361590, 45295923, 45295090, 44204202, 45406455, 44846611, 44724095, 44724087, 44077438, 46038079, 45728149, 46038421, 46017524, 45985832, 45970320, 45936400, 45933452, 45884639, 45845978, 45238240, 45989233, 45985160, 45974535, 45899967, 45866696, 45986367, 45986335, 45986230, 45973889, 45975848, 45975825, 45917081, 45917080, 45924274, 45911877, 45737777, 45737778, 44225312, 43617620, 45854495, 45571797, 45490102, 44286518, 46036871, 46030174, 46030172, 46008315, 45974971, 45878390, 45873059, 44929242, 44246117, 44977876, 46037736, 43633694, 40998854, 46032891, 45088290, 45027358, 43862268, 45770004, 46034874, 46029698, 46028974, 46019144, 45954387, 45942487, 45917726, 45875229, 45875113, 45874621, 45856137, 45836644, 45772309, 45772295, 45766679, 45681255, 45681217, 45666970, 45571297, 45534465, 45513385, 45317959, 45314777, 45105159, 44876842, 44373994, 44291924, 43750770, 42373302, 45979119, 45979120, 45978906, 45978907, 45978878, 45955831, 45946021, 45786702, 45047173, 44126945, 42711491, 40999873, 26527460, 45758158, 46006013, 45983729, 45958336, 45957786, 45946679, 45859653, 45781606, 45781478, 45781479, 45554502, 44993773, 34188732, 45300323, 44152253, 44262518, 45668360, 45668362, 45668359, 45668358, 45599084, 45594159, 44639970, 44287066, 45852550, 45842937, 45769146, 45981441, 45763252, 38305458, 45926472, 45823144, 45823146, 45305253, 45143712, 46012297, 46012274, 46012179, 46008143, 46000668, 45771381, 44967350, 44967174, 45219276, 45842949, 45003481, 45610966, 45956761, 45956680, 45949326, 44487361, 46006948, 45933515, 43950008, 42765599, 45207341, 42367809, 45922497, 45895362, 44890240, 46025212, 44742234, 18760534, 18523329, 45840333, 45828004, 46037425, 46020465, 46009801, 46005151, 46033437, 45961749, 45884953, 45537464, 45199469, 39312301, 43789616, 41155616, 39447632, 45773208, 45773182, 45454559, 20157509, 46037079, 46024241, 45954145, 44388373, 45627367, 45802282, 45501319, 44485213, 46024193, 46024170, 46023969, 46023943, 45815864, 45815868, 45920688, 45920684, 45920674, 45920667, 45920659, 45920627, 45920604, 45955678, 45874469, 45753344, 45848816, 45848810, 45583285, 45752993, 45976349, 45976342, 45627275, 45770013, 45726742, 44284989, 45934719, 36503279, 32874147, 28773360, 27797952, 27797923, 27797872, 27797823, 26035382, 14874903, 14874899, 14874895, 46023546, 46023544, 46023543, 46009506, 46008334, 45153401, 42488928, 45877152, 45877149, 45678739, 43467731, 45725098, 45725044, 45513850, 45203328, 45203327, 44943490, 44928498, 44928497, 42282701, 45280303, 45278818, 45278465, 45249231, 44741719, 44725877, 45113645, 44594453, 42966846, 39422206, 25406217, 45675487, 44967336, 44400348, 45935182, 45555875, 45983570, 45798686, 45797994, 44161851, 45939903, 45814580, 45814583, 45405855, 45724527, 42131055, 39423162, 45358033, 44896545, 38672831, 34277247, 33280375, 46040131, 46040138, 46040130, 46040137, 46040133, 46040135, 46040134, 46040128, 46040127, 45978663, 46039846, 46007244, 46007249, 46018257, 45937228, 45937238, 46009037, 46009008, 45984147, 45984139, 45969205, 45959939, 45905273, 45820608, 45572740, 45922044, 45922036, 45922030, 45922019, 45656467, 45389410, 45550762, 45264206, 45264202, 44622523, 44026043, 45277667, 45277663, 46023776, 45974505, 45974479, 45816903, 45816920, 45816925, 45816932, 45501566, 45501542, 45924227, 46029085, 44426237, 40798000, 45157825, 45767598, 45767373, 45655942, 44252544, 44242535, 43718996, 41394039, 33734677, 45240680, 45065418, 44979322, 42155960, 45929889, 45929881, 45875417, 45906047, 41479110, 45823213, 45823211, 45806322, 45806321, 30222122, 46018480, 45957697, 45687759, 45686916, 45686553, 45686409, 45983727, 45983696, 45983677, 45924228, 45837444, 45799375, 45666207, 45665746, 46034330, 45881095, 45881084, 45881059, 45881014, 45604710, 45604702, 45270220, 46019340, 46019292, 46019260, 46019185, 46019182, 46019164, 46019155, 46019140, 46019129, 46019109, 46019102, 45929235, 45911180, 45911175, 45936602, 45811241, 45811263, 45811267, 45811186, 45813896, 45813872, 45748504, 40587956, 39583342, 45990442, 45990433, 45990402, 45990237, 46015694, 45989320, 44680134, 44680133, 44680135, 45942311, 45942234, 45864238, 45864102, 45571242, 45570936, 45004309, 44927523, 43393634, 42750570, 41247964, 41247972, 45871712, 45984002, 45897882, 45820005, 45820006, 45810792, 45810797, 45810799, 45810807, 45810817, 45933565, 46014895, 45956794, 45930129, 45930125, 45930128, 45930127, 45910283, 45910284, 45910282, 45876549, 45863120, 45854663, 45806344, 45806343, 45806342, 45673199, 45621912, 45613335, 45607709, 45381264, 45256606, 45256605, 45181656, 45181657, 45056713, 45056717, 44666991, 44503572, 44234393, 43970972, 43016621, 40632554, 40580233, 45978289, 45978286, 45978291, 45978290, 45917777, 45917776, 45449817, 45964048, 45957754, 45946055, 45801654, 45745443, 45745425, 45570475, 43826879, 42867874, 31542755, 45924986, 45787540, 45409836, 45409841, 45409839, 45409838, 45409835, 45135107, 44794425, 44794429, 44097559, 42413488, 41859495, 44778313, 45948013, 45343052, 44656239, 46038122, 46038121, 46029848, 46029845, 46025856, 46025622, 46025459, 46022598, 46022463, 45867668, 45867663, 45867649, 45867628, 45867627, 45867032, 45867008, 45866976, 45172067, 44742629, 46007713, 45860165, 45723074, 45248614, 46017608, 45667307, 46005422, 45985460, 45985309, 45843495, 45843460, 46004602, 46004598, 39415881, 45560962, 38972926, 45985977, 45985958, 45986009, 45985981, 45986191, 45986002, 45877187, 45984105, 45097124, 45097115, 46016161, 45979563, 45979525, 45979123, 45979090, 45948712, 45971229, 45960816, 45956365, 45950289, 45942252, 45942242, 45942226, 45942211, 45927499, 45923020, 45922458, 45922449, 45915021, 45913315, 45913188, 45843377, 45176108, 45910807, 45905745, 45901329, 45901261, 45901084, 45487344, 45487305, 44877973, 43485533, 45811626, 45811628, 45811632, 45811637, 45811646, 45201895, 44907285, 45398563, 45398444, 45398443, 45220431, 45362136, 45743661, 45362129, 45743073, 45743038, 45737478, 45980381, 45980363, 44161063, 42552882, 44826711, 43927336, 45229959, 45666851, 45656774, 45664578, 45535860, 45320612, 45496523, 44915186, 45309543, 45097190, 45097159, 45021561, 45744951, 44641062, 43973382, 44561362, 43669172, 43669165, 42965125, 41844541, 39409092, 40132835, 35303855, 34583617, 34315355, 46042334, 45744349, 45744333, 45989492, 46038373, 46038191, 45714188, 46024215, 46024207, 46024202, 46024200, 46024197, 45922498, 46030082, 45981648, 45981633, 45553633, 45553658, 46016193, 46015290, 46005815, 46005816, 45990968, 45990942, 45956054, 45892980, 45892963, 45892961, 45835560, 45753932, 45690619, 45644684, 45644674, 45644664, 45322265, 44938892, 44897114, 44852782, 44514096, 44153348, 45990338, 45990339, 45990337, 45984176, 45984168, 45903051, 45600404, 45600406, 45594969, 45203789, 44041915, 45976300, 45964177, 45963962, 45963564, 45957109, 45952885, 45929664, 45901417, 45900946, 45870456, 45870440, 45850594, 45831351, 45744197, 45744151, 43532556, 45389189, 45340766, 45117075, 45079017, 42833918, 44944778, 44915280, 44837604, 44770635, 44580857, 44551665, 44441797, 44372080, 43637103, 43352746, 43576891, 43379087, 41553516, 43819105, 45984750, 45947885, 45933371, 45676277, 45635671, 45096089, 44667864, 43564912, 43493965, 45974526, 44944767, 44119355, 45287734, 46022997, 46018959, 38371812, 46012306, 46012291, 46012247, 45964487, 45566292, 45406925, 44893040, 44108914, 36682399, 45338231, 45902393, 45162809, 45006014, 42594121, 44361701, 38465469, 45934441, 45934366, 45869808, 45305251, 45143714, 45176190, 45167179, 45167177, 32706003, 46008239, 46008237, 46008238, 46029813, 45948162, 45962209, 45795245, 45673498, 45303972, 45121402, 46015301, 46015303, 46005148, 30508973, 45874380, 45874351, 45736582, 44140027, 45686847, 45686173, 43065220, 39447606, 39447623, 45823947, 45959310, 45959312, 45947454, 46032137, 45885966, 45351021, 45211878, 43779228, 45618756, 44561788, 44561772, 45941469, 45941387, 43348793, 44059417, 41547803, 34137327, 45281067, 45920703, 45920701, 45920698, 45920697, 45955717, 45955705, 45955697, 45955638, 45955633, 45848825, 45815986, 45815873, 45752947, 44613236, 45740219, 45936473, 45351698, 46031230, 46009644, 46006081, 46006056, 46006007, 45976288, 46031671, 46042051, 42348815, 45626155, 45228304, 44252987, 43957369, 44797875, 45977335, 45934521, 45838420, 45716611, 45707919, 39846656, 39846519, 39813172, 39813087, 36503366, 36503291, 33635833, 33635810, 27252704, 29555313, 46026320, 45843273, 45843060, 45843056, 45169156, 45494429, 45203325, 44739232, 43467416, 42261369, 45278587, 45278513, 45249223, 44815214, 44815165, 44814855, 44742737, 43938005, 42591014, 39380197, 34111953, 26024994, 45062298, 44759434, 45931538] not found in axis'"
     ]
    }
   ],
   "source": [
    "dogs = dogs.drop(duplicati)"
   ]
  },
  {
   "cell_type": "code",
   "execution_count": null,
   "id": "14b42239",
   "metadata": {},
   "outputs": [],
   "source": []
  }
 ],
 "metadata": {
  "kernelspec": {
   "display_name": "Python 3 (ipykernel)",
   "language": "python",
   "name": "python3"
  },
  "language_info": {
   "codemirror_mode": {
    "name": "ipython",
    "version": 3
   },
   "file_extension": ".py",
   "mimetype": "text/x-python",
   "name": "python",
   "nbconvert_exporter": "python",
   "pygments_lexer": "ipython3",
   "version": "3.9.13"
  }
 },
 "nbformat": 4,
 "nbformat_minor": 5
}
